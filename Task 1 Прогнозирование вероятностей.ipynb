{
 "cells": [
  {
   "cell_type": "markdown",
   "id": "67be07d8",
   "metadata": {},
   "source": [
    "### Задание выполнила Колесниченко Ксения Сергеевна.\n",
    "Контакты https://www.linkedin.com/in/kseniia-kolesnichenko/\n",
    "\n",
    "\n",
    "\n",
    "За основу взято решение, предоставленное на Habr https://habr.com/ru/post/414613/\n",
    "Несмотря на всю важность предобработки данных и создания новых переменных, в качестве  источника данных загружены уже предобработанные в указанном кернеле данные. \n",
    "\n",
    "Исходя из анализа имеющегося кернела, наилучшую корреляцию с целевой переменной имеют признаки-факторы EXT_SOURCE_1, EXT_SOURCE_2, EXT_SOURCE_3. Однако, исходя из анализа кернела, наилучший целевой показатель (площадь под кривой ROC-AUC) получают модели, в которые включены все данные из всех таблиц. \n",
    "\n",
    "Известно, что на данный момент наилучший показатель = 0,85, а представленные автором модели дают результат порядка 0,77-0,78\n",
    "\n",
    "В настоящей работе представлены результаты обучения таких продвинутых алгоритмов, как XGBoost, LGBM, CatBoost, ансамбль стекинга, а так же сложная методика с разделением на фолды, кросс-валидацией и выбором лучшей итерации. "
   ]
  },
  {
   "cell_type": "code",
   "execution_count": 45,
   "id": "3ab97c80",
   "metadata": {},
   "outputs": [],
   "source": [
    "import pandas as pd\n",
    "import matplotlib.pyplot as plt\n",
    "import numpy as np\n",
    "import seaborn as sns\n",
    "%matplotlib inline\n",
    "\n",
    "from sklearn.model_selection import GridSearchCV,RandomizedSearchCV \n",
    "\n",
    "import pandas as pd \n",
    "from lightgbm import LGBMClassifier\n",
    "\n",
    "# importing all system modules\n",
    "import os\n",
    "import sys\n",
    "import warnings\n",
    "from pathlib import Path\n",
    "warnings.filterwarnings('ignore')\n",
    "\n",
    "\n",
    "# importing data science modules\n",
    "import pandas as pd\n",
    "import numpy as np\n",
    "import sklearn\n",
    "import scipy as sp\n",
    "import pickleshare\n",
    "\n",
    "# importing graphics modules\n",
    "import matplotlib.pyplot as plt\n",
    "import seaborn as sns\n",
    "# importing personal data science modules\n",
    "import rand_eda as eda\n",
    "\n",
    "from xgboost import XGBClassifier\n",
    "import xgboost as xgb\n",
    "from sklearn.model_selection import train_test_split, KFold\n",
    "from sklearn.metrics import accuracy_score, roc_auc_score, confusion_matrix\n",
    "import gc\n",
    "\n",
    "from sklearn.pipeline import make_pipeline\n",
    "from sklearn.ensemble import StackingClassifier\n",
    "from sklearn.linear_model import LogisticRegression\n"
   ]
  },
  {
   "cell_type": "code",
   "execution_count": 2,
   "id": "dadb1979",
   "metadata": {},
   "outputs": [
    {
     "name": "stdout",
     "output_type": "stream",
     "text": [
      "Wall time: 16.1 s\n"
     ]
    }
   ],
   "source": [
    "%%time\n",
    "app_train = pd.read_csv(\"data_control.csv\")\n",
    "y= pd.read_csv(\"y_control.csv\")\n",
    "app_test = pd.read_csv(\"test_control.csv\")\n",
    "app_train.y=y['TARGET']"
   ]
  },
  {
   "cell_type": "code",
   "execution_count": 3,
   "id": "45310d7a",
   "metadata": {},
   "outputs": [],
   "source": [
    "X=app_train.iloc[:,:-1]\n",
    "y=app_train.y"
   ]
  },
  {
   "cell_type": "code",
   "execution_count": 4,
   "id": "a8192e77",
   "metadata": {},
   "outputs": [],
   "source": [
    "X_train, X_valid, y_train, y_valid = train_test_split(X, y, train_size=0.65, test_size=0.35, random_state=42)"
   ]
  },
  {
   "cell_type": "code",
   "execution_count": null,
   "id": "354a9376",
   "metadata": {},
   "outputs": [],
   "source": [
    "##app_train['TARGET']=y"
   ]
  },
  {
   "cell_type": "code",
   "execution_count": 65,
   "id": "63cdf31e",
   "metadata": {},
   "outputs": [
    {
     "name": "stdout",
     "output_type": "stream",
     "text": [
      "[04:46:41] WARNING: C:/Users/Administrator/workspace/xgboost-win64_release_1.5.0/src/learner.cc:1115: Starting in XGBoost 1.3.0, the default evaluation metric used with the objective 'binary:logistic' was changed from 'error' to 'logloss'. Explicitly set eval_metric if you'd like to restore the old behavior.\n",
      "Wall time: 2min 3s\n",
      "Parser   : 208 ms\n"
     ]
    }
   ],
   "source": [
    "%%time\n",
    "xgb_clf = xgb.XGBClassifier(learning_rate=0.1)\n",
    "xgb_clf = xgb_clf.fit(X_train, y_train)\n",
    "\n",
    "probabilities =xgb_clf.predict_proba(X_valid)\n",
    "submission_xgb = pd.DataFrame({\n",
    "#    'SK_ID_CURR': app_test['SK_ID_CURR'],\n",
    "    'TARGET':     [ row[1] for row in probabilities]\n",
    "})\n",
    "submission_xgb.to_csv(\"XGBClassifier_full_data_17.csv\", index=False)\n",
    "\n",
    "\n",
    "submission_xgb = pd.DataFrame({\n",
    "#    'SK_ID_CURR': app_test['SK_ID_CURR'],\n",
    "    'TARGET':     [ row[1] for row in probabilities]\n",
    "})\n",
    "y_valid_pred_xgb=submission_xgb\n",
    "submission_xgb.to_csv(\"xgbClassifier_17.csv\", index=False)"
   ]
  },
  {
   "cell_type": "markdown",
   "id": "4e5a351b",
   "metadata": {},
   "source": [
    "roc_auc_score(y_valid, y_valid_pred_xgb)"
   ]
  },
  {
   "cell_type": "code",
   "execution_count": 91,
   "id": "5bc3681f",
   "metadata": {},
   "outputs": [],
   "source": [
    "\n",
    "probabilities =xgb_clf.predict_proba(app_test.iloc[:,:-1])\n",
    "submission_xgb065 = pd.DataFrame({\n",
    "    'SK_ID_CURR': app_test['SK_ID_CURR'],\n",
    "    'TARGET':     [ row[1] for row in probabilities]\n",
    "})\n",
    "submission_xgb065.to_csv(\"XGBClassifier_full_data_17065.csv\", index=False)\n",
    "\n",
    "y_valid_pred_xgb=submission_xgb065"
   ]
  },
  {
   "cell_type": "markdown",
   "id": "15eab364",
   "metadata": {},
   "source": [
    "Результат проверки на тестовых данных (на платформе Kaggle) = Score: 0.75608, что говорит\n",
    "о недообученности модели, по сравнению со значением 0.78 на трейне  "
   ]
  },
  {
   "cell_type": "markdown",
   "id": "a7272deb",
   "metadata": {},
   "source": [
    "Очень хотелось бы найти наилучшие показатели, но, к сожалению, мощностей не хватает. "
   ]
  },
  {
   "cell_type": "code",
   "execution_count": 49,
   "id": "12adc09c",
   "metadata": {},
   "outputs": [
    {
     "name": "stdout",
     "output_type": "stream",
     "text": [
      "Fitting 5 folds for each of 10 candidates, totalling 50 fits\n"
     ]
    },
    {
     "ename": "MemoryError",
     "evalue": "Unable to allocate 221. MiB for an array with shape (181, 159905) and data type int64",
     "output_type": "error",
     "traceback": [
      "\u001b[1;31m---------------------------------------------------------------------------\u001b[0m",
      "\u001b[1;31m_RemoteTraceback\u001b[0m                          Traceback (most recent call last)",
      "\u001b[1;31m_RemoteTraceback\u001b[0m: \n\"\"\"\nTraceback (most recent call last):\n  File \"C:\\ProgramData\\Anaconda3\\lib\\site-packages\\joblib\\externals\\loky\\process_executor.py\", line 431, in _process_worker\n    r = call_item()\n  File \"C:\\ProgramData\\Anaconda3\\lib\\site-packages\\joblib\\externals\\loky\\process_executor.py\", line 285, in __call__\n    return self.fn(*self.args, **self.kwargs)\n  File \"C:\\ProgramData\\Anaconda3\\lib\\site-packages\\joblib\\_parallel_backends.py\", line 595, in __call__\n    return self.func(*args, **kwargs)\n  File \"C:\\ProgramData\\Anaconda3\\lib\\site-packages\\joblib\\parallel.py\", line 262, in __call__\n    return [func(*args, **kwargs)\n  File \"C:\\ProgramData\\Anaconda3\\lib\\site-packages\\joblib\\parallel.py\", line 262, in <listcomp>\n    return [func(*args, **kwargs)\n  File \"C:\\ProgramData\\Anaconda3\\lib\\site-packages\\sklearn\\utils\\fixes.py\", line 222, in __call__\n    return self.function(*args, **kwargs)\n  File \"C:\\ProgramData\\Anaconda3\\lib\\site-packages\\sklearn\\model_selection\\_validation.py\", line 590, in _fit_and_score\n    X_train, y_train = _safe_split(estimator, X, y, train)\n  File \"C:\\ProgramData\\Anaconda3\\lib\\site-packages\\sklearn\\utils\\metaestimators.py\", line 211, in _safe_split\n    X_subset = _safe_indexing(X, indices)\n  File \"C:\\ProgramData\\Anaconda3\\lib\\site-packages\\sklearn\\utils\\__init__.py\", line 342, in _safe_indexing\n    return _pandas_indexing(X, indices, indices_dtype, axis=axis)\n  File \"C:\\ProgramData\\Anaconda3\\lib\\site-packages\\sklearn\\utils\\__init__.py\", line 193, in _pandas_indexing\n    return indexer[:, key] if axis else indexer[key]\n  File \"C:\\ProgramData\\Anaconda3\\lib\\site-packages\\pandas\\core\\indexing.py\", line 895, in __getitem__\n    return self._getitem_axis(maybe_callable, axis=axis)\n  File \"C:\\ProgramData\\Anaconda3\\lib\\site-packages\\pandas\\core\\indexing.py\", line 1492, in _getitem_axis\n    return self._get_list_axis(key, axis=axis)\n  File \"C:\\ProgramData\\Anaconda3\\lib\\site-packages\\pandas\\core\\indexing.py\", line 1474, in _get_list_axis\n    return self.obj._take_with_is_copy(key, axis=axis)\n  File \"C:\\ProgramData\\Anaconda3\\lib\\site-packages\\pandas\\core\\generic.py\", line 3600, in _take_with_is_copy\n    result = self.take(indices=indices, axis=axis)\n  File \"C:\\ProgramData\\Anaconda3\\lib\\site-packages\\pandas\\core\\generic.py\", line 3586, in take\n    new_data = self._mgr.take(\n  File \"C:\\ProgramData\\Anaconda3\\lib\\site-packages\\pandas\\core\\internals\\managers.py\", line 1474, in take\n    return self.reindex_indexer(\n  File \"C:\\ProgramData\\Anaconda3\\lib\\site-packages\\pandas\\core\\internals\\managers.py\", line 1311, in reindex_indexer\n    new_blocks = [\n  File \"C:\\ProgramData\\Anaconda3\\lib\\site-packages\\pandas\\core\\internals\\managers.py\", line 1312, in <listcomp>\n    blk.take_nd(\n  File \"C:\\ProgramData\\Anaconda3\\lib\\site-packages\\pandas\\core\\internals\\blocks.py\", line 1395, in take_nd\n    new_values = algos.take_nd(\n  File \"C:\\ProgramData\\Anaconda3\\lib\\site-packages\\pandas\\core\\algorithms.py\", line 1754, in take_nd\n    out = np.empty(out_shape, dtype=dtype)\nnumpy.core._exceptions._ArrayMemoryError: Unable to allocate 221. MiB for an array with shape (181, 159905) and data type int64\n\"\"\"",
      "\nThe above exception was the direct cause of the following exception:\n",
      "\u001b[1;31mMemoryError\u001b[0m                               Traceback (most recent call last)",
      "\u001b[1;32m<timed exec>\u001b[0m in \u001b[0;36m<module>\u001b[1;34m\u001b[0m\n",
      "\u001b[1;32mC:\\ProgramData\\Anaconda3\\lib\\site-packages\\sklearn\\utils\\validation.py\u001b[0m in \u001b[0;36minner_f\u001b[1;34m(*args, **kwargs)\u001b[0m\n\u001b[0;32m     61\u001b[0m             \u001b[0mextra_args\u001b[0m \u001b[1;33m=\u001b[0m \u001b[0mlen\u001b[0m\u001b[1;33m(\u001b[0m\u001b[0margs\u001b[0m\u001b[1;33m)\u001b[0m \u001b[1;33m-\u001b[0m \u001b[0mlen\u001b[0m\u001b[1;33m(\u001b[0m\u001b[0mall_args\u001b[0m\u001b[1;33m)\u001b[0m\u001b[1;33m\u001b[0m\u001b[1;33m\u001b[0m\u001b[0m\n\u001b[0;32m     62\u001b[0m             \u001b[1;32mif\u001b[0m \u001b[0mextra_args\u001b[0m \u001b[1;33m<=\u001b[0m \u001b[1;36m0\u001b[0m\u001b[1;33m:\u001b[0m\u001b[1;33m\u001b[0m\u001b[1;33m\u001b[0m\u001b[0m\n\u001b[1;32m---> 63\u001b[1;33m                 \u001b[1;32mreturn\u001b[0m \u001b[0mf\u001b[0m\u001b[1;33m(\u001b[0m\u001b[1;33m*\u001b[0m\u001b[0margs\u001b[0m\u001b[1;33m,\u001b[0m \u001b[1;33m**\u001b[0m\u001b[0mkwargs\u001b[0m\u001b[1;33m)\u001b[0m\u001b[1;33m\u001b[0m\u001b[1;33m\u001b[0m\u001b[0m\n\u001b[0m\u001b[0;32m     64\u001b[0m \u001b[1;33m\u001b[0m\u001b[0m\n\u001b[0;32m     65\u001b[0m             \u001b[1;31m# extra_args > 0\u001b[0m\u001b[1;33m\u001b[0m\u001b[1;33m\u001b[0m\u001b[1;33m\u001b[0m\u001b[0m\n",
      "\u001b[1;32mC:\\ProgramData\\Anaconda3\\lib\\site-packages\\sklearn\\model_selection\\_search.py\u001b[0m in \u001b[0;36mfit\u001b[1;34m(self, X, y, groups, **fit_params)\u001b[0m\n\u001b[0;32m    839\u001b[0m                 \u001b[1;32mreturn\u001b[0m \u001b[0mresults\u001b[0m\u001b[1;33m\u001b[0m\u001b[1;33m\u001b[0m\u001b[0m\n\u001b[0;32m    840\u001b[0m \u001b[1;33m\u001b[0m\u001b[0m\n\u001b[1;32m--> 841\u001b[1;33m             \u001b[0mself\u001b[0m\u001b[1;33m.\u001b[0m\u001b[0m_run_search\u001b[0m\u001b[1;33m(\u001b[0m\u001b[0mevaluate_candidates\u001b[0m\u001b[1;33m)\u001b[0m\u001b[1;33m\u001b[0m\u001b[1;33m\u001b[0m\u001b[0m\n\u001b[0m\u001b[0;32m    842\u001b[0m \u001b[1;33m\u001b[0m\u001b[0m\n\u001b[0;32m    843\u001b[0m             \u001b[1;31m# multimetric is determined here because in the case of a callable\u001b[0m\u001b[1;33m\u001b[0m\u001b[1;33m\u001b[0m\u001b[1;33m\u001b[0m\u001b[0m\n",
      "\u001b[1;32mC:\\ProgramData\\Anaconda3\\lib\\site-packages\\sklearn\\model_selection\\_search.py\u001b[0m in \u001b[0;36m_run_search\u001b[1;34m(self, evaluate_candidates)\u001b[0m\n\u001b[0;32m   1631\u001b[0m     \u001b[1;32mdef\u001b[0m \u001b[0m_run_search\u001b[0m\u001b[1;33m(\u001b[0m\u001b[0mself\u001b[0m\u001b[1;33m,\u001b[0m \u001b[0mevaluate_candidates\u001b[0m\u001b[1;33m)\u001b[0m\u001b[1;33m:\u001b[0m\u001b[1;33m\u001b[0m\u001b[1;33m\u001b[0m\u001b[0m\n\u001b[0;32m   1632\u001b[0m         \u001b[1;34m\"\"\"Search n_iter candidates from param_distributions\"\"\"\u001b[0m\u001b[1;33m\u001b[0m\u001b[1;33m\u001b[0m\u001b[0m\n\u001b[1;32m-> 1633\u001b[1;33m         evaluate_candidates(ParameterSampler(\n\u001b[0m\u001b[0;32m   1634\u001b[0m             \u001b[0mself\u001b[0m\u001b[1;33m.\u001b[0m\u001b[0mparam_distributions\u001b[0m\u001b[1;33m,\u001b[0m \u001b[0mself\u001b[0m\u001b[1;33m.\u001b[0m\u001b[0mn_iter\u001b[0m\u001b[1;33m,\u001b[0m\u001b[1;33m\u001b[0m\u001b[1;33m\u001b[0m\u001b[0m\n\u001b[0;32m   1635\u001b[0m             random_state=self.random_state))\n",
      "\u001b[1;32mC:\\ProgramData\\Anaconda3\\lib\\site-packages\\sklearn\\model_selection\\_search.py\u001b[0m in \u001b[0;36mevaluate_candidates\u001b[1;34m(candidate_params, cv, more_results)\u001b[0m\n\u001b[0;32m    793\u001b[0m                               n_splits, n_candidates, n_candidates * n_splits))\n\u001b[0;32m    794\u001b[0m \u001b[1;33m\u001b[0m\u001b[0m\n\u001b[1;32m--> 795\u001b[1;33m                 out = parallel(delayed(_fit_and_score)(clone(base_estimator),\n\u001b[0m\u001b[0;32m    796\u001b[0m                                                        \u001b[0mX\u001b[0m\u001b[1;33m,\u001b[0m \u001b[0my\u001b[0m\u001b[1;33m,\u001b[0m\u001b[1;33m\u001b[0m\u001b[1;33m\u001b[0m\u001b[0m\n\u001b[0;32m    797\u001b[0m                                                        \u001b[0mtrain\u001b[0m\u001b[1;33m=\u001b[0m\u001b[0mtrain\u001b[0m\u001b[1;33m,\u001b[0m \u001b[0mtest\u001b[0m\u001b[1;33m=\u001b[0m\u001b[0mtest\u001b[0m\u001b[1;33m,\u001b[0m\u001b[1;33m\u001b[0m\u001b[1;33m\u001b[0m\u001b[0m\n",
      "\u001b[1;32mC:\\ProgramData\\Anaconda3\\lib\\site-packages\\joblib\\parallel.py\u001b[0m in \u001b[0;36m__call__\u001b[1;34m(self, iterable)\u001b[0m\n\u001b[0;32m   1052\u001b[0m \u001b[1;33m\u001b[0m\u001b[0m\n\u001b[0;32m   1053\u001b[0m             \u001b[1;32mwith\u001b[0m \u001b[0mself\u001b[0m\u001b[1;33m.\u001b[0m\u001b[0m_backend\u001b[0m\u001b[1;33m.\u001b[0m\u001b[0mretrieval_context\u001b[0m\u001b[1;33m(\u001b[0m\u001b[1;33m)\u001b[0m\u001b[1;33m:\u001b[0m\u001b[1;33m\u001b[0m\u001b[1;33m\u001b[0m\u001b[0m\n\u001b[1;32m-> 1054\u001b[1;33m                 \u001b[0mself\u001b[0m\u001b[1;33m.\u001b[0m\u001b[0mretrieve\u001b[0m\u001b[1;33m(\u001b[0m\u001b[1;33m)\u001b[0m\u001b[1;33m\u001b[0m\u001b[1;33m\u001b[0m\u001b[0m\n\u001b[0m\u001b[0;32m   1055\u001b[0m             \u001b[1;31m# Make sure that we get a last message telling us we are done\u001b[0m\u001b[1;33m\u001b[0m\u001b[1;33m\u001b[0m\u001b[1;33m\u001b[0m\u001b[0m\n\u001b[0;32m   1056\u001b[0m             \u001b[0melapsed_time\u001b[0m \u001b[1;33m=\u001b[0m \u001b[0mtime\u001b[0m\u001b[1;33m.\u001b[0m\u001b[0mtime\u001b[0m\u001b[1;33m(\u001b[0m\u001b[1;33m)\u001b[0m \u001b[1;33m-\u001b[0m \u001b[0mself\u001b[0m\u001b[1;33m.\u001b[0m\u001b[0m_start_time\u001b[0m\u001b[1;33m\u001b[0m\u001b[1;33m\u001b[0m\u001b[0m\n",
      "\u001b[1;32mC:\\ProgramData\\Anaconda3\\lib\\site-packages\\joblib\\parallel.py\u001b[0m in \u001b[0;36mretrieve\u001b[1;34m(self)\u001b[0m\n\u001b[0;32m    931\u001b[0m             \u001b[1;32mtry\u001b[0m\u001b[1;33m:\u001b[0m\u001b[1;33m\u001b[0m\u001b[1;33m\u001b[0m\u001b[0m\n\u001b[0;32m    932\u001b[0m                 \u001b[1;32mif\u001b[0m \u001b[0mgetattr\u001b[0m\u001b[1;33m(\u001b[0m\u001b[0mself\u001b[0m\u001b[1;33m.\u001b[0m\u001b[0m_backend\u001b[0m\u001b[1;33m,\u001b[0m \u001b[1;34m'supports_timeout'\u001b[0m\u001b[1;33m,\u001b[0m \u001b[1;32mFalse\u001b[0m\u001b[1;33m)\u001b[0m\u001b[1;33m:\u001b[0m\u001b[1;33m\u001b[0m\u001b[1;33m\u001b[0m\u001b[0m\n\u001b[1;32m--> 933\u001b[1;33m                     \u001b[0mself\u001b[0m\u001b[1;33m.\u001b[0m\u001b[0m_output\u001b[0m\u001b[1;33m.\u001b[0m\u001b[0mextend\u001b[0m\u001b[1;33m(\u001b[0m\u001b[0mjob\u001b[0m\u001b[1;33m.\u001b[0m\u001b[0mget\u001b[0m\u001b[1;33m(\u001b[0m\u001b[0mtimeout\u001b[0m\u001b[1;33m=\u001b[0m\u001b[0mself\u001b[0m\u001b[1;33m.\u001b[0m\u001b[0mtimeout\u001b[0m\u001b[1;33m)\u001b[0m\u001b[1;33m)\u001b[0m\u001b[1;33m\u001b[0m\u001b[1;33m\u001b[0m\u001b[0m\n\u001b[0m\u001b[0;32m    934\u001b[0m                 \u001b[1;32melse\u001b[0m\u001b[1;33m:\u001b[0m\u001b[1;33m\u001b[0m\u001b[1;33m\u001b[0m\u001b[0m\n\u001b[0;32m    935\u001b[0m                     \u001b[0mself\u001b[0m\u001b[1;33m.\u001b[0m\u001b[0m_output\u001b[0m\u001b[1;33m.\u001b[0m\u001b[0mextend\u001b[0m\u001b[1;33m(\u001b[0m\u001b[0mjob\u001b[0m\u001b[1;33m.\u001b[0m\u001b[0mget\u001b[0m\u001b[1;33m(\u001b[0m\u001b[1;33m)\u001b[0m\u001b[1;33m)\u001b[0m\u001b[1;33m\u001b[0m\u001b[1;33m\u001b[0m\u001b[0m\n",
      "\u001b[1;32mC:\\ProgramData\\Anaconda3\\lib\\site-packages\\joblib\\_parallel_backends.py\u001b[0m in \u001b[0;36mwrap_future_result\u001b[1;34m(future, timeout)\u001b[0m\n\u001b[0;32m    540\u001b[0m         AsyncResults.get from multiprocessing.\"\"\"\n\u001b[0;32m    541\u001b[0m         \u001b[1;32mtry\u001b[0m\u001b[1;33m:\u001b[0m\u001b[1;33m\u001b[0m\u001b[1;33m\u001b[0m\u001b[0m\n\u001b[1;32m--> 542\u001b[1;33m             \u001b[1;32mreturn\u001b[0m \u001b[0mfuture\u001b[0m\u001b[1;33m.\u001b[0m\u001b[0mresult\u001b[0m\u001b[1;33m(\u001b[0m\u001b[0mtimeout\u001b[0m\u001b[1;33m=\u001b[0m\u001b[0mtimeout\u001b[0m\u001b[1;33m)\u001b[0m\u001b[1;33m\u001b[0m\u001b[1;33m\u001b[0m\u001b[0m\n\u001b[0m\u001b[0;32m    543\u001b[0m         \u001b[1;32mexcept\u001b[0m \u001b[0mCfTimeoutError\u001b[0m \u001b[1;32mas\u001b[0m \u001b[0me\u001b[0m\u001b[1;33m:\u001b[0m\u001b[1;33m\u001b[0m\u001b[1;33m\u001b[0m\u001b[0m\n\u001b[0;32m    544\u001b[0m             \u001b[1;32mraise\u001b[0m \u001b[0mTimeoutError\u001b[0m \u001b[1;32mfrom\u001b[0m \u001b[0me\u001b[0m\u001b[1;33m\u001b[0m\u001b[1;33m\u001b[0m\u001b[0m\n",
      "\u001b[1;32mC:\\ProgramData\\Anaconda3\\lib\\concurrent\\futures\\_base.py\u001b[0m in \u001b[0;36mresult\u001b[1;34m(self, timeout)\u001b[0m\n\u001b[0;32m    442\u001b[0m                     \u001b[1;32mraise\u001b[0m \u001b[0mCancelledError\u001b[0m\u001b[1;33m(\u001b[0m\u001b[1;33m)\u001b[0m\u001b[1;33m\u001b[0m\u001b[1;33m\u001b[0m\u001b[0m\n\u001b[0;32m    443\u001b[0m                 \u001b[1;32melif\u001b[0m \u001b[0mself\u001b[0m\u001b[1;33m.\u001b[0m\u001b[0m_state\u001b[0m \u001b[1;33m==\u001b[0m \u001b[0mFINISHED\u001b[0m\u001b[1;33m:\u001b[0m\u001b[1;33m\u001b[0m\u001b[1;33m\u001b[0m\u001b[0m\n\u001b[1;32m--> 444\u001b[1;33m                     \u001b[1;32mreturn\u001b[0m \u001b[0mself\u001b[0m\u001b[1;33m.\u001b[0m\u001b[0m__get_result\u001b[0m\u001b[1;33m(\u001b[0m\u001b[1;33m)\u001b[0m\u001b[1;33m\u001b[0m\u001b[1;33m\u001b[0m\u001b[0m\n\u001b[0m\u001b[0;32m    445\u001b[0m                 \u001b[1;32melse\u001b[0m\u001b[1;33m:\u001b[0m\u001b[1;33m\u001b[0m\u001b[1;33m\u001b[0m\u001b[0m\n\u001b[0;32m    446\u001b[0m                     \u001b[1;32mraise\u001b[0m \u001b[0mTimeoutError\u001b[0m\u001b[1;33m(\u001b[0m\u001b[1;33m)\u001b[0m\u001b[1;33m\u001b[0m\u001b[1;33m\u001b[0m\u001b[0m\n",
      "\u001b[1;32mC:\\ProgramData\\Anaconda3\\lib\\concurrent\\futures\\_base.py\u001b[0m in \u001b[0;36m__get_result\u001b[1;34m(self)\u001b[0m\n\u001b[0;32m    387\u001b[0m         \u001b[1;32mif\u001b[0m \u001b[0mself\u001b[0m\u001b[1;33m.\u001b[0m\u001b[0m_exception\u001b[0m\u001b[1;33m:\u001b[0m\u001b[1;33m\u001b[0m\u001b[1;33m\u001b[0m\u001b[0m\n\u001b[0;32m    388\u001b[0m             \u001b[1;32mtry\u001b[0m\u001b[1;33m:\u001b[0m\u001b[1;33m\u001b[0m\u001b[1;33m\u001b[0m\u001b[0m\n\u001b[1;32m--> 389\u001b[1;33m                 \u001b[1;32mraise\u001b[0m \u001b[0mself\u001b[0m\u001b[1;33m.\u001b[0m\u001b[0m_exception\u001b[0m\u001b[1;33m\u001b[0m\u001b[1;33m\u001b[0m\u001b[0m\n\u001b[0m\u001b[0;32m    390\u001b[0m             \u001b[1;32mfinally\u001b[0m\u001b[1;33m:\u001b[0m\u001b[1;33m\u001b[0m\u001b[1;33m\u001b[0m\u001b[0m\n\u001b[0;32m    391\u001b[0m                 \u001b[1;31m# Break a reference cycle with the exception in self._exception\u001b[0m\u001b[1;33m\u001b[0m\u001b[1;33m\u001b[0m\u001b[1;33m\u001b[0m\u001b[0m\n",
      "\u001b[1;31mMemoryError\u001b[0m: Unable to allocate 221. MiB for an array with shape (181, 159905) and data type int64"
     ]
    }
   ],
   "source": [
    "%%time\n",
    "estimator = XGBClassifier(\n",
    "    #objective= 'binary:logloss',\n",
    "    nthread=4,\n",
    "    seed=42\n",
    ")\n",
    "params = {\n",
    "    'max_depth': range (2, 10, 1),\n",
    "    'n_estimators': range(100, 220, 40),\n",
    "    'learning_rate': [0.1, 0.01]\n",
    "}\n",
    "\n",
    "random_search = RandomizedSearchCV(estimator=estimator, \n",
    "                                   param_distributions=params, \n",
    "                                   #n_iter=param_comb, \n",
    "                                   scoring='roc_auc',\n",
    "                                   n_jobs=-1, \n",
    "                                   cv=5,\n",
    "                                  verbose=True)\n",
    "\n",
    "\n",
    "#random_search = RandomizedSearchCV(\n",
    "#    estimator=estimator,\n",
    "#    param=param,\n",
    "#    scoring = 'roc_auc',\n",
    "#   # n_jobs = 10,\n",
    "#    cv = 5,\n",
    "#    verbose=True\n",
    "#)\n",
    "random_search.fit(X_train, y_train)\n",
    "random_search.best_estimator_\n"
   ]
  },
  {
   "cell_type": "code",
   "execution_count": 17,
   "id": "1aefb536",
   "metadata": {},
   "outputs": [],
   "source": [
    "from catboost import CatBoostClassifier\n"
   ]
  },
  {
   "cell_type": "code",
   "execution_count": 43,
   "id": "508c3d82",
   "metadata": {},
   "outputs": [
    {
     "name": "stdout",
     "output_type": "stream",
     "text": [
      "Wall time: 1min 31s\n"
     ]
    }
   ],
   "source": [
    "%%time\n",
    "# Initialize CatBoostRegressor\n",
    "model = CatBoostClassifier(iterations=15,#15\n",
    "                          learning_rate=0.1,\n",
    "                          depth=8)#8\n",
    "# Fit model\n",
    "\n",
    "model = CatBoostClassifier(iterations=1000) #100\n",
    "\n",
    "model.fit( X_train, y_train,verbose=False )\n",
    "\n",
    "# Get predictions\n",
    "probabilities_CB = model.predict_proba(X_valid)\n",
    "\n",
    "submission_CB = pd.DataFrame({\n",
    "#    'SK_ID_CURR': app_test['SK_ID_CURR'],\n",
    "    'TARGET':     [ row[1] for row in probabilities_CB]})\n",
    "y_valid_pred_CB=submission_CB\n",
    "submission_CB.to_csv(\"CBClassifier_17.csv\", index=False)"
   ]
  },
  {
   "cell_type": "code",
   "execution_count": 50,
   "id": "2eb38d4c",
   "metadata": {},
   "outputs": [
    {
     "data": {
      "text/plain": [
       "0.7765142491472142"
      ]
     },
     "execution_count": 50,
     "metadata": {},
     "output_type": "execute_result"
    }
   ],
   "source": [
    " roc_auc_score(y_valid, y_valid_pred_LGBM)"
   ]
  },
  {
   "cell_type": "code",
   "execution_count": 92,
   "id": "a4fc41b9",
   "metadata": {},
   "outputs": [],
   "source": [
    "\n",
    "probabilities_CB065 = model.predict_proba(app_test.iloc[:,:-1])\n",
    "submission_CB065 = pd.DataFrame({\n",
    "    'SK_ID_CURR': app_test['SK_ID_CURR'],\n",
    "    'TARGET':     [ row[1] for row in probabilities_CB065]\n",
    "})\n",
    "submission_CB065.to_csv(\"CB065Classifier_full_data_17065.csv\", index=False)\n",
    "\n",
    "y_valid_pred_CB065=submission_CB065"
   ]
  },
  {
   "cell_type": "markdown",
   "id": "c352a039",
   "metadata": {},
   "source": [
    "Score: 0.75608, что тоже говорит о недообученности модели"
   ]
  },
  {
   "cell_type": "code",
   "execution_count": 5,
   "id": "fd811227",
   "metadata": {},
   "outputs": [
    {
     "name": "stdout",
     "output_type": "stream",
     "text": [
      "Training until validation scores don't improve for 100 rounds\n",
      "[100]\ttraining's auc: 0.775271\ttraining's binary_logloss: 0.244215\tvalid_1's auc: 0.759066\tvalid_1's binary_logloss: 0.251465\n",
      "[200]\ttraining's auc: 0.793482\ttraining's binary_logloss: 0.236597\tvalid_1's auc: 0.768702\tvalid_1's binary_logloss: 0.24696\n",
      "[300]\ttraining's auc: 0.802934\ttraining's binary_logloss: 0.23258\tvalid_1's auc: 0.773035\tvalid_1's binary_logloss: 0.245183\n",
      "[400]\ttraining's auc: 0.810329\ttraining's binary_logloss: 0.229645\tvalid_1's auc: 0.775285\tvalid_1's binary_logloss: 0.244296\n",
      "[500]\ttraining's auc: 0.816354\ttraining's binary_logloss: 0.227263\tvalid_1's auc: 0.776586\tvalid_1's binary_logloss: 0.24385\n",
      "[600]\ttraining's auc: 0.821517\ttraining's binary_logloss: 0.22518\tvalid_1's auc: 0.777608\tvalid_1's binary_logloss: 0.243485\n",
      "[700]\ttraining's auc: 0.826285\ttraining's binary_logloss: 0.223316\tvalid_1's auc: 0.778181\tvalid_1's binary_logloss: 0.243295\n",
      "[800]\ttraining's auc: 0.830846\ttraining's binary_logloss: 0.221495\tvalid_1's auc: 0.7786\tvalid_1's binary_logloss: 0.243158\n",
      "[900]\ttraining's auc: 0.834867\ttraining's binary_logloss: 0.219866\tvalid_1's auc: 0.778689\tvalid_1's binary_logloss: 0.243136\n",
      "Early stopping, best iteration is:\n",
      "[882]\ttraining's auc: 0.834135\ttraining's binary_logloss: 0.220146\tvalid_1's auc: 0.778748\tvalid_1's binary_logloss: 0.243122\n",
      "Fold  1 AUC : 0.778748\n",
      "Training until validation scores don't improve for 100 rounds\n",
      "[100]\ttraining's auc: 0.775037\ttraining's binary_logloss: 0.245158\tvalid_1's auc: 0.760134\tvalid_1's binary_logloss: 0.247683\n",
      "[200]\ttraining's auc: 0.793003\ttraining's binary_logloss: 0.237608\tvalid_1's auc: 0.771432\tvalid_1's binary_logloss: 0.242803\n",
      "[300]\ttraining's auc: 0.802551\ttraining's binary_logloss: 0.23363\tvalid_1's auc: 0.775574\tvalid_1's binary_logloss: 0.241054\n",
      "[400]\ttraining's auc: 0.80981\ttraining's binary_logloss: 0.230649\tvalid_1's auc: 0.777881\tvalid_1's binary_logloss: 0.240148\n",
      "[500]\ttraining's auc: 0.815746\ttraining's binary_logloss: 0.22828\tvalid_1's auc: 0.77899\tvalid_1's binary_logloss: 0.239693\n",
      "[600]\ttraining's auc: 0.821022\ttraining's binary_logloss: 0.226135\tvalid_1's auc: 0.779608\tvalid_1's binary_logloss: 0.239414\n",
      "[700]\ttraining's auc: 0.825768\ttraining's binary_logloss: 0.224255\tvalid_1's auc: 0.779943\tvalid_1's binary_logloss: 0.239273\n",
      "[800]\ttraining's auc: 0.830063\ttraining's binary_logloss: 0.222519\tvalid_1's auc: 0.780391\tvalid_1's binary_logloss: 0.239107\n",
      "[900]\ttraining's auc: 0.833879\ttraining's binary_logloss: 0.220954\tvalid_1's auc: 0.780705\tvalid_1's binary_logloss: 0.238999\n",
      "[1000]\ttraining's auc: 0.837733\ttraining's binary_logloss: 0.219379\tvalid_1's auc: 0.78083\tvalid_1's binary_logloss: 0.238964\n",
      "[1100]\ttraining's auc: 0.841249\ttraining's binary_logloss: 0.217892\tvalid_1's auc: 0.781071\tvalid_1's binary_logloss: 0.238892\n",
      "[1200]\ttraining's auc: 0.844726\ttraining's binary_logloss: 0.216403\tvalid_1's auc: 0.781166\tvalid_1's binary_logloss: 0.238874\n",
      "Early stopping, best iteration is:\n",
      "[1176]\ttraining's auc: 0.84394\ttraining's binary_logloss: 0.216727\tvalid_1's auc: 0.781196\tvalid_1's binary_logloss: 0.238869\n",
      "Fold  2 AUC : 0.781196\n",
      "Training until validation scores don't improve for 100 rounds\n",
      "[100]\ttraining's auc: 0.773632\ttraining's binary_logloss: 0.244986\tvalid_1's auc: 0.760607\tvalid_1's binary_logloss: 0.249503\n",
      "[200]\ttraining's auc: 0.791979\ttraining's binary_logloss: 0.237389\tvalid_1's auc: 0.773754\tvalid_1's binary_logloss: 0.24426\n",
      "[300]\ttraining's auc: 0.801814\ttraining's binary_logloss: 0.233286\tvalid_1's auc: 0.77881\tvalid_1's binary_logloss: 0.242281\n",
      "[400]\ttraining's auc: 0.808892\ttraining's binary_logloss: 0.230453\tvalid_1's auc: 0.781379\tvalid_1's binary_logloss: 0.241277\n",
      "[500]\ttraining's auc: 0.814906\ttraining's binary_logloss: 0.228086\tvalid_1's auc: 0.783108\tvalid_1's binary_logloss: 0.240627\n",
      "[600]\ttraining's auc: 0.820245\ttraining's binary_logloss: 0.225955\tvalid_1's auc: 0.784317\tvalid_1's binary_logloss: 0.240196\n",
      "[700]\ttraining's auc: 0.825129\ttraining's binary_logloss: 0.22406\tvalid_1's auc: 0.784919\tvalid_1's binary_logloss: 0.240006\n",
      "[800]\ttraining's auc: 0.829665\ttraining's binary_logloss: 0.222263\tvalid_1's auc: 0.785472\tvalid_1's binary_logloss: 0.239811\n",
      "[900]\ttraining's auc: 0.833721\ttraining's binary_logloss: 0.220615\tvalid_1's auc: 0.785687\tvalid_1's binary_logloss: 0.239685\n",
      "[1000]\ttraining's auc: 0.837562\ttraining's binary_logloss: 0.219034\tvalid_1's auc: 0.786223\tvalid_1's binary_logloss: 0.239498\n",
      "[1100]\ttraining's auc: 0.840868\ttraining's binary_logloss: 0.217653\tvalid_1's auc: 0.786393\tvalid_1's binary_logloss: 0.239428\n",
      "[1200]\ttraining's auc: 0.844458\ttraining's binary_logloss: 0.216204\tvalid_1's auc: 0.786558\tvalid_1's binary_logloss: 0.239393\n",
      "[1300]\ttraining's auc: 0.847569\ttraining's binary_logloss: 0.214891\tvalid_1's auc: 0.78652\tvalid_1's binary_logloss: 0.239416\n",
      "Early stopping, best iteration is:\n",
      "[1243]\ttraining's auc: 0.84572\ttraining's binary_logloss: 0.215661\tvalid_1's auc: 0.786621\tvalid_1's binary_logloss: 0.239369\n",
      "Fold  3 AUC : 0.786621\n",
      "Training until validation scores don't improve for 100 rounds\n",
      "[100]\ttraining's auc: 0.775204\ttraining's binary_logloss: 0.246053\tvalid_1's auc: 0.754093\tvalid_1's binary_logloss: 0.244364\n",
      "[200]\ttraining's auc: 0.79362\ttraining's binary_logloss: 0.238281\tvalid_1's auc: 0.765689\tvalid_1's binary_logloss: 0.239913\n",
      "[300]\ttraining's auc: 0.803319\ttraining's binary_logloss: 0.234189\tvalid_1's auc: 0.769932\tvalid_1's binary_logloss: 0.238295\n",
      "[400]\ttraining's auc: 0.810775\ttraining's binary_logloss: 0.231138\tvalid_1's auc: 0.772703\tvalid_1's binary_logloss: 0.237396\n",
      "[500]\ttraining's auc: 0.816906\ttraining's binary_logloss: 0.228682\tvalid_1's auc: 0.774411\tvalid_1's binary_logloss: 0.236871\n",
      "[600]\ttraining's auc: 0.822304\ttraining's binary_logloss: 0.226536\tvalid_1's auc: 0.775325\tvalid_1's binary_logloss: 0.236608\n",
      "[700]\ttraining's auc: 0.826966\ttraining's binary_logloss: 0.224653\tvalid_1's auc: 0.775938\tvalid_1's binary_logloss: 0.236446\n",
      "[800]\ttraining's auc: 0.831444\ttraining's binary_logloss: 0.222823\tvalid_1's auc: 0.776101\tvalid_1's binary_logloss: 0.236404\n",
      "[900]\ttraining's auc: 0.83548\ttraining's binary_logloss: 0.221153\tvalid_1's auc: 0.776394\tvalid_1's binary_logloss: 0.236362\n",
      "[1000]\ttraining's auc: 0.839164\ttraining's binary_logloss: 0.219612\tvalid_1's auc: 0.776522\tvalid_1's binary_logloss: 0.236335\n",
      "[1100]\ttraining's auc: 0.842402\ttraining's binary_logloss: 0.218234\tvalid_1's auc: 0.776759\tvalid_1's binary_logloss: 0.236311\n",
      "[1200]\ttraining's auc: 0.845619\ttraining's binary_logloss: 0.216844\tvalid_1's auc: 0.777005\tvalid_1's binary_logloss: 0.236281\n",
      "[1300]\ttraining's auc: 0.849077\ttraining's binary_logloss: 0.215352\tvalid_1's auc: 0.777186\tvalid_1's binary_logloss: 0.236235\n",
      "Early stopping, best iteration is:\n",
      "[1226]\ttraining's auc: 0.846586\ttraining's binary_logloss: 0.216404\tvalid_1's auc: 0.777216\tvalid_1's binary_logloss: 0.236229\n",
      "Fold  4 AUC : 0.777216\n",
      "Training until validation scores don't improve for 100 rounds\n",
      "[100]\ttraining's auc: 0.773684\ttraining's binary_logloss: 0.244779\tvalid_1's auc: 0.760581\tvalid_1's binary_logloss: 0.250358\n",
      "[200]\ttraining's auc: 0.791924\ttraining's binary_logloss: 0.237156\tvalid_1's auc: 0.772935\tvalid_1's binary_logloss: 0.245201\n",
      "[300]\ttraining's auc: 0.801666\ttraining's binary_logloss: 0.233118\tvalid_1's auc: 0.77799\tvalid_1's binary_logloss: 0.243228\n",
      "[400]\ttraining's auc: 0.808748\ttraining's binary_logloss: 0.230256\tvalid_1's auc: 0.780576\tvalid_1's binary_logloss: 0.242283\n",
      "[500]\ttraining's auc: 0.815117\ttraining's binary_logloss: 0.227777\tvalid_1's auc: 0.782122\tvalid_1's binary_logloss: 0.241687\n",
      "[600]\ttraining's auc: 0.820757\ttraining's binary_logloss: 0.225576\tvalid_1's auc: 0.782903\tvalid_1's binary_logloss: 0.241396\n",
      "[700]\ttraining's auc: 0.825689\ttraining's binary_logloss: 0.223634\tvalid_1's auc: 0.783383\tvalid_1's binary_logloss: 0.241184\n",
      "[800]\ttraining's auc: 0.829946\ttraining's binary_logloss: 0.221922\tvalid_1's auc: 0.78373\tvalid_1's binary_logloss: 0.241046\n",
      "[900]\ttraining's auc: 0.833837\ttraining's binary_logloss: 0.220311\tvalid_1's auc: 0.783972\tvalid_1's binary_logloss: 0.240963\n",
      "[1000]\ttraining's auc: 0.837458\ttraining's binary_logloss: 0.21881\tvalid_1's auc: 0.784088\tvalid_1's binary_logloss: 0.240932\n",
      "Early stopping, best iteration is:\n",
      "[939]\ttraining's auc: 0.835268\ttraining's binary_logloss: 0.219718\tvalid_1's auc: 0.784135\tvalid_1's binary_logloss: 0.240913\n",
      "Fold  5 AUC : 0.784135\n",
      "Full AUC score 0.781594\n",
      "Wall time: 9min 41s\n",
      "Compiler : 144 ms\n",
      "Parser   : 586 ms\n"
     ]
    }
   ],
   "source": [
    "%%time\n",
    "import re\n",
    "data = X_train.rename(columns = lambda x:re.sub('[^A-Za-z0-9_]+', '', x))\n",
    "test = X_valid.rename(columns = lambda x:re.sub('[^A-Za-z0-9_]+', '', x))\n",
    "#y = y.rename(columns = lambda x:re.sub('[^A-Za-z0-9_]+', '', x))\n",
    "y=y_train\n",
    "\n",
    "folds = KFold(n_splits=5, shuffle=True, random_state=546789)\n",
    "oof_preds = np.zeros(data.shape[0])\n",
    "sub_preds = np.zeros(test.shape[0])\n",
    "\n",
    "feature_importance_df = pd.DataFrame()\n",
    "\n",
    "feats = [f for f in data.columns if f not in ['SK_ID_CURR']]\n",
    "\n",
    "for n_fold, (trn_idx, val_idx) in enumerate(folds.split(data)):\n",
    "    trn_x, trn_y = data[feats].iloc[trn_idx], y.iloc[trn_idx]\n",
    "    val_x, val_y = data[feats].iloc[val_idx], y.iloc[val_idx]\n",
    "    \n",
    "    clf = LGBMClassifier(\n",
    "        n_estimators=10000,\n",
    "        learning_rate=0.03,\n",
    "        num_leaves=34,\n",
    "        colsample_bytree=0.9,\n",
    "        subsample=0.8,\n",
    "        max_depth=8,\n",
    "        reg_alpha=.1,\n",
    "        reg_lambda=.1,\n",
    "        min_split_gain=.01,\n",
    "        min_child_weight=375,\n",
    "        silent=-1,\n",
    "        verbose=-1,\n",
    "        )\n",
    "    \n",
    "    clf.fit(trn_x, trn_y, \n",
    "            eval_set= [(trn_x, trn_y), (val_x, val_y)], \n",
    "            eval_metric='auc', verbose=100, early_stopping_rounds=100  #30\n",
    "           )\n",
    "    \n",
    "    oof_preds[val_idx] = clf.predict_proba(val_x, num_iteration=clf.best_iteration_)[:, 1]\n",
    "    sub_preds += clf.predict_proba(test[feats], num_iteration=clf.best_iteration_)[:, 1] / folds.n_splits\n",
    "    \n",
    "    fold_importance_df = pd.DataFrame()\n",
    "    fold_importance_df[\"feature\"] = feats\n",
    "    fold_importance_df[\"importance\"] = clf.feature_importances_\n",
    "    fold_importance_df[\"fold\"] = n_fold + 1\n",
    "    feature_importance_df = pd.concat([feature_importance_df, fold_importance_df], axis=0)\n",
    "    \n",
    "    print('Fold %2d AUC : %.6f' % (n_fold + 1, roc_auc_score(val_y, oof_preds[val_idx])))\n",
    "    del clf, trn_x, trn_y, val_x, val_y\n",
    "    gc.collect()\n",
    "\n",
    "print('Full AUC score %.6f' % roc_auc_score(y, oof_preds)) \n",
    "\n",
    "y_pred_KFold = sub_preds\n",
    "\n",
    "\n",
    "test['TARGET'] = sub_preds\n",
    "\n",
    "y_valid_pred_KFold=test[['SK_ID_CURR', 'TARGET']]\n",
    "\n",
    "test[['SK_ID_CURR', 'TARGET']].to_csv('y_valid_pred_KFold.csv', index=False)\n"
   ]
  },
  {
   "cell_type": "code",
   "execution_count": 8,
   "id": "290cdd11",
   "metadata": {},
   "outputs": [
    {
     "data": {
      "text/plain": [
       "0.7840589710484263"
      ]
     },
     "execution_count": 8,
     "metadata": {},
     "output_type": "execute_result"
    }
   ],
   "source": [
    " roc_auc_score(y_valid, y_valid_pred_KFold.TARGET)"
   ]
  },
  {
   "cell_type": "markdown",
   "id": "97c9cad0",
   "metadata": {},
   "source": [
    "Результат обучения этой модели на тестовых данных уже известен, посчитан автором кернела на Хабре, составляет 0.78230\n"
   ]
  },
  {
   "cell_type": "code",
   "execution_count": 10,
   "id": "6c494cfc",
   "metadata": {},
   "outputs": [],
   "source": [
    "from lightgbm import LGBMClassifier\n",
    "import re\n",
    "test=X_valid\n",
    "data =  X_train.rename(columns = lambda x:re.sub('[^A-Za-z0-9_]+', '', x))\n",
    "y=y_train\n",
    "\n",
    "clf2 = LGBMClassifier(learning_rate=0.1)\n",
    "clf2.fit(data, y)\n",
    "\n",
    "predictions = clf2.predict_proba(test)[:, 1]\n",
    "\n",
    "# Датафрейм для загрузки\n",
    "submission = test[['SK_ID_CURR']]\n",
    "submission['TARGET'] = predictions\n",
    "\n",
    "\n",
    "y_valid_pred_LGBM=submission['TARGET']\n",
    "\n",
    "# Сохранение датафрейма\n",
    "submission.to_csv('y_valid_pred_LGBM.csv', index = False)"
   ]
  },
  {
   "cell_type": "code",
   "execution_count": 13,
   "id": "8fa3903c",
   "metadata": {},
   "outputs": [
    {
     "data": {
      "text/plain": [
       "0.7765142491472142"
      ]
     },
     "execution_count": 13,
     "metadata": {},
     "output_type": "execute_result"
    }
   ],
   "source": [
    " roc_auc_score(y_valid, y_valid_pred_LGBM)"
   ]
  },
  {
   "cell_type": "code",
   "execution_count": 93,
   "id": "449beaa8",
   "metadata": {},
   "outputs": [],
   "source": [
    "probabilities_LGBM065 = clf2.predict_proba(app_test.iloc[:,:-1])\n",
    "submission_LGBM065 = pd.DataFrame({\n",
    "    'SK_ID_CURR': app_test['SK_ID_CURR'],\n",
    "    'TARGET':     [ row[1] for row in probabilities_LGBM065]\n",
    "})\n",
    "submission_LGBM065.to_csv(\"LGBM065Classifier_full_data_17065.csv\", index=False)\n",
    "\n",
    "y_valid_pred_LGBM065=submission_LGBM065"
   ]
  },
  {
   "cell_type": "code",
   "execution_count": 96,
   "id": "360ab5c8",
   "metadata": {},
   "outputs": [
    {
     "data": {
      "text/html": [
       "<div>\n",
       "<style scoped>\n",
       "    .dataframe tbody tr th:only-of-type {\n",
       "        vertical-align: middle;\n",
       "    }\n",
       "\n",
       "    .dataframe tbody tr th {\n",
       "        vertical-align: top;\n",
       "    }\n",
       "\n",
       "    .dataframe thead th {\n",
       "        text-align: right;\n",
       "    }\n",
       "</style>\n",
       "<table border=\"1\" class=\"dataframe\">\n",
       "  <thead>\n",
       "    <tr style=\"text-align: right;\">\n",
       "      <th></th>\n",
       "      <th>SK_ID_CURR</th>\n",
       "      <th>TARGET</th>\n",
       "    </tr>\n",
       "  </thead>\n",
       "  <tbody>\n",
       "    <tr>\n",
       "      <th>0</th>\n",
       "      <td>100001</td>\n",
       "      <td>0.017118</td>\n",
       "    </tr>\n",
       "    <tr>\n",
       "      <th>1</th>\n",
       "      <td>100005</td>\n",
       "      <td>0.068996</td>\n",
       "    </tr>\n",
       "    <tr>\n",
       "      <th>2</th>\n",
       "      <td>100013</td>\n",
       "      <td>0.018878</td>\n",
       "    </tr>\n",
       "    <tr>\n",
       "      <th>3</th>\n",
       "      <td>100028</td>\n",
       "      <td>0.026924</td>\n",
       "    </tr>\n",
       "    <tr>\n",
       "      <th>4</th>\n",
       "      <td>100038</td>\n",
       "      <td>0.181146</td>\n",
       "    </tr>\n",
       "  </tbody>\n",
       "</table>\n",
       "</div>"
      ],
      "text/plain": [
       "   SK_ID_CURR    TARGET\n",
       "0      100001  0.017118\n",
       "1      100005  0.068996\n",
       "2      100013  0.018878\n",
       "3      100028  0.026924\n",
       "4      100038  0.181146"
      ]
     },
     "execution_count": 96,
     "metadata": {},
     "output_type": "execute_result"
    }
   ],
   "source": [
    "submission_LGBM065.head()"
   ]
  },
  {
   "cell_type": "markdown",
   "id": "87f80648",
   "metadata": {},
   "source": [
    "В данном случае score 0.75608"
   ]
  },
  {
   "cell_type": "markdown",
   "id": "020233cd",
   "metadata": {},
   "source": [
    "Эксперименты со сложением значений модели с некоторыми весами говорит о том, что, вероятно, они могут несколько улучшить модель.\n",
    "Значения для KFold рассчитаны, сохранены в файле submission_cross.csv"
   ]
  },
  {
   "cell_type": "code",
   "execution_count": 60,
   "id": "a148edde",
   "metadata": {},
   "outputs": [
    {
     "data": {
      "text/html": [
       "<div>\n",
       "<style scoped>\n",
       "    .dataframe tbody tr th:only-of-type {\n",
       "        vertical-align: middle;\n",
       "    }\n",
       "\n",
       "    .dataframe tbody tr th {\n",
       "        vertical-align: top;\n",
       "    }\n",
       "\n",
       "    .dataframe thead th {\n",
       "        text-align: right;\n",
       "    }\n",
       "</style>\n",
       "<table border=\"1\" class=\"dataframe\">\n",
       "  <thead>\n",
       "    <tr style=\"text-align: right;\">\n",
       "      <th></th>\n",
       "      <th>SK_ID_CURR</th>\n",
       "      <th>y_valid_pred_KFold</th>\n",
       "      <th>y_valid_pred_LGBM</th>\n",
       "      <th>KFold-6_LGBM-4</th>\n",
       "    </tr>\n",
       "  </thead>\n",
       "  <tbody>\n",
       "    <tr>\n",
       "      <th>245895</th>\n",
       "      <td>384575</td>\n",
       "      <td>0.256136</td>\n",
       "      <td>0.245156</td>\n",
       "      <td>0.253940</td>\n",
       "    </tr>\n",
       "    <tr>\n",
       "      <th>98194</th>\n",
       "      <td>214010</td>\n",
       "      <td>0.033505</td>\n",
       "      <td>0.034405</td>\n",
       "      <td>0.033685</td>\n",
       "    </tr>\n",
       "    <tr>\n",
       "      <th>36463</th>\n",
       "      <td>142232</td>\n",
       "      <td>0.105034</td>\n",
       "      <td>0.095200</td>\n",
       "      <td>0.103067</td>\n",
       "    </tr>\n",
       "    <tr>\n",
       "      <th>249923</th>\n",
       "      <td>389171</td>\n",
       "      <td>0.022364</td>\n",
       "      <td>0.034436</td>\n",
       "      <td>0.024779</td>\n",
       "    </tr>\n",
       "    <tr>\n",
       "      <th>158389</th>\n",
       "      <td>283617</td>\n",
       "      <td>0.051554</td>\n",
       "      <td>0.046193</td>\n",
       "      <td>0.050481</td>\n",
       "    </tr>\n",
       "  </tbody>\n",
       "</table>\n",
       "</div>"
      ],
      "text/plain": [
       "        SK_ID_CURR  y_valid_pred_KFold  y_valid_pred_LGBM  KFold-6_LGBM-4\n",
       "245895      384575            0.256136           0.245156        0.253940\n",
       "98194       214010            0.033505           0.034405        0.033685\n",
       "36463       142232            0.105034           0.095200        0.103067\n",
       "249923      389171            0.022364           0.034436        0.024779\n",
       "158389      283617            0.051554           0.046193        0.050481"
      ]
     },
     "execution_count": 60,
     "metadata": {},
     "output_type": "execute_result"
    }
   ],
   "source": [
    "\n",
    "y_valid_pred_KFold.rename(columns={\"TARGET\": \"y_valid_pred_KFold\"}, inplace=True)\n",
    "y_valid_pred_KFold['y_valid_pred_LGBM']=y_valid_pred_LGBM\n",
    "#y_valid_pred_KFold['KFold-6_LGBM-4']=y_valid_pred_KFold.y_valid_pred_KFold*0.8+y_valid_pred_KFold.y_valid_pred_LGBM*0.2\n",
    "y_valid_pred_KFold.head()"
   ]
  },
  {
   "cell_type": "code",
   "execution_count": 95,
   "id": "933b488c",
   "metadata": {},
   "outputs": [
    {
     "data": {
      "text/html": [
       "<div>\n",
       "<style scoped>\n",
       "    .dataframe tbody tr th:only-of-type {\n",
       "        vertical-align: middle;\n",
       "    }\n",
       "\n",
       "    .dataframe tbody tr th {\n",
       "        vertical-align: top;\n",
       "    }\n",
       "\n",
       "    .dataframe thead th {\n",
       "        text-align: right;\n",
       "    }\n",
       "</style>\n",
       "<table border=\"1\" class=\"dataframe\">\n",
       "  <thead>\n",
       "    <tr style=\"text-align: right;\">\n",
       "      <th></th>\n",
       "      <th>SK_ID_CURR</th>\n",
       "      <th>TARGET</th>\n",
       "    </tr>\n",
       "  </thead>\n",
       "  <tbody>\n",
       "    <tr>\n",
       "      <th>0</th>\n",
       "      <td>100001</td>\n",
       "      <td>0.033623</td>\n",
       "    </tr>\n",
       "    <tr>\n",
       "      <th>1</th>\n",
       "      <td>100005</td>\n",
       "      <td>0.112856</td>\n",
       "    </tr>\n",
       "    <tr>\n",
       "      <th>2</th>\n",
       "      <td>100013</td>\n",
       "      <td>0.026896</td>\n",
       "    </tr>\n",
       "    <tr>\n",
       "      <th>3</th>\n",
       "      <td>100028</td>\n",
       "      <td>0.032239</td>\n",
       "    </tr>\n",
       "    <tr>\n",
       "      <th>4</th>\n",
       "      <td>100038</td>\n",
       "      <td>0.134143</td>\n",
       "    </tr>\n",
       "  </tbody>\n",
       "</table>\n",
       "</div>"
      ],
      "text/plain": [
       "   SK_ID_CURR    TARGET\n",
       "0      100001  0.033623\n",
       "1      100005  0.112856\n",
       "2      100013  0.026896\n",
       "3      100028  0.032239\n",
       "4      100038  0.134143"
      ]
     },
     "execution_count": 95,
     "metadata": {},
     "output_type": "execute_result"
    }
   ],
   "source": [
    "submission_cross=pd.read_csv('submission_cross.csv')\n",
    "submission_cross.head()"
   ]
  },
  {
   "cell_type": "code",
   "execution_count": 16,
   "id": "611fdb32",
   "metadata": {},
   "outputs": [
    {
     "data": {
      "text/plain": [
       "0.7841834210083324"
      ]
     },
     "execution_count": 16,
     "metadata": {},
     "output_type": "execute_result"
    }
   ],
   "source": [
    " roc_auc_score(y_valid, y_valid_pred_KFold['KFold-6_LGBM-4'])"
   ]
  },
  {
   "cell_type": "markdown",
   "id": "6ca10023",
   "metadata": {},
   "source": [
    "В связи с нехваткой памяти будет рассчитано в дополнительном файле. Результат составил 0,7814, что меньше имеющихся прогнозов на тестовой выборке."
   ]
  },
  {
   "cell_type": "code",
   "execution_count": 105,
   "id": "b7240adf",
   "metadata": {},
   "outputs": [
    {
     "ename": "MemoryError",
     "evalue": "Unable to allocate 17.7 GiB for an array with shape (48744, 48744) and data type float64",
     "output_type": "error",
     "traceback": [
      "\u001b[1;31m---------------------------------------------------------------------------\u001b[0m",
      "\u001b[1;31mMemoryError\u001b[0m                               Traceback (most recent call last)",
      "\u001b[1;32m<ipython-input-105-352dcd78b434>\u001b[0m in \u001b[0;36m<module>\u001b[1;34m\u001b[0m\n\u001b[0;32m      4\u001b[0m \u001b[0ma\u001b[0m\u001b[1;33m=\u001b[0m\u001b[0msubmission_cross\u001b[0m\u001b[1;33m.\u001b[0m\u001b[0mTARGET\u001b[0m\u001b[1;33m*\u001b[0m\u001b[1;36m0.2\u001b[0m\u001b[1;33m\u001b[0m\u001b[1;33m\u001b[0m\u001b[0m\n\u001b[0;32m      5\u001b[0m \u001b[0mb\u001b[0m\u001b[1;33m=\u001b[0m\u001b[0msubmission_LGBM065\u001b[0m\u001b[1;33m*\u001b[0m\u001b[1;36m0.4\u001b[0m\u001b[1;33m\u001b[0m\u001b[1;33m\u001b[0m\u001b[0m\n\u001b[1;32m----> 6\u001b[1;33m \u001b[0mc\u001b[0m\u001b[1;33m=\u001b[0m\u001b[0ma\u001b[0m\u001b[1;33m+\u001b[0m\u001b[0mb\u001b[0m\u001b[1;33m\u001b[0m\u001b[1;33m\u001b[0m\u001b[0m\n\u001b[0m\u001b[0;32m      7\u001b[0m \u001b[1;31m#submission_avg['TARGET']=a+b\u001b[0m\u001b[1;33m\u001b[0m\u001b[1;33m\u001b[0m\u001b[1;33m\u001b[0m\u001b[0m\n",
      "\u001b[1;32mC:\\ProgramData\\Anaconda3\\lib\\site-packages\\pandas\\core\\ops\\common.py\u001b[0m in \u001b[0;36mnew_method\u001b[1;34m(self, other)\u001b[0m\n\u001b[0;32m     63\u001b[0m         \u001b[0mother\u001b[0m \u001b[1;33m=\u001b[0m \u001b[0mitem_from_zerodim\u001b[0m\u001b[1;33m(\u001b[0m\u001b[0mother\u001b[0m\u001b[1;33m)\u001b[0m\u001b[1;33m\u001b[0m\u001b[1;33m\u001b[0m\u001b[0m\n\u001b[0;32m     64\u001b[0m \u001b[1;33m\u001b[0m\u001b[0m\n\u001b[1;32m---> 65\u001b[1;33m         \u001b[1;32mreturn\u001b[0m \u001b[0mmethod\u001b[0m\u001b[1;33m(\u001b[0m\u001b[0mself\u001b[0m\u001b[1;33m,\u001b[0m \u001b[0mother\u001b[0m\u001b[1;33m)\u001b[0m\u001b[1;33m\u001b[0m\u001b[1;33m\u001b[0m\u001b[0m\n\u001b[0m\u001b[0;32m     66\u001b[0m \u001b[1;33m\u001b[0m\u001b[0m\n\u001b[0;32m     67\u001b[0m     \u001b[1;32mreturn\u001b[0m \u001b[0mnew_method\u001b[0m\u001b[1;33m\u001b[0m\u001b[1;33m\u001b[0m\u001b[0m\n",
      "\u001b[1;32mC:\\ProgramData\\Anaconda3\\lib\\site-packages\\pandas\\core\\arraylike.py\u001b[0m in \u001b[0;36m__radd__\u001b[1;34m(self, other)\u001b[0m\n\u001b[0;32m     91\u001b[0m     \u001b[1;33m@\u001b[0m\u001b[0munpack_zerodim_and_defer\u001b[0m\u001b[1;33m(\u001b[0m\u001b[1;34m\"__radd__\"\u001b[0m\u001b[1;33m)\u001b[0m\u001b[1;33m\u001b[0m\u001b[1;33m\u001b[0m\u001b[0m\n\u001b[0;32m     92\u001b[0m     \u001b[1;32mdef\u001b[0m \u001b[0m__radd__\u001b[0m\u001b[1;33m(\u001b[0m\u001b[0mself\u001b[0m\u001b[1;33m,\u001b[0m \u001b[0mother\u001b[0m\u001b[1;33m)\u001b[0m\u001b[1;33m:\u001b[0m\u001b[1;33m\u001b[0m\u001b[1;33m\u001b[0m\u001b[0m\n\u001b[1;32m---> 93\u001b[1;33m         \u001b[1;32mreturn\u001b[0m \u001b[0mself\u001b[0m\u001b[1;33m.\u001b[0m\u001b[0m_arith_method\u001b[0m\u001b[1;33m(\u001b[0m\u001b[0mother\u001b[0m\u001b[1;33m,\u001b[0m \u001b[0mroperator\u001b[0m\u001b[1;33m.\u001b[0m\u001b[0mradd\u001b[0m\u001b[1;33m)\u001b[0m\u001b[1;33m\u001b[0m\u001b[1;33m\u001b[0m\u001b[0m\n\u001b[0m\u001b[0;32m     94\u001b[0m \u001b[1;33m\u001b[0m\u001b[0m\n\u001b[0;32m     95\u001b[0m     \u001b[1;33m@\u001b[0m\u001b[0munpack_zerodim_and_defer\u001b[0m\u001b[1;33m(\u001b[0m\u001b[1;34m\"__sub__\"\u001b[0m\u001b[1;33m)\u001b[0m\u001b[1;33m\u001b[0m\u001b[1;33m\u001b[0m\u001b[0m\n",
      "\u001b[1;32mC:\\ProgramData\\Anaconda3\\lib\\site-packages\\pandas\\core\\frame.py\u001b[0m in \u001b[0;36m_arith_method\u001b[1;34m(self, other, op)\u001b[0m\n\u001b[0;32m   5978\u001b[0m         \u001b[0maxis\u001b[0m \u001b[1;33m=\u001b[0m \u001b[1;36m1\u001b[0m  \u001b[1;31m# only relevant for Series other case\u001b[0m\u001b[1;33m\u001b[0m\u001b[1;33m\u001b[0m\u001b[0m\n\u001b[0;32m   5979\u001b[0m \u001b[1;33m\u001b[0m\u001b[0m\n\u001b[1;32m-> 5980\u001b[1;33m         \u001b[0mself\u001b[0m\u001b[1;33m,\u001b[0m \u001b[0mother\u001b[0m \u001b[1;33m=\u001b[0m \u001b[0mops\u001b[0m\u001b[1;33m.\u001b[0m\u001b[0malign_method_FRAME\u001b[0m\u001b[1;33m(\u001b[0m\u001b[0mself\u001b[0m\u001b[1;33m,\u001b[0m \u001b[0mother\u001b[0m\u001b[1;33m,\u001b[0m \u001b[0maxis\u001b[0m\u001b[1;33m,\u001b[0m \u001b[0mflex\u001b[0m\u001b[1;33m=\u001b[0m\u001b[1;32mTrue\u001b[0m\u001b[1;33m,\u001b[0m \u001b[0mlevel\u001b[0m\u001b[1;33m=\u001b[0m\u001b[1;32mNone\u001b[0m\u001b[1;33m)\u001b[0m\u001b[1;33m\u001b[0m\u001b[1;33m\u001b[0m\u001b[0m\n\u001b[0m\u001b[0;32m   5981\u001b[0m \u001b[1;33m\u001b[0m\u001b[0m\n\u001b[0;32m   5982\u001b[0m         \u001b[0mnew_data\u001b[0m \u001b[1;33m=\u001b[0m \u001b[0mself\u001b[0m\u001b[1;33m.\u001b[0m\u001b[0m_dispatch_frame_op\u001b[0m\u001b[1;33m(\u001b[0m\u001b[0mother\u001b[0m\u001b[1;33m,\u001b[0m \u001b[0mop\u001b[0m\u001b[1;33m,\u001b[0m \u001b[0maxis\u001b[0m\u001b[1;33m=\u001b[0m\u001b[0maxis\u001b[0m\u001b[1;33m)\u001b[0m\u001b[1;33m\u001b[0m\u001b[1;33m\u001b[0m\u001b[0m\n",
      "\u001b[1;32mC:\\ProgramData\\Anaconda3\\lib\\site-packages\\pandas\\core\\ops\\__init__.py\u001b[0m in \u001b[0;36malign_method_FRAME\u001b[1;34m(left, right, axis, flex, level)\u001b[0m\n\u001b[0;32m    285\u001b[0m                 )\n\u001b[0;32m    286\u001b[0m \u001b[1;33m\u001b[0m\u001b[0m\n\u001b[1;32m--> 287\u001b[1;33m         left, right = left.align(\n\u001b[0m\u001b[0;32m    288\u001b[0m             \u001b[0mright\u001b[0m\u001b[1;33m,\u001b[0m \u001b[0mjoin\u001b[0m\u001b[1;33m=\u001b[0m\u001b[1;34m\"outer\"\u001b[0m\u001b[1;33m,\u001b[0m \u001b[0maxis\u001b[0m\u001b[1;33m=\u001b[0m\u001b[0maxis\u001b[0m\u001b[1;33m,\u001b[0m \u001b[0mlevel\u001b[0m\u001b[1;33m=\u001b[0m\u001b[0mlevel\u001b[0m\u001b[1;33m,\u001b[0m \u001b[0mcopy\u001b[0m\u001b[1;33m=\u001b[0m\u001b[1;32mFalse\u001b[0m\u001b[1;33m\u001b[0m\u001b[1;33m\u001b[0m\u001b[0m\n\u001b[0;32m    289\u001b[0m         )\n",
      "\u001b[1;32mC:\\ProgramData\\Anaconda3\\lib\\site-packages\\pandas\\core\\frame.py\u001b[0m in \u001b[0;36malign\u001b[1;34m(self, other, join, axis, level, copy, fill_value, method, limit, fill_axis, broadcast_axis)\u001b[0m\n\u001b[0;32m   4100\u001b[0m         \u001b[0mbroadcast_axis\u001b[0m\u001b[1;33m=\u001b[0m\u001b[1;32mNone\u001b[0m\u001b[1;33m,\u001b[0m\u001b[1;33m\u001b[0m\u001b[1;33m\u001b[0m\u001b[0m\n\u001b[0;32m   4101\u001b[0m     ) -> DataFrame:\n\u001b[1;32m-> 4102\u001b[1;33m         return super().align(\n\u001b[0m\u001b[0;32m   4103\u001b[0m             \u001b[0mother\u001b[0m\u001b[1;33m,\u001b[0m\u001b[1;33m\u001b[0m\u001b[1;33m\u001b[0m\u001b[0m\n\u001b[0;32m   4104\u001b[0m             \u001b[0mjoin\u001b[0m\u001b[1;33m=\u001b[0m\u001b[0mjoin\u001b[0m\u001b[1;33m,\u001b[0m\u001b[1;33m\u001b[0m\u001b[1;33m\u001b[0m\u001b[0m\n",
      "\u001b[1;32mC:\\ProgramData\\Anaconda3\\lib\\site-packages\\pandas\\core\\generic.py\u001b[0m in \u001b[0;36malign\u001b[1;34m(self, other, join, axis, level, copy, fill_value, method, limit, fill_axis, broadcast_axis)\u001b[0m\n\u001b[0;32m   8823\u001b[0m             )\n\u001b[0;32m   8824\u001b[0m         \u001b[1;32melif\u001b[0m \u001b[0misinstance\u001b[0m\u001b[1;33m(\u001b[0m\u001b[0mother\u001b[0m\u001b[1;33m,\u001b[0m \u001b[0mABCSeries\u001b[0m\u001b[1;33m)\u001b[0m\u001b[1;33m:\u001b[0m\u001b[1;33m\u001b[0m\u001b[1;33m\u001b[0m\u001b[0m\n\u001b[1;32m-> 8825\u001b[1;33m             return self._align_series(\n\u001b[0m\u001b[0;32m   8826\u001b[0m                 \u001b[0mother\u001b[0m\u001b[1;33m,\u001b[0m\u001b[1;33m\u001b[0m\u001b[1;33m\u001b[0m\u001b[0m\n\u001b[0;32m   8827\u001b[0m                 \u001b[0mjoin\u001b[0m\u001b[1;33m=\u001b[0m\u001b[0mjoin\u001b[0m\u001b[1;33m,\u001b[0m\u001b[1;33m\u001b[0m\u001b[1;33m\u001b[0m\u001b[0m\n",
      "\u001b[1;32mC:\\ProgramData\\Anaconda3\\lib\\site-packages\\pandas\\core\\generic.py\u001b[0m in \u001b[0;36m_align_series\u001b[1;34m(self, other, join, axis, level, copy, fill_value, method, limit, fill_axis)\u001b[0m\n\u001b[0;32m   8962\u001b[0m \u001b[1;33m\u001b[0m\u001b[0m\n\u001b[0;32m   8963\u001b[0m                 \u001b[1;32mif\u001b[0m \u001b[0mlidx\u001b[0m \u001b[1;32mis\u001b[0m \u001b[1;32mnot\u001b[0m \u001b[1;32mNone\u001b[0m\u001b[1;33m:\u001b[0m\u001b[1;33m\u001b[0m\u001b[1;33m\u001b[0m\u001b[0m\n\u001b[1;32m-> 8964\u001b[1;33m                     \u001b[0mfdata\u001b[0m \u001b[1;33m=\u001b[0m \u001b[0mfdata\u001b[0m\u001b[1;33m.\u001b[0m\u001b[0mreindex_indexer\u001b[0m\u001b[1;33m(\u001b[0m\u001b[0mjoin_index\u001b[0m\u001b[1;33m,\u001b[0m \u001b[0mlidx\u001b[0m\u001b[1;33m,\u001b[0m \u001b[0maxis\u001b[0m\u001b[1;33m=\u001b[0m\u001b[1;36m0\u001b[0m\u001b[1;33m)\u001b[0m\u001b[1;33m\u001b[0m\u001b[1;33m\u001b[0m\u001b[0m\n\u001b[0m\u001b[0;32m   8965\u001b[0m             \u001b[1;32melse\u001b[0m\u001b[1;33m:\u001b[0m\u001b[1;33m\u001b[0m\u001b[1;33m\u001b[0m\u001b[0m\n\u001b[0;32m   8966\u001b[0m                 \u001b[1;32mraise\u001b[0m \u001b[0mValueError\u001b[0m\u001b[1;33m(\u001b[0m\u001b[1;34m\"Must specify axis=0 or 1\"\u001b[0m\u001b[1;33m)\u001b[0m\u001b[1;33m\u001b[0m\u001b[1;33m\u001b[0m\u001b[0m\n",
      "\u001b[1;32mC:\\ProgramData\\Anaconda3\\lib\\site-packages\\pandas\\core\\internals\\managers.py\u001b[0m in \u001b[0;36mreindex_indexer\u001b[1;34m(self, new_axis, indexer, axis, fill_value, allow_dups, copy, consolidate, only_slice)\u001b[0m\n\u001b[0;32m   1305\u001b[0m \u001b[1;33m\u001b[0m\u001b[0m\n\u001b[0;32m   1306\u001b[0m         \u001b[1;32mif\u001b[0m \u001b[0maxis\u001b[0m \u001b[1;33m==\u001b[0m \u001b[1;36m0\u001b[0m\u001b[1;33m:\u001b[0m\u001b[1;33m\u001b[0m\u001b[1;33m\u001b[0m\u001b[0m\n\u001b[1;32m-> 1307\u001b[1;33m             new_blocks = self._slice_take_blocks_ax0(\n\u001b[0m\u001b[0;32m   1308\u001b[0m                 \u001b[0mindexer\u001b[0m\u001b[1;33m,\u001b[0m \u001b[0mfill_value\u001b[0m\u001b[1;33m=\u001b[0m\u001b[0mfill_value\u001b[0m\u001b[1;33m,\u001b[0m \u001b[0monly_slice\u001b[0m\u001b[1;33m=\u001b[0m\u001b[0monly_slice\u001b[0m\u001b[1;33m\u001b[0m\u001b[1;33m\u001b[0m\u001b[0m\n\u001b[0;32m   1309\u001b[0m             )\n",
      "\u001b[1;32mC:\\ProgramData\\Anaconda3\\lib\\site-packages\\pandas\\core\\internals\\managers.py\u001b[0m in \u001b[0;36m_slice_take_blocks_ax0\u001b[1;34m(self, slice_or_indexer, fill_value, only_slice)\u001b[0m\n\u001b[0;32m   1402\u001b[0m \u001b[1;33m\u001b[0m\u001b[0m\n\u001b[0;32m   1403\u001b[0m                 blocks.append(\n\u001b[1;32m-> 1404\u001b[1;33m                     \u001b[0mself\u001b[0m\u001b[1;33m.\u001b[0m\u001b[0m_make_na_block\u001b[0m\u001b[1;33m(\u001b[0m\u001b[0mplacement\u001b[0m\u001b[1;33m=\u001b[0m\u001b[0mmgr_locs\u001b[0m\u001b[1;33m,\u001b[0m \u001b[0mfill_value\u001b[0m\u001b[1;33m=\u001b[0m\u001b[0mfill_value\u001b[0m\u001b[1;33m)\u001b[0m\u001b[1;33m\u001b[0m\u001b[1;33m\u001b[0m\u001b[0m\n\u001b[0m\u001b[0;32m   1405\u001b[0m                 )\n\u001b[0;32m   1406\u001b[0m             \u001b[1;32melse\u001b[0m\u001b[1;33m:\u001b[0m\u001b[1;33m\u001b[0m\u001b[1;33m\u001b[0m\u001b[0m\n",
      "\u001b[1;32mC:\\ProgramData\\Anaconda3\\lib\\site-packages\\pandas\\core\\internals\\managers.py\u001b[0m in \u001b[0;36m_make_na_block\u001b[1;34m(self, placement, fill_value)\u001b[0m\n\u001b[0;32m   1448\u001b[0m \u001b[1;33m\u001b[0m\u001b[0m\n\u001b[0;32m   1449\u001b[0m         \u001b[0mdtype\u001b[0m\u001b[1;33m,\u001b[0m \u001b[0mfill_value\u001b[0m \u001b[1;33m=\u001b[0m \u001b[0minfer_dtype_from_scalar\u001b[0m\u001b[1;33m(\u001b[0m\u001b[0mfill_value\u001b[0m\u001b[1;33m)\u001b[0m\u001b[1;33m\u001b[0m\u001b[1;33m\u001b[0m\u001b[0m\n\u001b[1;32m-> 1450\u001b[1;33m         \u001b[0mblock_values\u001b[0m \u001b[1;33m=\u001b[0m \u001b[0mnp\u001b[0m\u001b[1;33m.\u001b[0m\u001b[0mempty\u001b[0m\u001b[1;33m(\u001b[0m\u001b[0mblock_shape\u001b[0m\u001b[1;33m,\u001b[0m \u001b[0mdtype\u001b[0m\u001b[1;33m=\u001b[0m\u001b[0mdtype\u001b[0m\u001b[1;33m)\u001b[0m\u001b[1;33m\u001b[0m\u001b[1;33m\u001b[0m\u001b[0m\n\u001b[0m\u001b[0;32m   1451\u001b[0m         \u001b[0mblock_values\u001b[0m\u001b[1;33m.\u001b[0m\u001b[0mfill\u001b[0m\u001b[1;33m(\u001b[0m\u001b[0mfill_value\u001b[0m\u001b[1;33m)\u001b[0m\u001b[1;33m\u001b[0m\u001b[1;33m\u001b[0m\u001b[0m\n\u001b[0;32m   1452\u001b[0m         \u001b[1;32mreturn\u001b[0m \u001b[0mmake_block\u001b[0m\u001b[1;33m(\u001b[0m\u001b[0mblock_values\u001b[0m\u001b[1;33m,\u001b[0m \u001b[0mplacement\u001b[0m\u001b[1;33m=\u001b[0m\u001b[0mplacement\u001b[0m\u001b[1;33m,\u001b[0m \u001b[0mndim\u001b[0m\u001b[1;33m=\u001b[0m\u001b[0mblock_values\u001b[0m\u001b[1;33m.\u001b[0m\u001b[0mndim\u001b[0m\u001b[1;33m)\u001b[0m\u001b[1;33m\u001b[0m\u001b[1;33m\u001b[0m\u001b[0m\n",
      "\u001b[1;31mMemoryError\u001b[0m: Unable to allocate 17.7 GiB for an array with shape (48744, 48744) and data type float64"
     ]
    }
   ],
   "source": [
    "submission_avg=pd.DataFrame()\n",
    "submission_avg['SK_ID_CURR']=submission_cross['SK_ID_CURR']\n",
    "\n",
    "a=submission_cross.TARGET*0.2\n",
    "b=submission_LGBM065*0.4\n",
    "c=a+b\n",
    "#submission_avg['TARGET']=с"
   ]
  },
  {
   "cell_type": "markdown",
   "id": "84ede654",
   "metadata": {},
   "source": [
    "### Стекинг"
   ]
  },
  {
   "cell_type": "code",
   "execution_count": 59,
   "id": "69347f3f",
   "metadata": {},
   "outputs": [
    {
     "name": "stdout",
     "output_type": "stream",
     "text": [
      "[04:05:59] WARNING: C:/Users/Administrator/workspace/xgboost-win64_release_1.5.0/src/learner.cc:1115: Starting in XGBoost 1.3.0, the default evaluation metric used with the objective 'binary:logistic' was changed from 'error' to 'logloss'. Explicitly set eval_metric if you'd like to restore the old behavior.\n",
      "0:\tlearn: 0.5966461\ttotal: 446ms\tremaining: 6.24s\n",
      "1:\tlearn: 0.5200371\ttotal: 637ms\tremaining: 4.14s\n",
      "2:\tlearn: 0.4610770\ttotal: 838ms\tremaining: 3.35s\n",
      "3:\tlearn: 0.4162862\ttotal: 1.02s\tremaining: 2.8s\n",
      "4:\tlearn: 0.3816966\ttotal: 1.19s\tremaining: 2.38s\n",
      "5:\tlearn: 0.3531171\ttotal: 1.36s\tremaining: 2.04s\n",
      "6:\tlearn: 0.3320278\ttotal: 1.51s\tremaining: 1.73s\n",
      "7:\tlearn: 0.3173210\ttotal: 1.68s\tremaining: 1.47s\n",
      "8:\tlearn: 0.3049157\ttotal: 1.83s\tremaining: 1.22s\n",
      "9:\tlearn: 0.2962235\ttotal: 2.09s\tremaining: 1.04s\n",
      "10:\tlearn: 0.2875805\ttotal: 2.4s\tremaining: 873ms\n",
      "11:\tlearn: 0.2809953\ttotal: 2.57s\tremaining: 643ms\n",
      "12:\tlearn: 0.2755928\ttotal: 2.76s\tremaining: 425ms\n",
      "13:\tlearn: 0.2712849\ttotal: 2.95s\tremaining: 211ms\n",
      "14:\tlearn: 0.2671652\ttotal: 3.17s\tremaining: 0us\n",
      "[04:08:27] WARNING: C:/Users/Administrator/workspace/xgboost-win64_release_1.5.0/src/learner.cc:1115: Starting in XGBoost 1.3.0, the default evaluation metric used with the objective 'binary:logistic' was changed from 'error' to 'logloss'. Explicitly set eval_metric if you'd like to restore the old behavior.\n",
      "[04:10:09] WARNING: C:/Users/Administrator/workspace/xgboost-win64_release_1.5.0/src/learner.cc:1115: Starting in XGBoost 1.3.0, the default evaluation metric used with the objective 'binary:logistic' was changed from 'error' to 'logloss'. Explicitly set eval_metric if you'd like to restore the old behavior.\n",
      "[04:11:53] WARNING: C:/Users/Administrator/workspace/xgboost-win64_release_1.5.0/src/learner.cc:1115: Starting in XGBoost 1.3.0, the default evaluation metric used with the objective 'binary:logistic' was changed from 'error' to 'logloss'. Explicitly set eval_metric if you'd like to restore the old behavior.\n",
      "[04:13:33] WARNING: C:/Users/Administrator/workspace/xgboost-win64_release_1.5.0/src/learner.cc:1115: Starting in XGBoost 1.3.0, the default evaluation metric used with the objective 'binary:logistic' was changed from 'error' to 'logloss'. Explicitly set eval_metric if you'd like to restore the old behavior.\n",
      "[04:15:18] WARNING: C:/Users/Administrator/workspace/xgboost-win64_release_1.5.0/src/learner.cc:1115: Starting in XGBoost 1.3.0, the default evaluation metric used with the objective 'binary:logistic' was changed from 'error' to 'logloss'. Explicitly set eval_metric if you'd like to restore the old behavior.\n",
      "0:\tlearn: 0.5971037\ttotal: 136ms\tremaining: 1.9s\n",
      "1:\tlearn: 0.5231472\ttotal: 272ms\tremaining: 1.77s\n",
      "2:\tlearn: 0.4646100\ttotal: 419ms\tremaining: 1.68s\n",
      "3:\tlearn: 0.4166274\ttotal: 559ms\tremaining: 1.54s\n",
      "4:\tlearn: 0.3828285\ttotal: 713ms\tremaining: 1.43s\n",
      "5:\tlearn: 0.3584589\ttotal: 856ms\tremaining: 1.28s\n",
      "6:\tlearn: 0.3356478\ttotal: 1.02s\tremaining: 1.17s\n",
      "7:\tlearn: 0.3205131\ttotal: 1.16s\tremaining: 1.01s\n",
      "8:\tlearn: 0.3087784\ttotal: 1.3s\tremaining: 865ms\n",
      "9:\tlearn: 0.2984178\ttotal: 1.45s\tremaining: 726ms\n",
      "10:\tlearn: 0.2889299\ttotal: 1.61s\tremaining: 587ms\n",
      "11:\tlearn: 0.2825670\ttotal: 1.76s\tremaining: 440ms\n",
      "12:\tlearn: 0.2768532\ttotal: 1.92s\tremaining: 296ms\n",
      "13:\tlearn: 0.2726376\ttotal: 2.07s\tremaining: 148ms\n",
      "14:\tlearn: 0.2688868\ttotal: 2.24s\tremaining: 0us\n",
      "0:\tlearn: 0.5933360\ttotal: 155ms\tremaining: 2.17s\n",
      "1:\tlearn: 0.5192533\ttotal: 301ms\tremaining: 1.95s\n",
      "2:\tlearn: 0.4606003\ttotal: 458ms\tremaining: 1.83s\n",
      "3:\tlearn: 0.4186105\ttotal: 613ms\tremaining: 1.69s\n",
      "4:\tlearn: 0.3851940\ttotal: 771ms\tremaining: 1.54s\n",
      "5:\tlearn: 0.3565268\ttotal: 931ms\tremaining: 1.4s\n",
      "6:\tlearn: 0.3360914\ttotal: 1.09s\tremaining: 1.25s\n",
      "7:\tlearn: 0.3190329\ttotal: 1.25s\tremaining: 1.09s\n",
      "8:\tlearn: 0.3081628\ttotal: 1.4s\tremaining: 936ms\n",
      "9:\tlearn: 0.2983702\ttotal: 1.58s\tremaining: 790ms\n",
      "10:\tlearn: 0.2901045\ttotal: 1.73s\tremaining: 628ms\n",
      "11:\tlearn: 0.2836140\ttotal: 1.87s\tremaining: 467ms\n",
      "12:\tlearn: 0.2775594\ttotal: 2.04s\tremaining: 313ms\n",
      "13:\tlearn: 0.2741333\ttotal: 2.18s\tremaining: 156ms\n",
      "14:\tlearn: 0.2703226\ttotal: 2.34s\tremaining: 0us\n",
      "0:\tlearn: 0.5966143\ttotal: 140ms\tremaining: 1.96s\n",
      "1:\tlearn: 0.5186454\ttotal: 294ms\tremaining: 1.91s\n",
      "2:\tlearn: 0.4614257\ttotal: 442ms\tremaining: 1.77s\n",
      "3:\tlearn: 0.4190737\ttotal: 569ms\tremaining: 1.56s\n",
      "4:\tlearn: 0.3838420\ttotal: 724ms\tremaining: 1.45s\n",
      "5:\tlearn: 0.3545582\ttotal: 866ms\tremaining: 1.3s\n",
      "6:\tlearn: 0.3342018\ttotal: 1.01s\tremaining: 1.16s\n",
      "7:\tlearn: 0.3174234\ttotal: 1.15s\tremaining: 1s\n",
      "8:\tlearn: 0.3049930\ttotal: 1.29s\tremaining: 858ms\n",
      "9:\tlearn: 0.2962601\ttotal: 1.42s\tremaining: 710ms\n",
      "10:\tlearn: 0.2881944\ttotal: 1.57s\tremaining: 573ms\n",
      "11:\tlearn: 0.2813582\ttotal: 1.74s\tremaining: 435ms\n",
      "12:\tlearn: 0.2755229\ttotal: 1.95s\tremaining: 300ms\n",
      "13:\tlearn: 0.2713957\ttotal: 2.1s\tremaining: 150ms\n",
      "14:\tlearn: 0.2678498\ttotal: 2.27s\tremaining: 0us\n",
      "0:\tlearn: 0.5965735\ttotal: 139ms\tremaining: 1.94s\n",
      "1:\tlearn: 0.5197595\ttotal: 285ms\tremaining: 1.85s\n",
      "2:\tlearn: 0.4608436\ttotal: 440ms\tremaining: 1.76s\n",
      "3:\tlearn: 0.4185658\ttotal: 613ms\tremaining: 1.69s\n",
      "4:\tlearn: 0.3833848\ttotal: 792ms\tremaining: 1.58s\n",
      "5:\tlearn: 0.3543592\ttotal: 933ms\tremaining: 1.4s\n",
      "6:\tlearn: 0.3343083\ttotal: 1.11s\tremaining: 1.27s\n",
      "7:\tlearn: 0.3174769\ttotal: 1.27s\tremaining: 1.11s\n",
      "8:\tlearn: 0.3049459\ttotal: 1.46s\tremaining: 971ms\n",
      "9:\tlearn: 0.2962184\ttotal: 1.59s\tremaining: 795ms\n",
      "10:\tlearn: 0.2880318\ttotal: 1.75s\tremaining: 635ms\n",
      "11:\tlearn: 0.2813027\ttotal: 1.89s\tremaining: 473ms\n",
      "12:\tlearn: 0.2756950\ttotal: 2.05s\tremaining: 315ms\n",
      "13:\tlearn: 0.2714184\ttotal: 2.21s\tremaining: 158ms\n",
      "14:\tlearn: 0.2675041\ttotal: 2.39s\tremaining: 0us\n",
      "0:\tlearn: 0.5951222\ttotal: 142ms\tremaining: 1.99s\n",
      "1:\tlearn: 0.5224720\ttotal: 284ms\tremaining: 1.84s\n",
      "2:\tlearn: 0.4667362\ttotal: 428ms\tremaining: 1.71s\n",
      "3:\tlearn: 0.4218404\ttotal: 557ms\tremaining: 1.53s\n",
      "4:\tlearn: 0.3843279\ttotal: 714ms\tremaining: 1.43s\n",
      "5:\tlearn: 0.3570801\ttotal: 866ms\tremaining: 1.3s\n",
      "6:\tlearn: 0.3349187\ttotal: 1.04s\tremaining: 1.19s\n",
      "7:\tlearn: 0.3207804\ttotal: 1.16s\tremaining: 1.02s\n",
      "8:\tlearn: 0.3077926\ttotal: 1.32s\tremaining: 881ms\n",
      "9:\tlearn: 0.2976389\ttotal: 1.5s\tremaining: 749ms\n",
      "10:\tlearn: 0.2894932\ttotal: 1.65s\tremaining: 602ms\n",
      "11:\tlearn: 0.2824114\ttotal: 1.8s\tremaining: 451ms\n",
      "12:\tlearn: 0.2773147\ttotal: 1.97s\tremaining: 304ms\n",
      "13:\tlearn: 0.2731004\ttotal: 2.12s\tremaining: 151ms\n",
      "14:\tlearn: 0.2696540\ttotal: 2.28s\tremaining: 0us\n",
      "Wall time: 13min 13s\n",
      "Parser   : 209 ms\n"
     ]
    }
   ],
   "source": [
    "%%time\n",
    "X_train = X_train.rename(columns = lambda x:re.sub('[^A-Za-z0-9_]+', '', x))\n",
    "X_valid = X_valid.rename(columns = lambda x:re.sub('[^A-Za-z0-9_]+', '', x))\n",
    "#y = y.rename(columns = lambda x:re.sub('[^A-Za-z0-9_]+', '', x))\n",
    "#y=y_train\n",
    "\n",
    "estimators = [\n",
    "     ('XGB',  xgb.XGBClassifier(random_state=42)),\n",
    "     ('LGBM', LGBMClassifier(random_state=42)),\n",
    "     ('CB', CatBoostClassifier(iterations=15,learning_rate=0.1, depth=8,random_state=42)),\n",
    "    \n",
    " ]\n",
    "\n",
    "clf_stack = StackingClassifier(\n",
    "     estimators=estimators, final_estimator=LogisticRegression())\n",
    "clf_stack.fit(X_train, y_train)\n",
    "#.score(X_test, y_test)\n",
    "\n",
    "\n",
    "\n",
    "\n",
    "predictions_stack = clf_stack.predict_proba(X_valid)[:, 1]\n",
    "\n",
    "# Датафрейм для загрузки\n",
    "submission_stack = test[['SK_ID_CURR']]\n",
    "submission_stack['TARGET'] = predictions_stack\n",
    "\n",
    "\n",
    "y_valid_pred_stack=submission_stack['TARGET']\n",
    "\n",
    "# Сохранение датафрейма\n",
    "submission.to_csv('y_valid_pred_stack.csv', index = False)"
   ]
  },
  {
   "cell_type": "code",
   "execution_count": 61,
   "id": "50087eaa",
   "metadata": {},
   "outputs": [
    {
     "data": {
      "text/plain": [
       "0.7718652209422182"
      ]
     },
     "execution_count": 61,
     "metadata": {},
     "output_type": "execute_result"
    }
   ],
   "source": [
    " roc_auc_score(y_valid, y_valid_pred_stack)"
   ]
  },
  {
   "cell_type": "code",
   "execution_count": 63,
   "id": "fd02d2a4",
   "metadata": {},
   "outputs": [
    {
     "name": "stdout",
     "output_type": "stream",
     "text": [
      "[04:25:45] WARNING: C:/Users/Administrator/workspace/xgboost-win64_release_1.5.0/src/learner.cc:1115: Starting in XGBoost 1.3.0, the default evaluation metric used with the objective 'binary:logistic' was changed from 'error' to 'logloss'. Explicitly set eval_metric if you'd like to restore the old behavior.\n",
      "0:\tlearn: 0.5966461\ttotal: 459ms\tremaining: 6.42s\n",
      "1:\tlearn: 0.5200371\ttotal: 726ms\tremaining: 4.72s\n",
      "2:\tlearn: 0.4610770\ttotal: 899ms\tremaining: 3.6s\n",
      "3:\tlearn: 0.4162862\ttotal: 1.12s\tremaining: 3.09s\n",
      "4:\tlearn: 0.3816966\ttotal: 1.32s\tremaining: 2.64s\n",
      "5:\tlearn: 0.3531171\ttotal: 1.48s\tremaining: 2.22s\n",
      "6:\tlearn: 0.3320278\ttotal: 1.63s\tremaining: 1.86s\n",
      "7:\tlearn: 0.3173210\ttotal: 1.84s\tremaining: 1.61s\n",
      "8:\tlearn: 0.3049157\ttotal: 2.03s\tremaining: 1.35s\n",
      "9:\tlearn: 0.2962235\ttotal: 2.17s\tremaining: 1.09s\n",
      "10:\tlearn: 0.2875805\ttotal: 2.35s\tremaining: 854ms\n",
      "11:\tlearn: 0.2809953\ttotal: 2.6s\tremaining: 650ms\n",
      "12:\tlearn: 0.2755928\ttotal: 2.77s\tremaining: 427ms\n",
      "13:\tlearn: 0.2712849\ttotal: 2.95s\tremaining: 211ms\n",
      "14:\tlearn: 0.2671652\ttotal: 3.13s\tremaining: 0us\n",
      "[04:29:02] WARNING: C:/Users/Administrator/workspace/xgboost-win64_release_1.5.0/src/learner.cc:1115: Starting in XGBoost 1.3.0, the default evaluation metric used with the objective 'binary:logistic' was changed from 'error' to 'logloss'. Explicitly set eval_metric if you'd like to restore the old behavior.\n",
      "[04:30:45] WARNING: C:/Users/Administrator/workspace/xgboost-win64_release_1.5.0/src/learner.cc:1115: Starting in XGBoost 1.3.0, the default evaluation metric used with the objective 'binary:logistic' was changed from 'error' to 'logloss'. Explicitly set eval_metric if you'd like to restore the old behavior.\n",
      "[04:32:26] WARNING: C:/Users/Administrator/workspace/xgboost-win64_release_1.5.0/src/learner.cc:1115: Starting in XGBoost 1.3.0, the default evaluation metric used with the objective 'binary:logistic' was changed from 'error' to 'logloss'. Explicitly set eval_metric if you'd like to restore the old behavior.\n",
      "[04:34:10] WARNING: C:/Users/Administrator/workspace/xgboost-win64_release_1.5.0/src/learner.cc:1115: Starting in XGBoost 1.3.0, the default evaluation metric used with the objective 'binary:logistic' was changed from 'error' to 'logloss'. Explicitly set eval_metric if you'd like to restore the old behavior.\n",
      "[04:35:53] WARNING: C:/Users/Administrator/workspace/xgboost-win64_release_1.5.0/src/learner.cc:1115: Starting in XGBoost 1.3.0, the default evaluation metric used with the objective 'binary:logistic' was changed from 'error' to 'logloss'. Explicitly set eval_metric if you'd like to restore the old behavior.\n",
      "0:\tlearn: 0.5971037\ttotal: 155ms\tremaining: 2.17s\n",
      "1:\tlearn: 0.5231472\ttotal: 315ms\tremaining: 2.05s\n",
      "2:\tlearn: 0.4646100\ttotal: 467ms\tremaining: 1.87s\n",
      "3:\tlearn: 0.4166274\ttotal: 634ms\tremaining: 1.74s\n",
      "4:\tlearn: 0.3828285\ttotal: 780ms\tremaining: 1.56s\n",
      "5:\tlearn: 0.3584589\ttotal: 924ms\tremaining: 1.39s\n",
      "6:\tlearn: 0.3356478\ttotal: 1.09s\tremaining: 1.25s\n",
      "7:\tlearn: 0.3205131\ttotal: 1.23s\tremaining: 1.07s\n",
      "8:\tlearn: 0.3087784\ttotal: 1.45s\tremaining: 965ms\n",
      "9:\tlearn: 0.2984178\ttotal: 1.6s\tremaining: 800ms\n",
      "10:\tlearn: 0.2889299\ttotal: 1.77s\tremaining: 645ms\n",
      "11:\tlearn: 0.2825670\ttotal: 1.92s\tremaining: 479ms\n",
      "12:\tlearn: 0.2768532\ttotal: 2.09s\tremaining: 321ms\n",
      "13:\tlearn: 0.2726376\ttotal: 2.24s\tremaining: 160ms\n",
      "14:\tlearn: 0.2688868\ttotal: 2.39s\tremaining: 0us\n",
      "0:\tlearn: 0.5933360\ttotal: 146ms\tremaining: 2.04s\n",
      "1:\tlearn: 0.5192533\ttotal: 296ms\tremaining: 1.93s\n",
      "2:\tlearn: 0.4606003\ttotal: 440ms\tremaining: 1.76s\n",
      "3:\tlearn: 0.4186105\ttotal: 580ms\tremaining: 1.59s\n",
      "4:\tlearn: 0.3851940\ttotal: 726ms\tremaining: 1.45s\n",
      "5:\tlearn: 0.3565268\ttotal: 897ms\tremaining: 1.34s\n",
      "6:\tlearn: 0.3360914\ttotal: 1.05s\tremaining: 1.2s\n",
      "7:\tlearn: 0.3190329\ttotal: 1.21s\tremaining: 1.06s\n",
      "8:\tlearn: 0.3081628\ttotal: 1.36s\tremaining: 910ms\n",
      "9:\tlearn: 0.2983702\ttotal: 1.54s\tremaining: 770ms\n",
      "10:\tlearn: 0.2901045\ttotal: 1.69s\tremaining: 615ms\n",
      "11:\tlearn: 0.2836140\ttotal: 1.84s\tremaining: 460ms\n",
      "12:\tlearn: 0.2775594\ttotal: 2s\tremaining: 308ms\n",
      "13:\tlearn: 0.2741333\ttotal: 2.16s\tremaining: 154ms\n",
      "14:\tlearn: 0.2703226\ttotal: 2.31s\tremaining: 0us\n",
      "0:\tlearn: 0.5966143\ttotal: 147ms\tremaining: 2.05s\n",
      "1:\tlearn: 0.5186454\ttotal: 298ms\tremaining: 1.94s\n",
      "2:\tlearn: 0.4614257\ttotal: 441ms\tremaining: 1.76s\n",
      "3:\tlearn: 0.4190737\ttotal: 570ms\tremaining: 1.57s\n",
      "4:\tlearn: 0.3838420\ttotal: 740ms\tremaining: 1.48s\n",
      "5:\tlearn: 0.3545582\ttotal: 895ms\tremaining: 1.34s\n",
      "6:\tlearn: 0.3342018\ttotal: 1.05s\tremaining: 1.2s\n",
      "7:\tlearn: 0.3174234\ttotal: 1.19s\tremaining: 1.04s\n",
      "8:\tlearn: 0.3049930\ttotal: 1.35s\tremaining: 898ms\n",
      "9:\tlearn: 0.2962601\ttotal: 1.49s\tremaining: 746ms\n",
      "10:\tlearn: 0.2881944\ttotal: 1.64s\tremaining: 597ms\n",
      "11:\tlearn: 0.2813582\ttotal: 1.81s\tremaining: 452ms\n",
      "12:\tlearn: 0.2755229\ttotal: 1.98s\tremaining: 305ms\n",
      "13:\tlearn: 0.2713957\ttotal: 2.15s\tremaining: 154ms\n",
      "14:\tlearn: 0.2678498\ttotal: 2.33s\tremaining: 0us\n",
      "0:\tlearn: 0.5965735\ttotal: 148ms\tremaining: 2.07s\n",
      "1:\tlearn: 0.5197595\ttotal: 297ms\tremaining: 1.93s\n",
      "2:\tlearn: 0.4608436\ttotal: 451ms\tremaining: 1.8s\n",
      "3:\tlearn: 0.4185658\ttotal: 586ms\tremaining: 1.61s\n",
      "4:\tlearn: 0.3833848\ttotal: 735ms\tremaining: 1.47s\n",
      "5:\tlearn: 0.3543592\ttotal: 890ms\tremaining: 1.33s\n",
      "6:\tlearn: 0.3343083\ttotal: 1.04s\tremaining: 1.18s\n",
      "7:\tlearn: 0.3174769\ttotal: 1.19s\tremaining: 1.04s\n",
      "8:\tlearn: 0.3049459\ttotal: 1.34s\tremaining: 893ms\n",
      "9:\tlearn: 0.2962184\ttotal: 1.48s\tremaining: 741ms\n",
      "10:\tlearn: 0.2880318\ttotal: 1.65s\tremaining: 600ms\n",
      "11:\tlearn: 0.2813027\ttotal: 1.81s\tremaining: 452ms\n",
      "12:\tlearn: 0.2756950\ttotal: 1.97s\tremaining: 302ms\n",
      "13:\tlearn: 0.2714184\ttotal: 2.11s\tremaining: 151ms\n",
      "14:\tlearn: 0.2675041\ttotal: 2.27s\tremaining: 0us\n",
      "0:\tlearn: 0.5951222\ttotal: 145ms\tremaining: 2.03s\n",
      "1:\tlearn: 0.5224720\ttotal: 287ms\tremaining: 1.86s\n",
      "2:\tlearn: 0.4667362\ttotal: 420ms\tremaining: 1.68s\n",
      "3:\tlearn: 0.4218404\ttotal: 557ms\tremaining: 1.53s\n",
      "4:\tlearn: 0.3843279\ttotal: 705ms\tremaining: 1.41s\n",
      "5:\tlearn: 0.3570801\ttotal: 850ms\tremaining: 1.27s\n",
      "6:\tlearn: 0.3349187\ttotal: 992ms\tremaining: 1.13s\n",
      "7:\tlearn: 0.3207804\ttotal: 1.12s\tremaining: 984ms\n",
      "8:\tlearn: 0.3077926\ttotal: 1.28s\tremaining: 852ms\n",
      "9:\tlearn: 0.2976389\ttotal: 1.43s\tremaining: 716ms\n",
      "10:\tlearn: 0.2894932\ttotal: 1.59s\tremaining: 579ms\n",
      "11:\tlearn: 0.2824114\ttotal: 1.75s\tremaining: 438ms\n",
      "12:\tlearn: 0.2773147\ttotal: 1.92s\tremaining: 295ms\n",
      "13:\tlearn: 0.2731004\ttotal: 2.08s\tremaining: 148ms\n",
      "14:\tlearn: 0.2696540\ttotal: 2.23s\tremaining: 0us\n",
      "Wall time: 14min 48s\n"
     ]
    }
   ],
   "source": [
    "%%time\n",
    "X_train = X_train.rename(columns = lambda x:re.sub('[^A-Za-z0-9_]+', '', x))\n",
    "X_valid = X_valid.rename(columns = lambda x:re.sub('[^A-Za-z0-9_]+', '', x))\n",
    "#y = y.rename(columns = lambda x:re.sub('[^A-Za-z0-9_]+', '', x))\n",
    "#y=y_train\n",
    "\n",
    "estimators = [\n",
    "     ('XGB',  xgb.XGBClassifier(random_state=42, learning_rate=0.1)),\n",
    "     ('LGBM', LGBMClassifier(random_state=42, learning_rate=0.1)),\n",
    "     ('CB', CatBoostClassifier(iterations=15,learning_rate=0.1, depth=8,random_state=42)),\n",
    "    \n",
    " ]\n",
    "\n",
    "clf_stack = StackingClassifier(\n",
    "     estimators=estimators, final_estimator=LogisticRegression())\n",
    "clf_stack.fit(X_train, y_train)\n",
    "#.score(X_test, y_test)\n",
    "\n",
    "\n",
    "\n",
    "\n",
    "predictions_stack = clf_stack.predict_proba(X_valid)[:, 1]\n",
    "\n",
    "# Датафрейм для загрузки\n",
    "submission_stack = test[['SK_ID_CURR']]\n",
    "submission_stack['TARGET'] = predictions_stack\n",
    "\n",
    "\n",
    "y_valid_pred_stack=submission_stack['TARGET']\n",
    "\n",
    "# Сохранение датафрейма\n",
    "submission.to_csv('y_valid_pred_stack_lr01.csv', index = False)"
   ]
  },
  {
   "cell_type": "code",
   "execution_count": 64,
   "id": "07daf90c",
   "metadata": {},
   "outputs": [
    {
     "data": {
      "text/plain": [
       "0.7721865770172549"
      ]
     },
     "execution_count": 64,
     "metadata": {},
     "output_type": "execute_result"
    }
   ],
   "source": [
    " roc_auc_score(y_valid, y_valid_pred_stack)"
   ]
  },
  {
   "cell_type": "code",
   "execution_count": 109,
   "id": "5e066416",
   "metadata": {},
   "outputs": [],
   "source": [
    "app_test = app_test.rename(columns = lambda x:re.sub('[^A-Za-z0-9_]+', '', x))\n",
    "\n",
    "predictions_stack_test = clf_stack.predict_proba(app_test.iloc[:,:-1])\n",
    "predictions_stack_test = pd.DataFrame({\n",
    "    'SK_ID_CURR': app_test['SK_ID_CURR'],\n",
    "    'TARGET':     [ row[1] for row in probabilities]\n",
    "})\n",
    "predictions_stack_test.to_csv(\"stack_test.csv\", index=False)\n",
    "\n",
    "y_valid_pred_stack_test=predictions_stack_test"
   ]
  },
  {
   "cell_type": "markdown",
   "id": "9126cde2",
   "metadata": {},
   "source": [
    "Score: 0.75608\n",
    "\n",
    "\n",
    "К сожалению, ни один из предложенных методов не позволил улучшить результат, данный в кернеле. "
   ]
  }
 ],
 "metadata": {
  "kernelspec": {
   "display_name": "Python 3",
   "language": "python",
   "name": "python3"
  },
  "language_info": {
   "codemirror_mode": {
    "name": "ipython",
    "version": 3
   },
   "file_extension": ".py",
   "mimetype": "text/x-python",
   "name": "python",
   "nbconvert_exporter": "python",
   "pygments_lexer": "ipython3",
   "version": "3.8.10"
  }
 },
 "nbformat": 4,
 "nbformat_minor": 5
}
