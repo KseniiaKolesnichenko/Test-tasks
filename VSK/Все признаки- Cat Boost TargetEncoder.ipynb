{
 "cells": [
  {
   "cell_type": "code",
   "execution_count": 1,
   "id": "b5716eef",
   "metadata": {},
   "outputs": [],
   "source": [
    "###!pip install CatBoost"
   ]
  },
  {
   "cell_type": "code",
   "execution_count": 2,
   "id": "da19fffd",
   "metadata": {},
   "outputs": [],
   "source": [
    "import pandas as pd\n",
    "import numpy as np\n",
    "from sklearn import preprocessing\n",
    "\n",
    "from sklearn.preprocessing import OrdinalEncoder\n",
    "from sklearn.preprocessing import LabelEncoder\n",
    "from category_encoders import TargetEncoder\n",
    "\n",
    "import seaborn as sns\n",
    "import matplotlib.pyplot as plt\n",
    "\n",
    "from sklearn.ensemble import RandomForestClassifier\n",
    "import catboost as cb\n",
    "from sklearn.model_selection import GridSearchCV\n",
    "from sklearn.metrics import accuracy_score, precision_score, recall_score,roc_curve, auc, f1_score, matthews_corrcoef\n",
    "from sklearn.model_selection import train_test_split\n",
    "pd.options.display.max_columns = None\n",
    "#pd.set_option('display.max_rows', None)\n",
    "import warnings\n",
    "warnings.filterwarnings(\"ignore\")\n",
    "\n",
    "%matplotlib inline"
   ]
  },
  {
   "cell_type": "markdown",
   "id": "5afb45c4",
   "metadata": {},
   "source": [
    "Посмотрим на датасет, как распределены признаки в нём, почистим и приведём данные в надлежащий вид"
   ]
  },
  {
   "cell_type": "code",
   "execution_count": 3,
   "id": "73837c6d",
   "metadata": {},
   "outputs": [
    {
     "data": {
      "text/html": [
       "<div>\n",
       "<style scoped>\n",
       "    .dataframe tbody tr th:only-of-type {\n",
       "        vertical-align: middle;\n",
       "    }\n",
       "\n",
       "    .dataframe tbody tr th {\n",
       "        vertical-align: top;\n",
       "    }\n",
       "\n",
       "    .dataframe thead th {\n",
       "        text-align: right;\n",
       "    }\n",
       "</style>\n",
       "<table border=\"1\" class=\"dataframe\">\n",
       "  <thead>\n",
       "    <tr style=\"text-align: right;\">\n",
       "      <th></th>\n",
       "      <th>ID</th>\n",
       "      <th>Filial</th>\n",
       "      <th>Type_ts</th>\n",
       "      <th>passport_region</th>\n",
       "      <th>VIP</th>\n",
       "      <th>Brand</th>\n",
       "      <th>Model</th>\n",
       "      <th>Yr_production</th>\n",
       "      <th>GAP</th>\n",
       "      <th>married</th>\n",
       "      <th>KBM</th>\n",
       "      <th>KBM_prol_est</th>\n",
       "      <th>delta_kbm</th>\n",
       "      <th>deduct</th>\n",
       "      <th>deduct_amount</th>\n",
       "      <th>product</th>\n",
       "      <th>Bank</th>\n",
       "      <th>channel - map</th>\n",
       "      <th>category</th>\n",
       "      <th>kvs_type</th>\n",
       "      <th>Age</th>\n",
       "      <th>Exp</th>\n",
       "      <th>discount</th>\n",
       "      <th>Amount - gr</th>\n",
       "      <th>sex</th>\n",
       "      <th>premium_car</th>\n",
       "      <th>price_gr</th>\n",
       "      <th>price_prc</th>\n",
       "      <th>OSAGO_clnt</th>\n",
       "      <th>target</th>\n",
       "    </tr>\n",
       "  </thead>\n",
       "  <tbody>\n",
       "    <tr>\n",
       "      <th>0</th>\n",
       "      <td>1</td>\n",
       "      <td>Магнитогорский</td>\n",
       "      <td>Иностранные</td>\n",
       "      <td>Челябинская область</td>\n",
       "      <td>NaN</td>\n",
       "      <td>TOYOTA</td>\n",
       "      <td>RAV 4</td>\n",
       "      <td>2018</td>\n",
       "      <td>Нет</td>\n",
       "      <td>Состоит в браке</td>\n",
       "      <td>8</td>\n",
       "      <td>6</td>\n",
       "      <td>-2</td>\n",
       "      <td>Франшиза 2-ой страховой случай</td>\n",
       "      <td>20000+</td>\n",
       "      <td>Классика</td>\n",
       "      <td>Банк</td>\n",
       "      <td>Автосалоны</td>\n",
       "      <td>NB 0-1</td>\n",
       "      <td>Водители согласно перечню</td>\n",
       "      <td>42</td>\n",
       "      <td>24</td>\n",
       "      <td>1.00</td>\n",
       "      <td>1400000</td>\n",
       "      <td>M</td>\n",
       "      <td>0</td>\n",
       "      <td>55000</td>\n",
       "      <td>0.040</td>\n",
       "      <td>0</td>\n",
       "      <td>0</td>\n",
       "    </tr>\n",
       "    <tr>\n",
       "      <th>1</th>\n",
       "      <td>2</td>\n",
       "      <td>Магнитогорский</td>\n",
       "      <td>Отечественные</td>\n",
       "      <td>Челябинская область</td>\n",
       "      <td>NaN</td>\n",
       "      <td>LADA</td>\n",
       "      <td>GRANTA</td>\n",
       "      <td>2016</td>\n",
       "      <td>Нет</td>\n",
       "      <td>Состоит в браке</td>\n",
       "      <td>8</td>\n",
       "      <td>6</td>\n",
       "      <td>-2</td>\n",
       "      <td>Без франшизы</td>\n",
       "      <td>0</td>\n",
       "      <td>Компакт</td>\n",
       "      <td>Банк</td>\n",
       "      <td>Автосалоны</td>\n",
       "      <td>RN</td>\n",
       "      <td>Водители согласно перечню</td>\n",
       "      <td>41</td>\n",
       "      <td>4</td>\n",
       "      <td>1.05</td>\n",
       "      <td>200000</td>\n",
       "      <td>M</td>\n",
       "      <td>0</td>\n",
       "      <td>10000</td>\n",
       "      <td>0.010</td>\n",
       "      <td>0</td>\n",
       "      <td>0</td>\n",
       "    </tr>\n",
       "    <tr>\n",
       "      <th>2</th>\n",
       "      <td>3</td>\n",
       "      <td>Ростовский</td>\n",
       "      <td>Отечественные</td>\n",
       "      <td>Ростовская область</td>\n",
       "      <td>NaN</td>\n",
       "      <td>LADA</td>\n",
       "      <td>GRANTA</td>\n",
       "      <td>2018</td>\n",
       "      <td>Нет</td>\n",
       "      <td>Не состоит в браке</td>\n",
       "      <td>8</td>\n",
       "      <td>6</td>\n",
       "      <td>-2</td>\n",
       "      <td>Без франшизы</td>\n",
       "      <td>0</td>\n",
       "      <td>Классика</td>\n",
       "      <td>Банк</td>\n",
       "      <td>Автосалоны</td>\n",
       "      <td>NB 0-1</td>\n",
       "      <td>Водители согласно перечню</td>\n",
       "      <td>49</td>\n",
       "      <td>20</td>\n",
       "      <td>0.95</td>\n",
       "      <td>400000</td>\n",
       "      <td>F</td>\n",
       "      <td>0</td>\n",
       "      <td>30000</td>\n",
       "      <td>0.065</td>\n",
       "      <td>1</td>\n",
       "      <td>1</td>\n",
       "    </tr>\n",
       "    <tr>\n",
       "      <th>3</th>\n",
       "      <td>4</td>\n",
       "      <td>Казанский</td>\n",
       "      <td>Иностранные</td>\n",
       "      <td>Республика Татарстан</td>\n",
       "      <td>NaN</td>\n",
       "      <td>KIA</td>\n",
       "      <td>RIO</td>\n",
       "      <td>2016</td>\n",
       "      <td>Нет</td>\n",
       "      <td>Не состоит в браке</td>\n",
       "      <td>8</td>\n",
       "      <td>6</td>\n",
       "      <td>-2</td>\n",
       "      <td>Без франшизы</td>\n",
       "      <td>0</td>\n",
       "      <td>Компакт</td>\n",
       "      <td>Сетелем</td>\n",
       "      <td>Автосалоны</td>\n",
       "      <td>RN</td>\n",
       "      <td>Водители согласно перечню</td>\n",
       "      <td>40</td>\n",
       "      <td>15</td>\n",
       "      <td>1.10</td>\n",
       "      <td>400000</td>\n",
       "      <td>M</td>\n",
       "      <td>0</td>\n",
       "      <td>10000</td>\n",
       "      <td>0.020</td>\n",
       "      <td>1</td>\n",
       "      <td>0</td>\n",
       "    </tr>\n",
       "    <tr>\n",
       "      <th>4</th>\n",
       "      <td>5</td>\n",
       "      <td>Московский</td>\n",
       "      <td>Иностранные</td>\n",
       "      <td>Москва</td>\n",
       "      <td>NaN</td>\n",
       "      <td>DATSUN</td>\n",
       "      <td>ON-DO</td>\n",
       "      <td>2018</td>\n",
       "      <td>Нет</td>\n",
       "      <td>Состоит в браке</td>\n",
       "      <td>8</td>\n",
       "      <td>6</td>\n",
       "      <td>-2</td>\n",
       "      <td>Без франшизы</td>\n",
       "      <td>0</td>\n",
       "      <td>Компакт</td>\n",
       "      <td>Без банка</td>\n",
       "      <td>Розница</td>\n",
       "      <td>NB 0-1</td>\n",
       "      <td>Водители согласно перечню</td>\n",
       "      <td>58</td>\n",
       "      <td>23</td>\n",
       "      <td>1.00</td>\n",
       "      <td>400000</td>\n",
       "      <td>M</td>\n",
       "      <td>0</td>\n",
       "      <td>10000</td>\n",
       "      <td>0.015</td>\n",
       "      <td>0</td>\n",
       "      <td>0</td>\n",
       "    </tr>\n",
       "  </tbody>\n",
       "</table>\n",
       "</div>"
      ],
      "text/plain": [
       "   ID          Filial        Type_ts       passport_region  VIP   Brand  \\\n",
       "0   1  Магнитогорский    Иностранные   Челябинская область  NaN  TOYOTA   \n",
       "1   2  Магнитогорский  Отечественные   Челябинская область  NaN    LADA   \n",
       "2   3      Ростовский  Отечественные    Ростовская область  NaN    LADA   \n",
       "3   4       Казанский    Иностранные  Республика Татарстан  NaN     KIA   \n",
       "4   5      Московский    Иностранные                Москва  NaN  DATSUN   \n",
       "\n",
       "    Model  Yr_production  GAP             married  KBM  KBM_prol_est  \\\n",
       "0   RAV 4           2018  Нет     Состоит в браке    8             6   \n",
       "1  GRANTA           2016  Нет     Состоит в браке    8             6   \n",
       "2  GRANTA           2018  Нет  Не состоит в браке    8             6   \n",
       "3     RIO           2016  Нет  Не состоит в браке    8             6   \n",
       "4   ON-DO           2018  Нет     Состоит в браке    8             6   \n",
       "\n",
       "   delta_kbm                          deduct deduct_amount   product  \\\n",
       "0         -2  Франшиза 2-ой страховой случай        20000+  Классика   \n",
       "1         -2                    Без франшизы             0   Компакт   \n",
       "2         -2                    Без франшизы             0  Классика   \n",
       "3         -2                    Без франшизы             0   Компакт   \n",
       "4         -2                    Без франшизы             0   Компакт   \n",
       "\n",
       "        Bank channel - map category                   kvs_type  Age  Exp  \\\n",
       "0       Банк    Автосалоны   NB 0-1  Водители согласно перечню   42   24   \n",
       "1       Банк    Автосалоны       RN  Водители согласно перечню   41    4   \n",
       "2       Банк    Автосалоны   NB 0-1  Водители согласно перечню   49   20   \n",
       "3    Сетелем    Автосалоны       RN  Водители согласно перечню   40   15   \n",
       "4  Без банка       Розница   NB 0-1  Водители согласно перечню   58   23   \n",
       "\n",
       "   discount  Amount - gr sex  premium_car  price_gr  price_prc  OSAGO_clnt  \\\n",
       "0      1.00      1400000   M            0     55000      0.040           0   \n",
       "1      1.05       200000   M            0     10000      0.010           0   \n",
       "2      0.95       400000   F            0     30000      0.065           1   \n",
       "3      1.10       400000   M            0     10000      0.020           1   \n",
       "4      1.00       400000   M            0     10000      0.015           0   \n",
       "\n",
       "   target  \n",
       "0       0  \n",
       "1       0  \n",
       "2       1  \n",
       "3       0  \n",
       "4       0  "
      ]
     },
     "execution_count": 3,
     "metadata": {},
     "output_type": "execute_result"
    }
   ],
   "source": [
    "df=pd.read_excel(\"Задание (пролонгация).xlsx\", sheet_name = 'data_full')\n",
    "df.head(5)"
   ]
  },
  {
   "cell_type": "code",
   "execution_count": 4,
   "id": "3ca7d7ba",
   "metadata": {},
   "outputs": [
    {
     "data": {
      "text/html": [
       "<div>\n",
       "<style scoped>\n",
       "    .dataframe tbody tr th:only-of-type {\n",
       "        vertical-align: middle;\n",
       "    }\n",
       "\n",
       "    .dataframe tbody tr th {\n",
       "        vertical-align: top;\n",
       "    }\n",
       "\n",
       "    .dataframe thead th {\n",
       "        text-align: right;\n",
       "    }\n",
       "</style>\n",
       "<table border=\"1\" class=\"dataframe\">\n",
       "  <thead>\n",
       "    <tr style=\"text-align: right;\">\n",
       "      <th></th>\n",
       "      <th>id</th>\n",
       "      <th>ID договора</th>\n",
       "    </tr>\n",
       "  </thead>\n",
       "  <tbody>\n",
       "    <tr>\n",
       "      <th>0</th>\n",
       "      <td>Filial</td>\n",
       "      <td>Филиал продажи</td>\n",
       "    </tr>\n",
       "    <tr>\n",
       "      <th>1</th>\n",
       "      <td>Type_ts</td>\n",
       "      <td>Тип ТС</td>\n",
       "    </tr>\n",
       "    <tr>\n",
       "      <th>2</th>\n",
       "      <td>passport_region</td>\n",
       "      <td>Регион по серии паспорта</td>\n",
       "    </tr>\n",
       "    <tr>\n",
       "      <th>3</th>\n",
       "      <td>VIP</td>\n",
       "      <td>VIP клиент</td>\n",
       "    </tr>\n",
       "    <tr>\n",
       "      <th>4</th>\n",
       "      <td>Brand</td>\n",
       "      <td>Марка ТС</td>\n",
       "    </tr>\n",
       "    <tr>\n",
       "      <th>5</th>\n",
       "      <td>Model</td>\n",
       "      <td>Модель ТС</td>\n",
       "    </tr>\n",
       "    <tr>\n",
       "      <th>6</th>\n",
       "      <td>Yr_production</td>\n",
       "      <td>Год выпуска ТС</td>\n",
       "    </tr>\n",
       "    <tr>\n",
       "      <th>7</th>\n",
       "      <td>GAP</td>\n",
       "      <td>GAP застрахован</td>\n",
       "    </tr>\n",
       "    <tr>\n",
       "      <th>8</th>\n",
       "      <td>married</td>\n",
       "      <td>Брак</td>\n",
       "    </tr>\n",
       "    <tr>\n",
       "      <th>9</th>\n",
       "      <td>KBM</td>\n",
       "      <td>КБМ</td>\n",
       "    </tr>\n",
       "    <tr>\n",
       "      <th>10</th>\n",
       "      <td>KBM_prol_est</td>\n",
       "      <td>Прогноз КБМ (пролонгация)</td>\n",
       "    </tr>\n",
       "    <tr>\n",
       "      <th>11</th>\n",
       "      <td>delta_kbm</td>\n",
       "      <td>Изменение КБМ</td>\n",
       "    </tr>\n",
       "    <tr>\n",
       "      <th>12</th>\n",
       "      <td>deduct</td>\n",
       "      <td>Тип франшизы</td>\n",
       "    </tr>\n",
       "    <tr>\n",
       "      <th>13</th>\n",
       "      <td>deduct_amount</td>\n",
       "      <td>Сумма франшизы (0 -без франшизы;20000- - франш...</td>\n",
       "    </tr>\n",
       "    <tr>\n",
       "      <th>14</th>\n",
       "      <td>product</td>\n",
       "      <td>Продукт</td>\n",
       "    </tr>\n",
       "    <tr>\n",
       "      <th>15</th>\n",
       "      <td>Bank</td>\n",
       "      <td>Машина в залоге банка</td>\n",
       "    </tr>\n",
       "    <tr>\n",
       "      <th>16</th>\n",
       "      <td>channel - map</td>\n",
       "      <td>Канал</td>\n",
       "    </tr>\n",
       "    <tr>\n",
       "      <th>17</th>\n",
       "      <td>category</td>\n",
       "      <td>Тип бизнеса</td>\n",
       "    </tr>\n",
       "    <tr>\n",
       "      <th>18</th>\n",
       "      <td>kvs_type</td>\n",
       "      <td>Тип ЛДУ</td>\n",
       "    </tr>\n",
       "    <tr>\n",
       "      <th>19</th>\n",
       "      <td>Age</td>\n",
       "      <td>Возраст</td>\n",
       "    </tr>\n",
       "    <tr>\n",
       "      <th>20</th>\n",
       "      <td>Exp</td>\n",
       "      <td>Стаж</td>\n",
       "    </tr>\n",
       "    <tr>\n",
       "      <th>21</th>\n",
       "      <td>discount</td>\n",
       "      <td>Скидка к СППГ</td>\n",
       "    </tr>\n",
       "    <tr>\n",
       "      <th>22</th>\n",
       "      <td>Amount - gr</td>\n",
       "      <td>Страховая сумм (сгруппированная)</td>\n",
       "    </tr>\n",
       "    <tr>\n",
       "      <th>23</th>\n",
       "      <td>sex</td>\n",
       "      <td>Пол</td>\n",
       "    </tr>\n",
       "    <tr>\n",
       "      <th>24</th>\n",
       "      <td>premium_car</td>\n",
       "      <td>Премиальное ТС</td>\n",
       "    </tr>\n",
       "    <tr>\n",
       "      <th>25</th>\n",
       "      <td>price_gr</td>\n",
       "      <td>Сгруппированный тариф (руб.)</td>\n",
       "    </tr>\n",
       "    <tr>\n",
       "      <th>26</th>\n",
       "      <td>price_prc</td>\n",
       "      <td>Сгруппированный тариф (премия к сумме покрытия)</td>\n",
       "    </tr>\n",
       "    <tr>\n",
       "      <th>27</th>\n",
       "      <td>OSAGO_clnt</td>\n",
       "      <td>Клиент ОСАГО</td>\n",
       "    </tr>\n",
       "    <tr>\n",
       "      <th>28</th>\n",
       "      <td>target</td>\n",
       "      <td>Таргет (0 - не пролонгирован; 1 - пролонгирова...</td>\n",
       "    </tr>\n",
       "  </tbody>\n",
       "</table>\n",
       "</div>"
      ],
      "text/plain": [
       "                 id                                        ID договора\n",
       "0            Filial                                     Филиал продажи\n",
       "1           Type_ts                                             Тип ТС\n",
       "2   passport_region                           Регион по серии паспорта\n",
       "3               VIP                                         VIP клиент\n",
       "4             Brand                                           Марка ТС\n",
       "5             Model                                          Модель ТС\n",
       "6     Yr_production                                     Год выпуска ТС\n",
       "7               GAP                                    GAP застрахован\n",
       "8           married                                               Брак\n",
       "9               KBM                                                КБМ\n",
       "10     KBM_prol_est                          Прогноз КБМ (пролонгация)\n",
       "11        delta_kbm                                      Изменение КБМ\n",
       "12           deduct                                       Тип франшизы\n",
       "13    deduct_amount  Сумма франшизы (0 -без франшизы;20000- - франш...\n",
       "14          product                                            Продукт\n",
       "15             Bank                              Машина в залоге банка\n",
       "16    channel - map                                              Канал\n",
       "17         category                                        Тип бизнеса\n",
       "18         kvs_type                                            Тип ЛДУ\n",
       "19              Age                                            Возраст\n",
       "20              Exp                                               Стаж\n",
       "21         discount                                      Скидка к СППГ\n",
       "22      Amount - gr                   Страховая сумм (сгруппированная)\n",
       "23              sex                                                Пол\n",
       "24      premium_car                                     Премиальное ТС\n",
       "25         price_gr                       Сгруппированный тариф (руб.)\n",
       "26        price_prc    Сгруппированный тариф (премия к сумме покрытия)\n",
       "27       OSAGO_clnt                                       Клиент ОСАГО\n",
       "28           target  Таргет (0 - не пролонгирован; 1 - пролонгирова..."
      ]
     },
     "execution_count": 4,
     "metadata": {},
     "output_type": "execute_result"
    }
   ],
   "source": [
    "description=pd.read_excel(\"Задание (пролонгация).xlsx\", sheet_name = 'Переменные')\n",
    "description.head(40)"
   ]
  },
  {
   "cell_type": "code",
   "execution_count": 5,
   "id": "a17db4d8",
   "metadata": {},
   "outputs": [
    {
     "data": {
      "text/plain": [
       "True"
      ]
     },
     "execution_count": 5,
     "metadata": {},
     "output_type": "execute_result"
    }
   ],
   "source": [
    "#Проверим, имеются ли в датасете повторяющиеся ID \n",
    "len(df)==len(df.ID.unique())"
   ]
  },
  {
   "cell_type": "code",
   "execution_count": 6,
   "id": "792cf733",
   "metadata": {},
   "outputs": [
    {
     "data": {
      "text/html": [
       "<div>\n",
       "<style scoped>\n",
       "    .dataframe tbody tr th:only-of-type {\n",
       "        vertical-align: middle;\n",
       "    }\n",
       "\n",
       "    .dataframe tbody tr th {\n",
       "        vertical-align: top;\n",
       "    }\n",
       "\n",
       "    .dataframe thead th {\n",
       "        text-align: right;\n",
       "    }\n",
       "</style>\n",
       "<table border=\"1\" class=\"dataframe\">\n",
       "  <thead>\n",
       "    <tr style=\"text-align: right;\">\n",
       "      <th></th>\n",
       "      <th>ID</th>\n",
       "      <th>Yr_production</th>\n",
       "      <th>KBM</th>\n",
       "      <th>KBM_prol_est</th>\n",
       "      <th>delta_kbm</th>\n",
       "      <th>Age</th>\n",
       "      <th>Exp</th>\n",
       "      <th>discount</th>\n",
       "      <th>Amount - gr</th>\n",
       "      <th>premium_car</th>\n",
       "      <th>price_gr</th>\n",
       "      <th>price_prc</th>\n",
       "      <th>OSAGO_clnt</th>\n",
       "      <th>target</th>\n",
       "    </tr>\n",
       "  </thead>\n",
       "  <tbody>\n",
       "    <tr>\n",
       "      <th>count</th>\n",
       "      <td>10863.000000</td>\n",
       "      <td>10863.000000</td>\n",
       "      <td>10863.000000</td>\n",
       "      <td>10863.000000</td>\n",
       "      <td>10863.000000</td>\n",
       "      <td>10863.000000</td>\n",
       "      <td>10863.000000</td>\n",
       "      <td>10863.000000</td>\n",
       "      <td>1.086300e+04</td>\n",
       "      <td>10863.000000</td>\n",
       "      <td>10863.000000</td>\n",
       "      <td>10863.000000</td>\n",
       "      <td>10863.000000</td>\n",
       "      <td>10863.000000</td>\n",
       "    </tr>\n",
       "    <tr>\n",
       "      <th>mean</th>\n",
       "      <td>5432.000000</td>\n",
       "      <td>2016.940624</td>\n",
       "      <td>7.058639</td>\n",
       "      <td>5.195986</td>\n",
       "      <td>-5.066188</td>\n",
       "      <td>43.680567</td>\n",
       "      <td>17.244408</td>\n",
       "      <td>1.000101</td>\n",
       "      <td>9.775016e+05</td>\n",
       "      <td>0.087453</td>\n",
       "      <td>32812.298628</td>\n",
       "      <td>0.033307</td>\n",
       "      <td>0.586118</td>\n",
       "      <td>-0.082206</td>\n",
       "    </tr>\n",
       "    <tr>\n",
       "      <th>std</th>\n",
       "      <td>3136.022321</td>\n",
       "      <td>1.546633</td>\n",
       "      <td>1.922778</td>\n",
       "      <td>1.735655</td>\n",
       "      <td>17.274537</td>\n",
       "      <td>11.252854</td>\n",
       "      <td>9.603299</td>\n",
       "      <td>0.050590</td>\n",
       "      <td>6.782969e+05</td>\n",
       "      <td>0.282510</td>\n",
       "      <td>19670.537786</td>\n",
       "      <td>0.016956</td>\n",
       "      <td>0.492551</td>\n",
       "      <td>0.715686</td>\n",
       "    </tr>\n",
       "    <tr>\n",
       "      <th>min</th>\n",
       "      <td>1.000000</td>\n",
       "      <td>2009.000000</td>\n",
       "      <td>0.000000</td>\n",
       "      <td>0.000000</td>\n",
       "      <td>-100.000000</td>\n",
       "      <td>18.000000</td>\n",
       "      <td>0.000000</td>\n",
       "      <td>0.900000</td>\n",
       "      <td>0.000000e+00</td>\n",
       "      <td>0.000000</td>\n",
       "      <td>10000.000000</td>\n",
       "      <td>0.000000</td>\n",
       "      <td>0.000000</td>\n",
       "      <td>-1.000000</td>\n",
       "    </tr>\n",
       "    <tr>\n",
       "      <th>25%</th>\n",
       "      <td>2716.500000</td>\n",
       "      <td>2016.000000</td>\n",
       "      <td>6.000000</td>\n",
       "      <td>5.000000</td>\n",
       "      <td>-2.000000</td>\n",
       "      <td>35.000000</td>\n",
       "      <td>10.000000</td>\n",
       "      <td>1.000000</td>\n",
       "      <td>6.000000e+05</td>\n",
       "      <td>0.000000</td>\n",
       "      <td>15000.000000</td>\n",
       "      <td>0.020000</td>\n",
       "      <td>0.000000</td>\n",
       "      <td>-1.000000</td>\n",
       "    </tr>\n",
       "    <tr>\n",
       "      <th>50%</th>\n",
       "      <td>5432.000000</td>\n",
       "      <td>2018.000000</td>\n",
       "      <td>8.000000</td>\n",
       "      <td>6.000000</td>\n",
       "      <td>-2.000000</td>\n",
       "      <td>42.000000</td>\n",
       "      <td>16.000000</td>\n",
       "      <td>1.000000</td>\n",
       "      <td>8.000000e+05</td>\n",
       "      <td>0.000000</td>\n",
       "      <td>30000.000000</td>\n",
       "      <td>0.030000</td>\n",
       "      <td>1.000000</td>\n",
       "      <td>0.000000</td>\n",
       "    </tr>\n",
       "    <tr>\n",
       "      <th>75%</th>\n",
       "      <td>8147.500000</td>\n",
       "      <td>2018.000000</td>\n",
       "      <td>8.000000</td>\n",
       "      <td>6.000000</td>\n",
       "      <td>-2.000000</td>\n",
       "      <td>52.000000</td>\n",
       "      <td>22.000000</td>\n",
       "      <td>1.000000</td>\n",
       "      <td>1.200000e+06</td>\n",
       "      <td>0.000000</td>\n",
       "      <td>45000.000000</td>\n",
       "      <td>0.045000</td>\n",
       "      <td>1.000000</td>\n",
       "      <td>0.000000</td>\n",
       "    </tr>\n",
       "    <tr>\n",
       "      <th>max</th>\n",
       "      <td>10863.000000</td>\n",
       "      <td>2018.000000</td>\n",
       "      <td>12.000000</td>\n",
       "      <td>10.000000</td>\n",
       "      <td>2.000000</td>\n",
       "      <td>84.000000</td>\n",
       "      <td>63.000000</td>\n",
       "      <td>1.100000</td>\n",
       "      <td>3.000000e+06</td>\n",
       "      <td>1.000000</td>\n",
       "      <td>70000.000000</td>\n",
       "      <td>0.100000</td>\n",
       "      <td>1.000000</td>\n",
       "      <td>1.000000</td>\n",
       "    </tr>\n",
       "  </tbody>\n",
       "</table>\n",
       "</div>"
      ],
      "text/plain": [
       "                 ID  Yr_production           KBM  KBM_prol_est     delta_kbm  \\\n",
       "count  10863.000000   10863.000000  10863.000000  10863.000000  10863.000000   \n",
       "mean    5432.000000    2016.940624      7.058639      5.195986     -5.066188   \n",
       "std     3136.022321       1.546633      1.922778      1.735655     17.274537   \n",
       "min        1.000000    2009.000000      0.000000      0.000000   -100.000000   \n",
       "25%     2716.500000    2016.000000      6.000000      5.000000     -2.000000   \n",
       "50%     5432.000000    2018.000000      8.000000      6.000000     -2.000000   \n",
       "75%     8147.500000    2018.000000      8.000000      6.000000     -2.000000   \n",
       "max    10863.000000    2018.000000     12.000000     10.000000      2.000000   \n",
       "\n",
       "                Age           Exp      discount   Amount - gr   premium_car  \\\n",
       "count  10863.000000  10863.000000  10863.000000  1.086300e+04  10863.000000   \n",
       "mean      43.680567     17.244408      1.000101  9.775016e+05      0.087453   \n",
       "std       11.252854      9.603299      0.050590  6.782969e+05      0.282510   \n",
       "min       18.000000      0.000000      0.900000  0.000000e+00      0.000000   \n",
       "25%       35.000000     10.000000      1.000000  6.000000e+05      0.000000   \n",
       "50%       42.000000     16.000000      1.000000  8.000000e+05      0.000000   \n",
       "75%       52.000000     22.000000      1.000000  1.200000e+06      0.000000   \n",
       "max       84.000000     63.000000      1.100000  3.000000e+06      1.000000   \n",
       "\n",
       "           price_gr     price_prc    OSAGO_clnt        target  \n",
       "count  10863.000000  10863.000000  10863.000000  10863.000000  \n",
       "mean   32812.298628      0.033307      0.586118     -0.082206  \n",
       "std    19670.537786      0.016956      0.492551      0.715686  \n",
       "min    10000.000000      0.000000      0.000000     -1.000000  \n",
       "25%    15000.000000      0.020000      0.000000     -1.000000  \n",
       "50%    30000.000000      0.030000      1.000000      0.000000  \n",
       "75%    45000.000000      0.045000      1.000000      0.000000  \n",
       "max    70000.000000      0.100000      1.000000      1.000000  "
      ]
     },
     "execution_count": 6,
     "metadata": {},
     "output_type": "execute_result"
    }
   ],
   "source": [
    "df.describe()"
   ]
  },
  {
   "cell_type": "code",
   "execution_count": 7,
   "id": "a524d901",
   "metadata": {},
   "outputs": [
    {
     "name": "stdout",
     "output_type": "stream",
     "text": [
      "<class 'pandas.core.frame.DataFrame'>\n",
      "RangeIndex: 10863 entries, 0 to 10862\n",
      "Data columns (total 30 columns):\n",
      " #   Column           Non-Null Count  Dtype  \n",
      "---  ------           --------------  -----  \n",
      " 0   ID               10863 non-null  int64  \n",
      " 1   Filial           10863 non-null  object \n",
      " 2   Type_ts          10863 non-null  object \n",
      " 3   passport_region  10863 non-null  object \n",
      " 4   VIP              284 non-null    object \n",
      " 5   Brand            10863 non-null  object \n",
      " 6   Model            10863 non-null  object \n",
      " 7   Yr_production    10863 non-null  int64  \n",
      " 8   GAP              10863 non-null  object \n",
      " 9   married          10863 non-null  object \n",
      " 10  KBM              10863 non-null  int64  \n",
      " 11  KBM_prol_est     10863 non-null  int64  \n",
      " 12  delta_kbm        10863 non-null  int64  \n",
      " 13  deduct           10863 non-null  object \n",
      " 14  deduct_amount    10863 non-null  object \n",
      " 15  product          10863 non-null  object \n",
      " 16  Bank             10863 non-null  object \n",
      " 17  channel - map    10863 non-null  object \n",
      " 18  category         10863 non-null  object \n",
      " 19  kvs_type         10863 non-null  object \n",
      " 20  Age              10863 non-null  int64  \n",
      " 21  Exp              10863 non-null  int64  \n",
      " 22  discount         10863 non-null  float64\n",
      " 23  Amount - gr      10863 non-null  int64  \n",
      " 24  sex              10863 non-null  object \n",
      " 25  premium_car      10863 non-null  int64  \n",
      " 26  price_gr         10863 non-null  int64  \n",
      " 27  price_prc        10863 non-null  float64\n",
      " 28  OSAGO_clnt       10863 non-null  int64  \n",
      " 29  target           10863 non-null  int64  \n",
      "dtypes: float64(2), int64(12), object(16)\n",
      "memory usage: 2.5+ MB\n"
     ]
    }
   ],
   "source": [
    "df.info()"
   ]
  },
  {
   "cell_type": "code",
   "execution_count": 8,
   "id": "7e5cf2b2",
   "metadata": {},
   "outputs": [
    {
     "data": {
      "text/plain": [
       "ID                     0\n",
       "Filial                 0\n",
       "Type_ts                0\n",
       "passport_region        0\n",
       "VIP                10579\n",
       "Brand                  0\n",
       "Model                  0\n",
       "Yr_production          0\n",
       "GAP                    0\n",
       "married                0\n",
       "KBM                    0\n",
       "KBM_prol_est           0\n",
       "delta_kbm              0\n",
       "deduct                 0\n",
       "deduct_amount          0\n",
       "product                0\n",
       "Bank                   0\n",
       "channel - map          0\n",
       "category               0\n",
       "kvs_type               0\n",
       "Age                    0\n",
       "Exp                    0\n",
       "discount               0\n",
       "Amount - gr            0\n",
       "sex                    0\n",
       "premium_car            0\n",
       "price_gr               0\n",
       "price_prc              0\n",
       "OSAGO_clnt             0\n",
       "target                 0\n",
       "dtype: int64"
      ]
     },
     "metadata": {},
     "output_type": "display_data"
    },
    {
     "data": {
      "text/plain": [
       "ID                     0\n",
       "Filial                 0\n",
       "Type_ts                0\n",
       "passport_region        0\n",
       "VIP                10579\n",
       "Brand                  0\n",
       "Model                  0\n",
       "Yr_production          0\n",
       "GAP                    0\n",
       "married                0\n",
       "KBM                    0\n",
       "KBM_prol_est           0\n",
       "delta_kbm              0\n",
       "deduct                 0\n",
       "deduct_amount          0\n",
       "product                0\n",
       "Bank                   0\n",
       "channel - map          0\n",
       "category               0\n",
       "kvs_type               0\n",
       "Age                    0\n",
       "Exp                    0\n",
       "discount               0\n",
       "Amount - gr            0\n",
       "sex                    0\n",
       "premium_car            0\n",
       "price_gr               0\n",
       "price_prc              0\n",
       "OSAGO_clnt             0\n",
       "target                 0\n",
       "dtype: int64"
      ]
     },
     "metadata": {},
     "output_type": "display_data"
    }
   ],
   "source": [
    "display(df.isna().sum())\n",
    "display(df.isnull().sum())"
   ]
  },
  {
   "cell_type": "code",
   "execution_count": 9,
   "id": "97132b74",
   "metadata": {
    "scrolled": true
   },
   "outputs": [
    {
     "data": {
      "text/plain": [
       "'Column name is:'"
      ]
     },
     "metadata": {},
     "output_type": "display_data"
    },
    {
     "data": {
      "text/plain": [
       "'Filial'"
      ]
     },
     "metadata": {},
     "output_type": "display_data"
    },
    {
     "data": {
      "text/plain": [
       "'and it value is:'"
      ]
     },
     "metadata": {},
     "output_type": "display_data"
    },
    {
     "data": {
      "text/plain": [
       "Московский               3305\n",
       "Краснодарский            1153\n",
       "Санкт - Петербургский    1086\n",
       "Ростовский                553\n",
       "Воронежский               474\n",
       "Казанский                 421\n",
       "Самарский                 394\n",
       "Магнитогорский            335\n",
       "Челябинский               320\n",
       "Пермский                  307\n",
       "Ижевский                  276\n",
       "Уфимский                  270\n",
       "Нижегородский             269\n",
       "Тверской                  251\n",
       "Екатеринбургский          243\n",
       "Ставропольский            234\n",
       "Волгоградский             232\n",
       "Новосибирский             186\n",
       "Белгородский              182\n",
       "Кемеровский               171\n",
       "Тульский                  134\n",
       "Дальневосточный            67\n",
       "Name: Filial, dtype: int64"
      ]
     },
     "metadata": {},
     "output_type": "display_data"
    },
    {
     "data": {
      "text/plain": [
       "'Column name is:'"
      ]
     },
     "metadata": {},
     "output_type": "display_data"
    },
    {
     "data": {
      "text/plain": [
       "'Type_ts'"
      ]
     },
     "metadata": {},
     "output_type": "display_data"
    },
    {
     "data": {
      "text/plain": [
       "'and it value is:'"
      ]
     },
     "metadata": {},
     "output_type": "display_data"
    },
    {
     "data": {
      "text/plain": [
       "Иностранные      8353\n",
       "Отечественные    2510\n",
       "Name: Type_ts, dtype: int64"
      ]
     },
     "metadata": {},
     "output_type": "display_data"
    },
    {
     "data": {
      "text/plain": [
       "'Column name is:'"
      ]
     },
     "metadata": {},
     "output_type": "display_data"
    },
    {
     "data": {
      "text/plain": [
       "'passport_region'"
      ]
     },
     "metadata": {},
     "output_type": "display_data"
    },
    {
     "data": {
      "text/plain": [
       "'and it value is:'"
      ]
     },
     "metadata": {},
     "output_type": "display_data"
    },
    {
     "data": {
      "text/plain": [
       "Москва                          1611\n",
       "Московская область              1164\n",
       "Краснодарский край               936\n",
       "Санкт-Петербург                  739\n",
       "Ростовская область               544\n",
       "                                ... \n",
       "Еврейская автономная область       2\n",
       "Чеченская Республика               2\n",
       "Магаданская область                2\n",
       "Республика Ингушетия               1\n",
       "Ненецкий автономный округ          1\n",
       "Name: passport_region, Length: 85, dtype: int64"
      ]
     },
     "metadata": {},
     "output_type": "display_data"
    },
    {
     "data": {
      "text/plain": [
       "'Column name is:'"
      ]
     },
     "metadata": {},
     "output_type": "display_data"
    },
    {
     "data": {
      "text/plain": [
       "'VIP'"
      ]
     },
     "metadata": {},
     "output_type": "display_data"
    },
    {
     "data": {
      "text/plain": [
       "'and it value is:'"
      ]
     },
     "metadata": {},
     "output_type": "display_data"
    },
    {
     "data": {
      "text/plain": [
       "Особый статус +    201\n",
       "Особый статус       83\n",
       "Name: VIP, dtype: int64"
      ]
     },
     "metadata": {},
     "output_type": "display_data"
    },
    {
     "data": {
      "text/plain": [
       "'Column name is:'"
      ]
     },
     "metadata": {},
     "output_type": "display_data"
    },
    {
     "data": {
      "text/plain": [
       "'Brand'"
      ]
     },
     "metadata": {},
     "output_type": "display_data"
    },
    {
     "data": {
      "text/plain": [
       "'and it value is:'"
      ]
     },
     "metadata": {},
     "output_type": "display_data"
    },
    {
     "data": {
      "text/plain": [
       "LADA             2178\n",
       "KIA              1879\n",
       "HYUNDAI          1509\n",
       "VOLKSWAGEN        956\n",
       "TOYOTA            649\n",
       "NISSAN            555\n",
       "SKODA             540\n",
       "RENAULT           481\n",
       "FORD              453\n",
       "CHEVROLET         267\n",
       "MITSUBISHI        201\n",
       "MERCEDES-BENZ     188\n",
       "MAZDA             169\n",
       "BMW               144\n",
       "AUDI              134\n",
       "DATSUN            131\n",
       "LEXUS             114\n",
       "UAZ               102\n",
       "VOLVO              55\n",
       "SUBARU             52\n",
       "HONDA              46\n",
       "LAND ROVER         42\n",
       "PORSCHE            18\n",
       "Name: Brand, dtype: int64"
      ]
     },
     "metadata": {},
     "output_type": "display_data"
    },
    {
     "data": {
      "text/plain": [
       "'Column name is:'"
      ]
     },
     "metadata": {},
     "output_type": "display_data"
    },
    {
     "data": {
      "text/plain": [
       "'Model'"
      ]
     },
     "metadata": {},
     "output_type": "display_data"
    },
    {
     "data": {
      "text/plain": [
       "'and it value is:'"
      ]
     },
     "metadata": {},
     "output_type": "display_data"
    },
    {
     "data": {
      "text/plain": [
       "RIO             914\n",
       "GRANTA          728\n",
       "SOLARIS         631\n",
       "VESTA           612\n",
       "CRETA           539\n",
       "               ... \n",
       "OUTLANDER XL      1\n",
       "PILOT             1\n",
       "QASHQAI+2         1\n",
       "CX-9              1\n",
       "7-СЕРИЯ           1\n",
       "Name: Model, Length: 200, dtype: int64"
      ]
     },
     "metadata": {},
     "output_type": "display_data"
    },
    {
     "data": {
      "text/plain": [
       "'Column name is:'"
      ]
     },
     "metadata": {},
     "output_type": "display_data"
    },
    {
     "data": {
      "text/plain": [
       "'Yr_production'"
      ]
     },
     "metadata": {},
     "output_type": "display_data"
    },
    {
     "data": {
      "text/plain": [
       "'and it value is:'"
      ]
     },
     "metadata": {},
     "output_type": "display_data"
    },
    {
     "data": {
      "text/plain": [
       "2018    5521\n",
       "2017    2585\n",
       "2016    1333\n",
       "2015     468\n",
       "2014     410\n",
       "2013     254\n",
       "2012     162\n",
       "2011      78\n",
       "2010      43\n",
       "2009       9\n",
       "Name: Yr_production, dtype: int64"
      ]
     },
     "metadata": {},
     "output_type": "display_data"
    },
    {
     "data": {
      "text/plain": [
       "'Column name is:'"
      ]
     },
     "metadata": {},
     "output_type": "display_data"
    },
    {
     "data": {
      "text/plain": [
       "'GAP'"
      ]
     },
     "metadata": {},
     "output_type": "display_data"
    },
    {
     "data": {
      "text/plain": [
       "'and it value is:'"
      ]
     },
     "metadata": {},
     "output_type": "display_data"
    },
    {
     "data": {
      "text/plain": [
       "Нет    9749\n",
       "Да     1114\n",
       "Name: GAP, dtype: int64"
      ]
     },
     "metadata": {},
     "output_type": "display_data"
    },
    {
     "data": {
      "text/plain": [
       "'Column name is:'"
      ]
     },
     "metadata": {},
     "output_type": "display_data"
    },
    {
     "data": {
      "text/plain": [
       "'married'"
      ]
     },
     "metadata": {},
     "output_type": "display_data"
    },
    {
     "data": {
      "text/plain": [
       "'and it value is:'"
      ]
     },
     "metadata": {},
     "output_type": "display_data"
    },
    {
     "data": {
      "text/plain": [
       "Состоит в браке       8491\n",
       "Не состоит в браке    2372\n",
       "Name: married, dtype: int64"
      ]
     },
     "metadata": {},
     "output_type": "display_data"
    },
    {
     "data": {
      "text/plain": [
       "'Column name is:'"
      ]
     },
     "metadata": {},
     "output_type": "display_data"
    },
    {
     "data": {
      "text/plain": [
       "'KBM'"
      ]
     },
     "metadata": {},
     "output_type": "display_data"
    },
    {
     "data": {
      "text/plain": [
       "'and it value is:'"
      ]
     },
     "metadata": {},
     "output_type": "display_data"
    },
    {
     "data": {
      "text/plain": [
       "8     7924\n",
       "6     1329\n",
       "4      592\n",
       "0      348\n",
       "2      193\n",
       "7      188\n",
       "5      150\n",
       "3       57\n",
       "1       55\n",
       "9       12\n",
       "10      10\n",
       "12       3\n",
       "11       2\n",
       "Name: KBM, dtype: int64"
      ]
     },
     "metadata": {},
     "output_type": "display_data"
    },
    {
     "data": {
      "text/plain": [
       "'Column name is:'"
      ]
     },
     "metadata": {},
     "output_type": "display_data"
    },
    {
     "data": {
      "text/plain": [
       "'KBM_prol_est'"
      ]
     },
     "metadata": {},
     "output_type": "display_data"
    },
    {
     "data": {
      "text/plain": [
       "'and it value is:'"
      ]
     },
     "metadata": {},
     "output_type": "display_data"
    },
    {
     "data": {
      "text/plain": [
       "6     7478\n",
       "4     1278\n",
       "0      588\n",
       "2      568\n",
       "7      416\n",
       "5      228\n",
       "3      167\n",
       "1       60\n",
       "9       41\n",
       "8       22\n",
       "10      17\n",
       "Name: KBM_prol_est, dtype: int64"
      ]
     },
     "metadata": {},
     "output_type": "display_data"
    },
    {
     "data": {
      "text/plain": [
       "'Column name is:'"
      ]
     },
     "metadata": {},
     "output_type": "display_data"
    },
    {
     "data": {
      "text/plain": [
       "'delta_kbm'"
      ]
     },
     "metadata": {},
     "output_type": "display_data"
    },
    {
     "data": {
      "text/plain": [
       "'and it value is:'"
      ]
     },
     "metadata": {},
     "output_type": "display_data"
    },
    {
     "data": {
      "text/plain": [
       "-2      9865\n",
       "-1       577\n",
       "-100     348\n",
       " 1        45\n",
       " 0        14\n",
       " 2        14\n",
       "Name: delta_kbm, dtype: int64"
      ]
     },
     "metadata": {},
     "output_type": "display_data"
    },
    {
     "data": {
      "text/plain": [
       "'Column name is:'"
      ]
     },
     "metadata": {},
     "output_type": "display_data"
    },
    {
     "data": {
      "text/plain": [
       "'deduct'"
      ]
     },
     "metadata": {},
     "output_type": "display_data"
    },
    {
     "data": {
      "text/plain": [
       "'and it value is:'"
      ]
     },
     "metadata": {},
     "output_type": "display_data"
    },
    {
     "data": {
      "text/plain": [
       "Без франшизы                      7148\n",
       "Безусловная франшиза              2689\n",
       "Франшиза 2-ой страховой случай    1026\n",
       "Name: deduct, dtype: int64"
      ]
     },
     "metadata": {},
     "output_type": "display_data"
    },
    {
     "data": {
      "text/plain": [
       "'Column name is:'"
      ]
     },
     "metadata": {},
     "output_type": "display_data"
    },
    {
     "data": {
      "text/plain": [
       "'deduct_amount'"
      ]
     },
     "metadata": {},
     "output_type": "display_data"
    },
    {
     "data": {
      "text/plain": [
       "'and it value is:'"
      ]
     },
     "metadata": {},
     "output_type": "display_data"
    },
    {
     "data": {
      "text/plain": [
       "0         7148\n",
       "20000-    2010\n",
       "20000+    1705\n",
       "Name: deduct_amount, dtype: int64"
      ]
     },
     "metadata": {},
     "output_type": "display_data"
    },
    {
     "data": {
      "text/plain": [
       "'Column name is:'"
      ]
     },
     "metadata": {},
     "output_type": "display_data"
    },
    {
     "data": {
      "text/plain": [
       "'product'"
      ]
     },
     "metadata": {},
     "output_type": "display_data"
    },
    {
     "data": {
      "text/plain": [
       "'and it value is:'"
      ]
     },
     "metadata": {},
     "output_type": "display_data"
    },
    {
     "data": {
      "text/plain": [
       "Классика     7703\n",
       "Компакт      2243\n",
       "Уверенный     638\n",
       "Legacy        279\n",
       "Name: product, dtype: int64"
      ]
     },
     "metadata": {},
     "output_type": "display_data"
    },
    {
     "data": {
      "text/plain": [
       "'Column name is:'"
      ]
     },
     "metadata": {},
     "output_type": "display_data"
    },
    {
     "data": {
      "text/plain": [
       "'Bank'"
      ]
     },
     "metadata": {},
     "output_type": "display_data"
    },
    {
     "data": {
      "text/plain": [
       "'and it value is:'"
      ]
     },
     "metadata": {},
     "output_type": "display_data"
    },
    {
     "data": {
      "text/plain": [
       "Банк         5831\n",
       "Без банка    3424\n",
       "Сетелем      1608\n",
       "Name: Bank, dtype: int64"
      ]
     },
     "metadata": {},
     "output_type": "display_data"
    },
    {
     "data": {
      "text/plain": [
       "'Column name is:'"
      ]
     },
     "metadata": {},
     "output_type": "display_data"
    },
    {
     "data": {
      "text/plain": [
       "'channel - map'"
      ]
     },
     "metadata": {},
     "output_type": "display_data"
    },
    {
     "data": {
      "text/plain": [
       "'and it value is:'"
      ]
     },
     "metadata": {},
     "output_type": "display_data"
    },
    {
     "data": {
      "text/plain": [
       "Автосалоны    8412\n",
       "Розница       2451\n",
       "Name: channel - map, dtype: int64"
      ]
     },
     "metadata": {},
     "output_type": "display_data"
    },
    {
     "data": {
      "text/plain": [
       "'Column name is:'"
      ]
     },
     "metadata": {},
     "output_type": "display_data"
    },
    {
     "data": {
      "text/plain": [
       "'category'"
      ]
     },
     "metadata": {},
     "output_type": "display_data"
    },
    {
     "data": {
      "text/plain": [
       "'and it value is:'"
      ]
     },
     "metadata": {},
     "output_type": "display_data"
    },
    {
     "data": {
      "text/plain": [
       "NB 0-1     6079\n",
       "RN         3706\n",
       "RN sppg     590\n",
       "NB 2+       488\n",
       "Name: category, dtype: int64"
      ]
     },
     "metadata": {},
     "output_type": "display_data"
    },
    {
     "data": {
      "text/plain": [
       "'Column name is:'"
      ]
     },
     "metadata": {},
     "output_type": "display_data"
    },
    {
     "data": {
      "text/plain": [
       "'kvs_type'"
      ]
     },
     "metadata": {},
     "output_type": "display_data"
    },
    {
     "data": {
      "text/plain": [
       "'and it value is:'"
      ]
     },
     "metadata": {},
     "output_type": "display_data"
    },
    {
     "data": {
      "text/plain": [
       "Водители согласно перечню                                          10753\n",
       "Ограничение по стажу и возрасту, без ограничения количества лиц      110\n",
       "Name: kvs_type, dtype: int64"
      ]
     },
     "metadata": {},
     "output_type": "display_data"
    },
    {
     "data": {
      "text/plain": [
       "'Column name is:'"
      ]
     },
     "metadata": {},
     "output_type": "display_data"
    },
    {
     "data": {
      "text/plain": [
       "'Age'"
      ]
     },
     "metadata": {},
     "output_type": "display_data"
    },
    {
     "data": {
      "text/plain": [
       "'and it value is:'"
      ]
     },
     "metadata": {},
     "output_type": "display_data"
    },
    {
     "data": {
      "text/plain": [
       "40    397\n",
       "35    391\n",
       "36    377\n",
       "38    371\n",
       "34    368\n",
       "     ... \n",
       "81      3\n",
       "83      2\n",
       "82      1\n",
       "80      1\n",
       "84      1\n",
       "Name: Age, Length: 67, dtype: int64"
      ]
     },
     "metadata": {},
     "output_type": "display_data"
    },
    {
     "data": {
      "text/plain": [
       "'Column name is:'"
      ]
     },
     "metadata": {},
     "output_type": "display_data"
    },
    {
     "data": {
      "text/plain": [
       "'Exp'"
      ]
     },
     "metadata": {},
     "output_type": "display_data"
    },
    {
     "data": {
      "text/plain": [
       "'and it value is:'"
      ]
     },
     "metadata": {},
     "output_type": "display_data"
    },
    {
     "data": {
      "text/plain": [
       "10    606\n",
       "18    571\n",
       "11    534\n",
       "17    501\n",
       "12    479\n",
       "9     470\n",
       "15    444\n",
       "13    441\n",
       "16    436\n",
       "19    435\n",
       "8     407\n",
       "20    400\n",
       "14    388\n",
       "21    373\n",
       "7     346\n",
       "23    292\n",
       "6     285\n",
       "22    276\n",
       "5     259\n",
       "24    243\n",
       "4     231\n",
       "25    191\n",
       "26    179\n",
       "27    171\n",
       "28    166\n",
       "3     130\n",
       "31    128\n",
       "29    124\n",
       "32    109\n",
       "33    109\n",
       "30    101\n",
       "34    100\n",
       "37     93\n",
       "35     88\n",
       "2      87\n",
       "36     76\n",
       "38     74\n",
       "40     73\n",
       "39     63\n",
       "1      63\n",
       "0      59\n",
       "42     57\n",
       "41     43\n",
       "43     35\n",
       "44     24\n",
       "46     24\n",
       "45     21\n",
       "48     16\n",
       "47     15\n",
       "49      6\n",
       "52      6\n",
       "51      5\n",
       "50      3\n",
       "53      3\n",
       "60      2\n",
       "63      1\n",
       "54      1\n",
       "Name: Exp, dtype: int64"
      ]
     },
     "metadata": {},
     "output_type": "display_data"
    },
    {
     "data": {
      "text/plain": [
       "'Column name is:'"
      ]
     },
     "metadata": {},
     "output_type": "display_data"
    },
    {
     "data": {
      "text/plain": [
       "'discount'"
      ]
     },
     "metadata": {},
     "output_type": "display_data"
    },
    {
     "data": {
      "text/plain": [
       "'and it value is:'"
      ]
     },
     "metadata": {},
     "output_type": "display_data"
    },
    {
     "data": {
      "text/plain": [
       "1.00    6427\n",
       "1.05    1137\n",
       "0.90    1125\n",
       "1.10    1103\n",
       "0.95    1071\n",
       "Name: discount, dtype: int64"
      ]
     },
     "metadata": {},
     "output_type": "display_data"
    },
    {
     "data": {
      "text/plain": [
       "'Column name is:'"
      ]
     },
     "metadata": {},
     "output_type": "display_data"
    },
    {
     "data": {
      "text/plain": [
       "'Amount - gr'"
      ]
     },
     "metadata": {},
     "output_type": "display_data"
    },
    {
     "data": {
      "text/plain": [
       "'and it value is:'"
      ]
     },
     "metadata": {},
     "output_type": "display_data"
    },
    {
     "data": {
      "text/plain": [
       "600000     2274\n",
       "400000     1945\n",
       "800000     1591\n",
       "1000000     978\n",
       "1200000     729\n",
       "1400000     716\n",
       "200000      647\n",
       "1600000     470\n",
       "3000000     422\n",
       "1800000     363\n",
       "2000000     242\n",
       "2200000     151\n",
       "2600000     114\n",
       "2400000      96\n",
       "2800000      73\n",
       "0            52\n",
       "Name: Amount - gr, dtype: int64"
      ]
     },
     "metadata": {},
     "output_type": "display_data"
    },
    {
     "data": {
      "text/plain": [
       "'Column name is:'"
      ]
     },
     "metadata": {},
     "output_type": "display_data"
    },
    {
     "data": {
      "text/plain": [
       "'sex'"
      ]
     },
     "metadata": {},
     "output_type": "display_data"
    },
    {
     "data": {
      "text/plain": [
       "'and it value is:'"
      ]
     },
     "metadata": {},
     "output_type": "display_data"
    },
    {
     "data": {
      "text/plain": [
       "M    7185\n",
       "F    3673\n",
       "        5\n",
       "Name: sex, dtype: int64"
      ]
     },
     "metadata": {},
     "output_type": "display_data"
    },
    {
     "data": {
      "text/plain": [
       "'Column name is:'"
      ]
     },
     "metadata": {},
     "output_type": "display_data"
    },
    {
     "data": {
      "text/plain": [
       "'premium_car'"
      ]
     },
     "metadata": {},
     "output_type": "display_data"
    },
    {
     "data": {
      "text/plain": [
       "'and it value is:'"
      ]
     },
     "metadata": {},
     "output_type": "display_data"
    },
    {
     "data": {
      "text/plain": [
       "0    9913\n",
       "1     950\n",
       "Name: premium_car, dtype: int64"
      ]
     },
     "metadata": {},
     "output_type": "display_data"
    },
    {
     "data": {
      "text/plain": [
       "'Column name is:'"
      ]
     },
     "metadata": {},
     "output_type": "display_data"
    },
    {
     "data": {
      "text/plain": [
       "'price_gr'"
      ]
     },
     "metadata": {},
     "output_type": "display_data"
    },
    {
     "data": {
      "text/plain": [
       "'and it value is:'"
      ]
     },
     "metadata": {},
     "output_type": "display_data"
    },
    {
     "data": {
      "text/plain": [
       "10000    2134\n",
       "70000    1152\n",
       "25000    1060\n",
       "20000     998\n",
       "15000     998\n",
       "30000     949\n",
       "35000     876\n",
       "40000     689\n",
       "45000     542\n",
       "50000     513\n",
       "55000     393\n",
       "60000     330\n",
       "65000     229\n",
       "Name: price_gr, dtype: int64"
      ]
     },
     "metadata": {},
     "output_type": "display_data"
    },
    {
     "data": {
      "text/plain": [
       "'Column name is:'"
      ]
     },
     "metadata": {},
     "output_type": "display_data"
    },
    {
     "data": {
      "text/plain": [
       "'price_prc'"
      ]
     },
     "metadata": {},
     "output_type": "display_data"
    },
    {
     "data": {
      "text/plain": [
       "'and it value is:'"
      ]
     },
     "metadata": {},
     "output_type": "display_data"
    },
    {
     "data": {
      "text/plain": [
       "0.030    1404\n",
       "0.025    1393\n",
       "0.020    1314\n",
       "0.035    1216\n",
       "0.040     978\n",
       "0.015     909\n",
       "0.045     748\n",
       "0.010     615\n",
       "0.050     595\n",
       "0.055     431\n",
       "0.060     335\n",
       "0.005     248\n",
       "0.065     217\n",
       "0.070     147\n",
       "0.075     101\n",
       "0.080      68\n",
       "0.085      44\n",
       "0.100      30\n",
       "0.090      27\n",
       "0.095      22\n",
       "0.000      21\n",
       "Name: price_prc, dtype: int64"
      ]
     },
     "metadata": {},
     "output_type": "display_data"
    },
    {
     "data": {
      "text/plain": [
       "'Column name is:'"
      ]
     },
     "metadata": {},
     "output_type": "display_data"
    },
    {
     "data": {
      "text/plain": [
       "'OSAGO_clnt'"
      ]
     },
     "metadata": {},
     "output_type": "display_data"
    },
    {
     "data": {
      "text/plain": [
       "'and it value is:'"
      ]
     },
     "metadata": {},
     "output_type": "display_data"
    },
    {
     "data": {
      "text/plain": [
       "1    6367\n",
       "0    4496\n",
       "Name: OSAGO_clnt, dtype: int64"
      ]
     },
     "metadata": {},
     "output_type": "display_data"
    },
    {
     "data": {
      "text/plain": [
       "'Column name is:'"
      ]
     },
     "metadata": {},
     "output_type": "display_data"
    },
    {
     "data": {
      "text/plain": [
       "'target'"
      ]
     },
     "metadata": {},
     "output_type": "display_data"
    },
    {
     "data": {
      "text/plain": [
       "'and it value is:'"
      ]
     },
     "metadata": {},
     "output_type": "display_data"
    },
    {
     "data": {
      "text/plain": [
       " 0    5226\n",
       "-1    3265\n",
       " 1    2372\n",
       "Name: target, dtype: int64"
      ]
     },
     "metadata": {},
     "output_type": "display_data"
    }
   ],
   "source": [
    "for i in df.columns[1:]:\n",
    "    x = df[i].value_counts()\n",
    "    display(\"Column name is:\",i,\"and it value is:\",x)"
   ]
  },
  {
   "cell_type": "markdown",
   "id": "94a4a42d",
   "metadata": {},
   "source": [
    "Классы разбалансированы, о чём свидетельствует разница в наполненности классов более чем в 2 раза"
   ]
  },
  {
   "cell_type": "code",
   "execution_count": 10,
   "id": "023a1777",
   "metadata": {},
   "outputs": [
    {
     "data": {
      "text/plain": [
       " 0    5226\n",
       "-1    3265\n",
       " 1    2372\n",
       "Name: target, dtype: int64"
      ]
     },
     "execution_count": 10,
     "metadata": {},
     "output_type": "execute_result"
    }
   ],
   "source": [
    "df.target.value_counts()"
   ]
  },
  {
   "cell_type": "code",
   "execution_count": 11,
   "id": "3f8d135e",
   "metadata": {},
   "outputs": [
    {
     "data": {
      "text/plain": [
       "NotVIP             10579\n",
       "Особый статус +      201\n",
       "Особый статус         83\n",
       "Name: VIP, dtype: int64"
      ]
     },
     "execution_count": 11,
     "metadata": {},
     "output_type": "execute_result"
    }
   ],
   "source": [
    "df['VIP']=df['VIP'].fillna('NotVIP')\n",
    "df.VIP.value_counts()"
   ]
  },
  {
   "cell_type": "markdown",
   "id": "909a0c10",
   "metadata": {},
   "source": [
    "#### Кодирование переменных\n",
    "Выделим в датасете 3 части: тренировочную (X_train, y_train), на которой будем обучать модели, валидационную (X_val, y_val), на которой будем проверять точность прогноза и тестовую (X_test), для которой будем делать прогноз (y_test_pred). \n",
    "Так как в некоторых случаях предобработка датасета требует использования общей выборки train и val, есть также промежуточный набор данных (х, у)\n",
    "Закодируем переменные. "
   ]
  },
  {
   "cell_type": "code",
   "execution_count": 12,
   "id": "196e5ee5",
   "metadata": {},
   "outputs": [],
   "source": [
    "#Разделим датасет на тренинговую, валидационную и тестовоую выборки\n",
    "test=df[df['target']==-1]\n",
    "X_test=test\n",
    "train_val=df[df['target']!=-1]\n",
    "y=train_val['target']\n",
    "x=train_val\n",
    "X_train, X_val, y_train, y_val = train_test_split(x, y, test_size=0.2, random_state=42, stratify=y)"
   ]
  },
  {
   "cell_type": "markdown",
   "id": "d5a0a716",
   "metadata": {},
   "source": [
    "Данные \"грязные\". В частности, в некоторых ячейках в колонке \"пол\" стоит пробел. Заменим их на наиболее часто встречающееся значение (моду) пола для данной модели автомобиля. \n",
    "В некоторых ячейках в колонке passport_region стоит \"н.д.\". Заменим его на наиболее часто встречающееся значение (моду) региона по паспорту в данном филиале.\n",
    "Примечание: \n",
    "Данные для тренинговой выборки заменим на основании данных в тренинговой выборке, данные для валидационной выборке заменим на основании данных в тренинговой и валидационной выборках, а данные для тестовой выборки - на основании данных в трениговой, валидационной и тестовой.\n"
   ]
  },
  {
   "cell_type": "code",
   "execution_count": 13,
   "id": "10858f8e",
   "metadata": {},
   "outputs": [
    {
     "data": {
      "text/html": [
       "<div>\n",
       "<style scoped>\n",
       "    .dataframe tbody tr th:only-of-type {\n",
       "        vertical-align: middle;\n",
       "    }\n",
       "\n",
       "    .dataframe tbody tr th {\n",
       "        vertical-align: top;\n",
       "    }\n",
       "\n",
       "    .dataframe thead th {\n",
       "        text-align: right;\n",
       "    }\n",
       "</style>\n",
       "<table border=\"1\" class=\"dataframe\">\n",
       "  <thead>\n",
       "    <tr style=\"text-align: right;\">\n",
       "      <th></th>\n",
       "      <th>ID</th>\n",
       "      <th>Filial</th>\n",
       "      <th>Type_ts</th>\n",
       "      <th>passport_region</th>\n",
       "      <th>VIP</th>\n",
       "      <th>Brand</th>\n",
       "      <th>Model</th>\n",
       "      <th>Yr_production</th>\n",
       "      <th>GAP</th>\n",
       "      <th>married</th>\n",
       "      <th>KBM</th>\n",
       "      <th>KBM_prol_est</th>\n",
       "      <th>delta_kbm</th>\n",
       "      <th>deduct</th>\n",
       "      <th>deduct_amount</th>\n",
       "      <th>product</th>\n",
       "      <th>Bank</th>\n",
       "      <th>channel - map</th>\n",
       "      <th>category</th>\n",
       "      <th>kvs_type</th>\n",
       "      <th>Age</th>\n",
       "      <th>Exp</th>\n",
       "      <th>discount</th>\n",
       "      <th>Amount - gr</th>\n",
       "      <th>sex</th>\n",
       "      <th>premium_car</th>\n",
       "      <th>price_gr</th>\n",
       "      <th>price_prc</th>\n",
       "      <th>OSAGO_clnt</th>\n",
       "      <th>target</th>\n",
       "    </tr>\n",
       "  </thead>\n",
       "  <tbody>\n",
       "    <tr>\n",
       "      <th>4879</th>\n",
       "      <td>4880</td>\n",
       "      <td>Московский</td>\n",
       "      <td>Иностранные</td>\n",
       "      <td>н.д.</td>\n",
       "      <td>NotVIP</td>\n",
       "      <td>SKODA</td>\n",
       "      <td>KODIAQ</td>\n",
       "      <td>2018</td>\n",
       "      <td>Нет</td>\n",
       "      <td>Состоит в браке</td>\n",
       "      <td>8</td>\n",
       "      <td>6</td>\n",
       "      <td>-2</td>\n",
       "      <td>Без франшизы</td>\n",
       "      <td>0</td>\n",
       "      <td>Классика</td>\n",
       "      <td>Без банка</td>\n",
       "      <td>Автосалоны</td>\n",
       "      <td>NB 0-1</td>\n",
       "      <td>Водители согласно перечню</td>\n",
       "      <td>59</td>\n",
       "      <td>26</td>\n",
       "      <td>1.0</td>\n",
       "      <td>1400000</td>\n",
       "      <td></td>\n",
       "      <td>0</td>\n",
       "      <td>30000</td>\n",
       "      <td>0.020</td>\n",
       "      <td>0</td>\n",
       "      <td>0</td>\n",
       "    </tr>\n",
       "    <tr>\n",
       "      <th>45</th>\n",
       "      <td>46</td>\n",
       "      <td>Нижегородский</td>\n",
       "      <td>Иностранные</td>\n",
       "      <td>н.д.</td>\n",
       "      <td>NotVIP</td>\n",
       "      <td>MAZDA</td>\n",
       "      <td>CX-5</td>\n",
       "      <td>2018</td>\n",
       "      <td>Нет</td>\n",
       "      <td>Не состоит в браке</td>\n",
       "      <td>8</td>\n",
       "      <td>6</td>\n",
       "      <td>-2</td>\n",
       "      <td>Безусловная франшиза</td>\n",
       "      <td>20000+</td>\n",
       "      <td>Классика</td>\n",
       "      <td>Без банка</td>\n",
       "      <td>Автосалоны</td>\n",
       "      <td>NB 0-1</td>\n",
       "      <td>Ограничение по стажу и возрасту, без ограничен...</td>\n",
       "      <td>25</td>\n",
       "      <td>2</td>\n",
       "      <td>1.1</td>\n",
       "      <td>2200000</td>\n",
       "      <td></td>\n",
       "      <td>0</td>\n",
       "      <td>70000</td>\n",
       "      <td>0.055</td>\n",
       "      <td>0</td>\n",
       "      <td>0</td>\n",
       "    </tr>\n",
       "    <tr>\n",
       "      <th>6555</th>\n",
       "      <td>6556</td>\n",
       "      <td>Санкт - Петербургский</td>\n",
       "      <td>Отечественные</td>\n",
       "      <td>н.д.</td>\n",
       "      <td>NotVIP</td>\n",
       "      <td>LADA</td>\n",
       "      <td>GRANTA</td>\n",
       "      <td>2018</td>\n",
       "      <td>Нет</td>\n",
       "      <td>Не состоит в браке</td>\n",
       "      <td>8</td>\n",
       "      <td>6</td>\n",
       "      <td>-2</td>\n",
       "      <td>Без франшизы</td>\n",
       "      <td>0</td>\n",
       "      <td>Компакт</td>\n",
       "      <td>Без банка</td>\n",
       "      <td>Автосалоны</td>\n",
       "      <td>NB 0-1</td>\n",
       "      <td>Ограничение по стажу и возрасту, без ограничен...</td>\n",
       "      <td>25</td>\n",
       "      <td>5</td>\n",
       "      <td>1.0</td>\n",
       "      <td>400000</td>\n",
       "      <td></td>\n",
       "      <td>0</td>\n",
       "      <td>10000</td>\n",
       "      <td>0.020</td>\n",
       "      <td>0</td>\n",
       "      <td>0</td>\n",
       "    </tr>\n",
       "  </tbody>\n",
       "</table>\n",
       "</div>"
      ],
      "text/plain": [
       "        ID                 Filial        Type_ts passport_region     VIP  \\\n",
       "4879  4880             Московский    Иностранные            н.д.  NotVIP   \n",
       "45      46          Нижегородский    Иностранные            н.д.  NotVIP   \n",
       "6555  6556  Санкт - Петербургский  Отечественные            н.д.  NotVIP   \n",
       "\n",
       "      Brand   Model  Yr_production  GAP             married  KBM  \\\n",
       "4879  SKODA  KODIAQ           2018  Нет     Состоит в браке    8   \n",
       "45    MAZDA    CX-5           2018  Нет  Не состоит в браке    8   \n",
       "6555   LADA  GRANTA           2018  Нет  Не состоит в браке    8   \n",
       "\n",
       "      KBM_prol_est  delta_kbm                deduct deduct_amount   product  \\\n",
       "4879             6         -2          Без франшизы             0  Классика   \n",
       "45               6         -2  Безусловная франшиза        20000+  Классика   \n",
       "6555             6         -2          Без франшизы             0   Компакт   \n",
       "\n",
       "           Bank channel - map category  \\\n",
       "4879  Без банка    Автосалоны   NB 0-1   \n",
       "45    Без банка    Автосалоны   NB 0-1   \n",
       "6555  Без банка    Автосалоны   NB 0-1   \n",
       "\n",
       "                                               kvs_type  Age  Exp  discount  \\\n",
       "4879                          Водители согласно перечню   59   26       1.0   \n",
       "45    Ограничение по стажу и возрасту, без ограничен...   25    2       1.1   \n",
       "6555  Ограничение по стажу и возрасту, без ограничен...   25    5       1.0   \n",
       "\n",
       "      Amount - gr sex  premium_car  price_gr  price_prc  OSAGO_clnt  target  \n",
       "4879      1400000                0     30000      0.020           0       0  \n",
       "45        2200000                0     70000      0.055           0       0  \n",
       "6555       400000                0     10000      0.020           0       0  "
      ]
     },
     "execution_count": 13,
     "metadata": {},
     "output_type": "execute_result"
    }
   ],
   "source": [
    "X_train[ X_train.sex == ' ']"
   ]
  },
  {
   "cell_type": "code",
   "execution_count": 14,
   "id": "e9ac1e0e",
   "metadata": {},
   "outputs": [],
   "source": [
    "\n",
    "# делаем замену в train\n",
    "for Model in X_train.Model.unique():\n",
    "    c1= X_train.Model == Model\n",
    "    c2= X_train.sex == ' '\n",
    "    X_train.loc[c1&c2, 'sex'] = X_train.loc[c1, 'sex'].mode()[0]\n",
    "for Filial in X_train.Filial.unique():\n",
    "    c1= X_train.Filial == Filial\n",
    "    c2= X_train.passport_region == 'н.д.'\n",
    "    X_train.loc[c1&c2, 'passport_region'] = X_train.loc[c1, 'passport_region'].mode()[0]\n",
    "    \n",
    "    \n",
    "# делаем замену в valid из общей выборки (train+valid)\n",
    "for Model in X_val.Model.unique():\n",
    "    c1= x.Model == Model\n",
    "    c2= x.sex == ' '\n",
    "    X_val.loc[c1&c2, 'sex'] = x.loc[c1, 'sex'].mode()[0]\n",
    "for Filial in X_val.Filial.unique():\n",
    "    c1= x.Filial == Filial\n",
    "    c2= x.passport_region == 'н.д.'\n",
    "    X_val.loc[c1&c2, 'passport_region'] = x.loc[c1, 'passport_region'].mode()[0]\n",
    "    \n",
    "    \n",
    "# делаем замену в test из общей выборки (train+valid+test)\n",
    "#for Model in X_test.Model.unique():\n",
    "for Model in x.Model.unique():\n",
    "    c1= df.Model == Model\n",
    "    c2= df.sex == ' '\n",
    "    X_test.loc[c1&c2, 'sex'] = df.loc[c1, 'sex'].mode()[0]\n",
    "#for Filial in X_val.Filial.unique():\n",
    "for Filial in x.Filial.unique():\n",
    "    c1= df.Filial == Filial\n",
    "    c2= df.passport_region == 'н.д.'\n",
    "    X_test.loc[c1&c2, 'passport_region'] = df.loc[c1, 'passport_region'].mode()[0]"
   ]
  },
  {
   "cell_type": "markdown",
   "id": "4ba6900d",
   "metadata": {},
   "source": [
    "### Построение классификатора CatBoost"
   ]
  },
  {
   "cell_type": "code",
   "execution_count": 15,
   "id": "5c705ff5",
   "metadata": {},
   "outputs": [],
   "source": [
    "X_train=X_train.drop(columns=['ID','target'])\n",
    "X_val=X_val.drop(columns=['ID','target'])\n",
    "X_test=X_test.drop(columns=['ID','target'])\n",
    "y=x['target']\n",
    "x=x.drop(columns=['ID','target'])\n"
   ]
  },
  {
   "cell_type": "code",
   "execution_count": 16,
   "id": "8580d331",
   "metadata": {},
   "outputs": [],
   "source": [
    "# делаем замену в x\n",
    "for Model in x.Model.unique():\n",
    "    c1= x.Model == Model\n",
    "    c2= x.sex == ' '\n",
    "    x.loc[c1&c2, 'sex'] = x.loc[c1, 'sex'].mode()[0]\n",
    "for Filial in X_train.Filial.unique():\n",
    "    c1= x.Filial == Filial\n",
    "    c2= x.passport_region == 'н.д.'\n",
    "    x.loc[c1&c2, 'passport_region'] = x.loc[c1, 'passport_region'].mode()[0]"
   ]
  },
  {
   "cell_type": "markdown",
   "id": "bc479c14",
   "metadata": {},
   "source": [
    "Обучим классификатор CatBoost"
   ]
  },
  {
   "cell_type": "code",
   "execution_count": 17,
   "id": "08eff157",
   "metadata": {},
   "outputs": [],
   "source": [
    "categorical = ['Filial',\n",
    "               'Type_ts',\n",
    "               'passport_region',\n",
    "               'VIP', 'Brand',\n",
    "               'Model',\n",
    "               'GAP',\n",
    "               'sex',\n",
    "               'married',\n",
    "               'deduct',\n",
    "               'deduct_amount',\n",
    "               'product',\n",
    "               'Bank',\n",
    "               'channel - map',\n",
    "               'category',\n",
    "               'kvs_type']"
   ]
  },
  {
   "cell_type": "code",
   "execution_count": 18,
   "id": "17058cfa",
   "metadata": {},
   "outputs": [
    {
     "name": "stdout",
     "output_type": "stream",
     "text": [
      "(6078, 28) (1520, 28)\n"
     ]
    },
    {
     "data": {
      "application/vnd.jupyter.widget-view+json": {
       "model_id": "e496f2a0adeb4c94bc6c997a904af7d4",
       "version_major": 2,
       "version_minor": 0
      },
      "text/plain": [
       "MetricVisualizer(layout=Layout(align_self='stretch', height='500px'))"
      ]
     },
     "metadata": {},
     "output_type": "display_data"
    },
    {
     "name": "stdout",
     "output_type": "stream",
     "text": [
      "Wall time: 16.8 s\n"
     ]
    },
    {
     "data": {
      "text/plain": [
       "<catboost.core.CatBoostClassifier at 0x20f4065e820>"
      ]
     },
     "execution_count": 18,
     "metadata": {},
     "output_type": "execute_result"
    }
   ],
   "source": [
    "%%time\n",
    "cat_features = [x for z in categorical for x, y in enumerate(X_train.columns) if y==z]\n",
    "\n",
    "print(X_train.shape, X_val.shape)\n",
    "\n",
    "model_with_early_stop = cb.CatBoostClassifier(\n",
    "    iterations=2000,\n",
    "    random_seed=43,\n",
    "    learning_rate=0.01,\n",
    "    custom_loss = 'AUC',\n",
    "    early_stopping_rounds=50\n",
    ")\n",
    "\n",
    "model_with_early_stop.fit(\n",
    "    X_train, y_train,\n",
    "    cat_features=cat_features,\n",
    "    eval_set=(X_val, y_val),\n",
    "    verbose=False,\n",
    "    plot=True\n",
    ")"
   ]
  },
  {
   "cell_type": "markdown",
   "id": "c459fbf9",
   "metadata": {},
   "source": [
    "#### Метрики качества"
   ]
  },
  {
   "cell_type": "code",
   "execution_count": 19,
   "id": "76df37bd",
   "metadata": {},
   "outputs": [
    {
     "name": "stdout",
     "output_type": "stream",
     "text": [
      "Precision: 0.3263157894736842\n",
      "Recall: 0.6175298804780877\n",
      "F1: 0.4269972451790634\n",
      "Accuracy: 0.7263157894736842\n",
      "Matthews: 0.2926759738940454\n"
     ]
    }
   ],
   "source": [
    "# model_with_early_stop\n",
    "\n",
    "print('Precision: {}'.format(precision_score(model_with_early_stop.predict(X_val), y_val)))\n",
    "print('Recall: {}'.format(recall_score(model_with_early_stop.predict(X_val), y_val)))\n",
    "print('F1: {}'.format(f1_score(model_with_early_stop.predict(X_val), y_val)))\n",
    "print('Accuracy: {}'.format(accuracy_score(model_with_early_stop.predict(X_val), y_val)))\n",
    "print('Matthews: {}'.format(matthews_corrcoef(model_with_early_stop.predict(X_val), y_val)))"
   ]
  },
  {
   "cell_type": "code",
   "execution_count": 20,
   "id": "fc0f3854",
   "metadata": {},
   "outputs": [
    {
     "data": {
      "image/png": "[encoded data removed]",
      "text/plain": [
       "<Figure size 1500x700 with 1 Axes>"
      ]
     },
     "metadata": {},
     "output_type": "display_data"
    }
   ],
   "source": [
    "def plot_feature_importance(importance,names,model_type):\n",
    "  \n",
    "    #Create arrays from feature importance and feature names\n",
    "    feature_importance = np.array(importance)\n",
    "    feature_names = np.array(names)\n",
    "    \n",
    "    #Create a DataFrame using a Dictionary\n",
    "    data={'feature_names':feature_names,'feature_importance':feature_importance}\n",
    "    fi_df = pd.DataFrame(data)\n",
    "    \n",
    "    #Sort the DataFrame in order decreasing feature importance\n",
    "    fi_df.sort_values(by=['feature_importance'], ascending=False,inplace=True)\n",
    "    \n",
    "    #Define size of bar plot\n",
    "    plt.figure(figsize=(15, 7))\n",
    "    #Plot Searborn bar chart\n",
    "    sns.barplot(x=fi_df['feature_importance'], y=fi_df['feature_names'])\n",
    "    #Add chart labels\n",
    "    plt.title(model_type + 'FEATURE IMPORTANCE')\n",
    "    plt.xlabel('FEATURE IMPORTANCE')\n",
    "    plt.ylabel('FEATURE NAMES')\n",
    "\n",
    "plot_feature_importance(model_with_early_stop.get_feature_importance(), X_train.columns,'CATBOOST')"
   ]
  },
  {
   "cell_type": "markdown",
   "id": "a6d57805",
   "metadata": {},
   "source": [
    "Подбор гиперпараметров"
   ]
  },
  {
   "cell_type": "code",
   "execution_count": 21,
   "id": "f2d32e10",
   "metadata": {},
   "outputs": [
    {
     "name": "stdout",
     "output_type": "stream",
     "text": [
      "Fitting 3 folds for each of 27 candidates, totalling 81 fits\n",
      "Best parameters:  {'depth': 7, 'iterations': 500, 'learning_rate': 0.025}\n",
      "Best accuracy:  0.7342710762432988\n",
      "Wall time: 21min 58s\n"
     ]
    }
   ],
   "source": [
    "%%time\n",
    "# Define the parameter grid to search over\n",
    "param_grid = {\n",
    "    'learning_rate':  [0.02, 0.025, 0.03],\n",
    "    'depth': [6, 7, 8],\n",
    "    'iterations': [400, 500, 600 ],\n",
    "}\n",
    "# Create the CatBoostRegressor object\n",
    "model = cb.CatBoostClassifier(silent=True)\n",
    "# Perform the grid search\n",
    "grid_search = GridSearchCV(model, param_grid=param_grid, cv=3, verbose = 1)\n",
    "grid_search.fit(x, y , cat_features=cat_features)\n",
    "# Print the best parameters and best scores\n",
    "print(\"Best parameters: \", grid_search.best_params_)\n",
    "print(\"Best accuracy: \", grid_search.best_score_)"
   ]
  },
  {
   "cell_type": "code",
   "execution_count": 22,
   "id": "a5c42b3b",
   "metadata": {},
   "outputs": [
    {
     "name": "stdout",
     "output_type": "stream",
     "text": [
      "Precision: 0.4231578947368421\n",
      "Recall: 0.7230215827338129\n",
      "Accuracy: 0.7690789473684211\n",
      "F1: 0.4269972451790634\n",
      "Matthews: 0.2926759738940454\n"
     ]
    }
   ],
   "source": [
    "# model_with_early_stop.predict_proba(X_test)\n",
    "print('Precision: {}'.format(precision_score(grid_search.best_estimator_.predict(X_val), y_val)))\n",
    "print('Recall: {}'.format(recall_score(grid_search.best_estimator_.predict(X_val), y_val)))\n",
    "print('Accuracy: {}'.format(accuracy_score(grid_search.best_estimator_.predict(X_val), y_val)))\n",
    "print('F1: {}'.format(f1_score(model_with_early_stop.predict(X_val), y_val)))\n",
    "print('Matthews: {}'.format(matthews_corrcoef(model_with_early_stop.predict(X_val), y_val)))"
   ]
  },
  {
   "cell_type": "code",
   "execution_count": 23,
   "id": "9bec87b2",
   "metadata": {},
   "outputs": [
    {
     "data": {
      "image/png": "[encoded data removed]",
      "text/plain": [
       "<Figure size 640x480 with 1 Axes>"
      ]
     },
     "metadata": {},
     "output_type": "display_data"
    }
   ],
   "source": [
    "fpr, tpr, thresholds = roc_curve(y_val, grid_search.best_estimator_.predict_proba(X_val)[:,1])\n",
    "\n",
    "roc_auc= auc(fpr, tpr)\n",
    "plt.figure()\n",
    "plt.plot(fpr, tpr, \n",
    "         label='ROC curve (area = %0.2f)' % (roc_auc))\n",
    "plt.plot([0, 1], [0, 1]\n",
    "        , 'k--')\n",
    "plt.xlim([0.0, 1.0])\n",
    "plt.ylim([0.0, 1.05])\n",
    "plt.xlabel('False Positive Rate')\n",
    "plt.ylabel('True Positive Rate')\n",
    "plt.title('Receiver operating characteristic')\n",
    "plt.legend(loc=\"lower right\")\n",
    "plt.show()"
   ]
  },
  {
   "cell_type": "code",
   "execution_count": 24,
   "id": "212ee167",
   "metadata": {},
   "outputs": [
    {
     "data": {
      "text/plain": [
       "array([0, 1, 0, ..., 0, 0, 0], dtype=int64)"
      ]
     },
     "execution_count": 24,
     "metadata": {},
     "output_type": "execute_result"
    }
   ],
   "source": [
    "y_pred_test_np = grid_search.best_estimator_.predict(X_test)\n",
    "y_pred_test_np"
   ]
  },
  {
   "cell_type": "code",
   "execution_count": 25,
   "id": "0cd00be3",
   "metadata": {},
   "outputs": [
    {
     "data": {
      "text/html": [
       "<div>\n",
       "<style scoped>\n",
       "    .dataframe tbody tr th:only-of-type {\n",
       "        vertical-align: middle;\n",
       "    }\n",
       "\n",
       "    .dataframe tbody tr th {\n",
       "        vertical-align: top;\n",
       "    }\n",
       "\n",
       "    .dataframe thead th {\n",
       "        text-align: right;\n",
       "    }\n",
       "</style>\n",
       "<table border=\"1\" class=\"dataframe\">\n",
       "  <thead>\n",
       "    <tr style=\"text-align: right;\">\n",
       "      <th></th>\n",
       "      <th>ID</th>\n",
       "      <th>y_pred_test</th>\n",
       "    </tr>\n",
       "  </thead>\n",
       "  <tbody>\n",
       "    <tr>\n",
       "      <th>0</th>\n",
       "      <td>7599</td>\n",
       "      <td>0</td>\n",
       "    </tr>\n",
       "    <tr>\n",
       "      <th>1</th>\n",
       "      <td>7600</td>\n",
       "      <td>1</td>\n",
       "    </tr>\n",
       "    <tr>\n",
       "      <th>2</th>\n",
       "      <td>7601</td>\n",
       "      <td>0</td>\n",
       "    </tr>\n",
       "    <tr>\n",
       "      <th>3</th>\n",
       "      <td>7602</td>\n",
       "      <td>0</td>\n",
       "    </tr>\n",
       "    <tr>\n",
       "      <th>4</th>\n",
       "      <td>7603</td>\n",
       "      <td>0</td>\n",
       "    </tr>\n",
       "  </tbody>\n",
       "</table>\n",
       "</div>"
      ],
      "text/plain": [
       "     ID  y_pred_test\n",
       "0  7599            0\n",
       "1  7600            1\n",
       "2  7601            0\n",
       "3  7602            0\n",
       "4  7603            0"
      ]
     },
     "execution_count": 25,
     "metadata": {},
     "output_type": "execute_result"
    }
   ],
   "source": [
    "y_pred_test=pd.DataFrame(y_pred_test_np, columns =['y_pred_test'])\n",
    "y_pred_test.index=X_test.index+1\n",
    "y_pred_test=y_pred_test.reset_index().rename(columns={\"index\": \"ID\"})\n",
    "\n",
    "y_pred_test.head()"
   ]
  },
  {
   "cell_type": "code",
   "execution_count": 26,
   "id": "a3ce6ae2",
   "metadata": {},
   "outputs": [],
   "source": [
    "y_pred_test.to_csv('y_pred_test', sep='\\t')"
   ]
  },
  {
   "cell_type": "code",
   "execution_count": null,
   "id": "6cd4a107",
   "metadata": {},
   "outputs": [],
   "source": []
  }
 ],
 "metadata": {
  "kernelspec": {
   "display_name": "Python 3 (ipykernel)",
   "language": "python",
   "name": "python3"
  },
  "language_info": {
   "codemirror_mode": {
    "name": "ipython",
    "version": 3
   },
   "file_extension": ".py",
   "mimetype": "text/x-python",
   "name": "python",
   "nbconvert_exporter": "python",
   "pygments_lexer": "ipython3",
   "version": "3.9.13"
  }
 },
 "nbformat": 4,
 "nbformat_minor": 5
}
