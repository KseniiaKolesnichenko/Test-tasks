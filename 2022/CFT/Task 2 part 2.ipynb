{
 "cells": [
  {
   "cell_type": "markdown",
   "metadata": {},
   "source": [
    "## Задание выполнила Колесниченко Ксения Сергеевна.\n",
    "Контакты https://www.linkedin.com/in/kseniia-kolesnichenko/\n",
    "\n"
   ]
  },
  {
   "cell_type": "markdown",
   "metadata": {},
   "source": [
    "# Тестовое задание\n",
    "\n",
    "В данном задании необходимо написать код, который считает следующие признаки для каждого клиента `user_id`:\n",
    "\n",
    "1. `events_ordinal_number` - порядковый номер события\n",
    "2. `second_event_time` - время второго события\n",
    "2.\t`loan_ordinal_number` - порядковый номер займа\n",
    "2.\t`events_time_diff` - разница во времени между событиями\n",
    "2.\t`previous_loans_max_amount` - максимальная сумма предыдущего займа.\n"
   ]
  },
  {
   "cell_type": "markdown",
   "metadata": {},
   "source": [
    "### Подготовка датафрейма"
   ]
  },
  {
   "cell_type": "code",
   "execution_count": 1,
   "metadata": {
    "ExecuteTime": {
     "end_time": "2022-01-31T03:49:42.126788Z",
     "start_time": "2022-01-31T03:49:42.123378Z"
    }
   },
   "outputs": [],
   "source": [
    "import numpy as np\n",
    "import pandas as pd\n",
    "from datetime import datetime"
   ]
  },
  {
   "cell_type": "code",
   "execution_count": 2,
   "metadata": {
    "ExecuteTime": {
     "end_time": "2022-01-31T03:49:43.232607Z",
     "start_time": "2022-01-31T03:49:42.885224Z"
    }
   },
   "outputs": [],
   "source": [
    "size = 10000\n",
    "\n",
    "df = pd.DataFrame(\n",
    "    {\n",
    "        'time': [*pd.date_range('2001-01-01', '2020-09-01', freq='1h')][:size],\n",
    "        'user_id': np.random.choice(1000, size),\n",
    "        'type': np.random.choice(2, size, p=[0.8, 0.2]),\n",
    "        'amount': [int(x//1) for x in  np.random.normal(15_000, 1_000, size)],\n",
    "        'target': np.random.choice(2, size, p=[0.5, 0.5]),\n",
    "    },\n",
    "    index=[*range(size)],\n",
    ")"
   ]
  },
  {
   "cell_type": "code",
   "execution_count": 3,
   "metadata": {
    "ExecuteTime": {
     "end_time": "2022-01-31T03:49:46.319681Z",
     "start_time": "2022-01-31T03:49:46.314034Z"
    }
   },
   "outputs": [],
   "source": [
    "df['is_loan'] = df['type']\n",
    "df['type'] = df['type'].replace({0: 'loanRequest', 1: 'loan'})"
   ]
  },
  {
   "cell_type": "code",
   "execution_count": 4,
   "metadata": {
    "ExecuteTime": {
     "end_time": "2022-01-31T03:49:47.046951Z",
     "start_time": "2022-01-31T03:49:47.008314Z"
    }
   },
   "outputs": [],
   "source": [
    "df.to_csv('test_origin.csv', index=False)"
   ]
  },
  {
   "cell_type": "markdown",
   "metadata": {},
   "source": [
    "### Расчет признаков"
   ]
  },
  {
   "cell_type": "markdown",
   "metadata": {},
   "source": [
    "#### Признак `events_ordinal_number`"
   ]
  },
  {
   "cell_type": "code",
   "execution_count": 5,
   "metadata": {
    "ExecuteTime": {
     "end_time": "2022-01-31T03:51:18.742585Z",
     "start_time": "2022-01-31T03:51:18.739041Z"
    }
   },
   "outputs": [],
   "source": [
    "# весь код расчета признака в этой фукнции\n",
    "def calculate_events_number(df):\n",
    "    # выбираем cumcount, потому что он на числах быстрее, чем rank и добавляем 1, чтобы нумерация шла не с 0.\n",
    "    df['events_ordinal_number'] = df.groupby(\"user_id\").cumcount()+1 \n",
    "    return df"
   ]
  },
  {
   "cell_type": "code",
   "execution_count": 6,
   "metadata": {},
   "outputs": [
    {
     "data": {
      "text/html": [
       "<div>\n",
       "<style scoped>\n",
       "    .dataframe tbody tr th:only-of-type {\n",
       "        vertical-align: middle;\n",
       "    }\n",
       "\n",
       "    .dataframe tbody tr th {\n",
       "        vertical-align: top;\n",
       "    }\n",
       "\n",
       "    .dataframe thead th {\n",
       "        text-align: right;\n",
       "    }\n",
       "</style>\n",
       "<table border=\"1\" class=\"dataframe\">\n",
       "  <thead>\n",
       "    <tr style=\"text-align: right;\">\n",
       "      <th></th>\n",
       "      <th>time</th>\n",
       "      <th>user_id</th>\n",
       "      <th>type</th>\n",
       "      <th>amount</th>\n",
       "      <th>target</th>\n",
       "      <th>is_loan</th>\n",
       "      <th>events_ordinal_number</th>\n",
       "    </tr>\n",
       "  </thead>\n",
       "  <tbody>\n",
       "    <tr>\n",
       "      <th>0</th>\n",
       "      <td>2001-01-01 00:00:00</td>\n",
       "      <td>673</td>\n",
       "      <td>loan</td>\n",
       "      <td>14331</td>\n",
       "      <td>0</td>\n",
       "      <td>1</td>\n",
       "      <td>1</td>\n",
       "    </tr>\n",
       "    <tr>\n",
       "      <th>1</th>\n",
       "      <td>2001-01-01 01:00:00</td>\n",
       "      <td>968</td>\n",
       "      <td>loanRequest</td>\n",
       "      <td>15905</td>\n",
       "      <td>0</td>\n",
       "      <td>0</td>\n",
       "      <td>1</td>\n",
       "    </tr>\n",
       "    <tr>\n",
       "      <th>2</th>\n",
       "      <td>2001-01-01 02:00:00</td>\n",
       "      <td>536</td>\n",
       "      <td>loanRequest</td>\n",
       "      <td>15281</td>\n",
       "      <td>1</td>\n",
       "      <td>0</td>\n",
       "      <td>1</td>\n",
       "    </tr>\n",
       "    <tr>\n",
       "      <th>3</th>\n",
       "      <td>2001-01-01 03:00:00</td>\n",
       "      <td>742</td>\n",
       "      <td>loanRequest</td>\n",
       "      <td>11475</td>\n",
       "      <td>1</td>\n",
       "      <td>0</td>\n",
       "      <td>1</td>\n",
       "    </tr>\n",
       "    <tr>\n",
       "      <th>4</th>\n",
       "      <td>2001-01-01 04:00:00</td>\n",
       "      <td>20</td>\n",
       "      <td>loanRequest</td>\n",
       "      <td>17310</td>\n",
       "      <td>0</td>\n",
       "      <td>0</td>\n",
       "      <td>1</td>\n",
       "    </tr>\n",
       "  </tbody>\n",
       "</table>\n",
       "</div>"
      ],
      "text/plain": [
       "                 time  user_id         type  amount  target  is_loan  \\\n",
       "0 2001-01-01 00:00:00      673         loan   14331       0        1   \n",
       "1 2001-01-01 01:00:00      968  loanRequest   15905       0        0   \n",
       "2 2001-01-01 02:00:00      536  loanRequest   15281       1        0   \n",
       "3 2001-01-01 03:00:00      742  loanRequest   11475       1        0   \n",
       "4 2001-01-01 04:00:00       20  loanRequest   17310       0        0   \n",
       "\n",
       "   events_ordinal_number  \n",
       "0                      1  \n",
       "1                      1  \n",
       "2                      1  \n",
       "3                      1  \n",
       "4                      1  "
      ]
     },
     "execution_count": 6,
     "metadata": {},
     "output_type": "execute_result"
    }
   ],
   "source": [
    "calculate_events_number(df).head()"
   ]
  },
  {
   "cell_type": "markdown",
   "metadata": {},
   "source": [
    "#### Признак `second_event_time`"
   ]
  },
  {
   "cell_type": "code",
   "execution_count": 7,
   "metadata": {
    "ExecuteTime": {
     "end_time": "2022-01-31T03:51:20.999794Z",
     "start_time": "2022-01-31T03:51:20.996142Z"
    }
   },
   "outputs": [],
   "source": [
    "# весь код расчета признака в этой фукнции\n",
    "def calculate_second_event_time(df):\n",
    "# создаём отдельный датафрейм, где будут взяты только вторые \n",
    "    second_event_time= df[df.events_ordinal_number==2] \n",
    "# оставляем в нём только нужные столбцы\n",
    "    second_event_time=second_event_time[['time','user_id']] \n",
    " # переименуем столбец\n",
    "    second_event_time.rename(columns={\"time\": \"second_event_time\"}, inplace=True)\n",
    "# Присоединим к основному датафрейму время второго вхождения\n",
    "    df=df.merge(second_event_time, left_on='user_id', right_on='user_id')    \n",
    "    return df"
   ]
  },
  {
   "cell_type": "code",
   "execution_count": 8,
   "metadata": {},
   "outputs": [
    {
     "data": {
      "text/html": [
       "<div>\n",
       "<style scoped>\n",
       "    .dataframe tbody tr th:only-of-type {\n",
       "        vertical-align: middle;\n",
       "    }\n",
       "\n",
       "    .dataframe tbody tr th {\n",
       "        vertical-align: top;\n",
       "    }\n",
       "\n",
       "    .dataframe thead th {\n",
       "        text-align: right;\n",
       "    }\n",
       "</style>\n",
       "<table border=\"1\" class=\"dataframe\">\n",
       "  <thead>\n",
       "    <tr style=\"text-align: right;\">\n",
       "      <th></th>\n",
       "      <th>time</th>\n",
       "      <th>user_id</th>\n",
       "      <th>type</th>\n",
       "      <th>amount</th>\n",
       "      <th>target</th>\n",
       "      <th>is_loan</th>\n",
       "      <th>events_ordinal_number</th>\n",
       "      <th>second_event_time</th>\n",
       "    </tr>\n",
       "  </thead>\n",
       "  <tbody>\n",
       "    <tr>\n",
       "      <th>0</th>\n",
       "      <td>2001-01-01 00:00:00</td>\n",
       "      <td>673</td>\n",
       "      <td>loan</td>\n",
       "      <td>14331</td>\n",
       "      <td>0</td>\n",
       "      <td>1</td>\n",
       "      <td>1</td>\n",
       "      <td>2001-03-07 14:00:00</td>\n",
       "    </tr>\n",
       "    <tr>\n",
       "      <th>1</th>\n",
       "      <td>2001-03-07 14:00:00</td>\n",
       "      <td>673</td>\n",
       "      <td>loanRequest</td>\n",
       "      <td>15161</td>\n",
       "      <td>1</td>\n",
       "      <td>0</td>\n",
       "      <td>2</td>\n",
       "      <td>2001-03-07 14:00:00</td>\n",
       "    </tr>\n",
       "    <tr>\n",
       "      <th>2</th>\n",
       "      <td>2001-03-31 00:00:00</td>\n",
       "      <td>673</td>\n",
       "      <td>loanRequest</td>\n",
       "      <td>14195</td>\n",
       "      <td>1</td>\n",
       "      <td>0</td>\n",
       "      <td>3</td>\n",
       "      <td>2001-03-07 14:00:00</td>\n",
       "    </tr>\n",
       "    <tr>\n",
       "      <th>3</th>\n",
       "      <td>2001-05-17 20:00:00</td>\n",
       "      <td>673</td>\n",
       "      <td>loanRequest</td>\n",
       "      <td>14228</td>\n",
       "      <td>1</td>\n",
       "      <td>0</td>\n",
       "      <td>4</td>\n",
       "      <td>2001-03-07 14:00:00</td>\n",
       "    </tr>\n",
       "    <tr>\n",
       "      <th>4</th>\n",
       "      <td>2001-06-28 02:00:00</td>\n",
       "      <td>673</td>\n",
       "      <td>loanRequest</td>\n",
       "      <td>15406</td>\n",
       "      <td>0</td>\n",
       "      <td>0</td>\n",
       "      <td>5</td>\n",
       "      <td>2001-03-07 14:00:00</td>\n",
       "    </tr>\n",
       "  </tbody>\n",
       "</table>\n",
       "</div>"
      ],
      "text/plain": [
       "                 time  user_id         type  amount  target  is_loan  \\\n",
       "0 2001-01-01 00:00:00      673         loan   14331       0        1   \n",
       "1 2001-03-07 14:00:00      673  loanRequest   15161       1        0   \n",
       "2 2001-03-31 00:00:00      673  loanRequest   14195       1        0   \n",
       "3 2001-05-17 20:00:00      673  loanRequest   14228       1        0   \n",
       "4 2001-06-28 02:00:00      673  loanRequest   15406       0        0   \n",
       "\n",
       "   events_ordinal_number   second_event_time  \n",
       "0                      1 2001-03-07 14:00:00  \n",
       "1                      2 2001-03-07 14:00:00  \n",
       "2                      3 2001-03-07 14:00:00  \n",
       "3                      4 2001-03-07 14:00:00  \n",
       "4                      5 2001-03-07 14:00:00  "
      ]
     },
     "execution_count": 8,
     "metadata": {},
     "output_type": "execute_result"
    }
   ],
   "source": [
    "calculate_second_event_time(df).head()"
   ]
  },
  {
   "cell_type": "markdown",
   "metadata": {},
   "source": [
    "#### Признак `loan_ordinal_number`"
   ]
  },
  {
   "cell_type": "code",
   "execution_count": 9,
   "metadata": {
    "ExecuteTime": {
     "end_time": "2022-01-31T03:51:22.879197Z",
     "start_time": "2022-01-31T03:51:22.875652Z"
    }
   },
   "outputs": [],
   "source": [
    "# весь код расчета признака должен быть в этом методе\n",
    "def calculate_loan_number(df):\n",
    "    \n",
    "#сортируем данные строго по user_id и времени, переиндексируем весь датафрейм\n",
    "    df = df.sort_values(['user_id', 'time'], ignore_index=True)\n",
    "#нумеруем выданные кредиты в зависимости от времени выдачи (только событие type = loan)\n",
    "#метод cumcount() работает проще на не числовых значениях, чем rank()\n",
    "#+1 ставим, потому что иначе начнет нумеровать с нуля\n",
    "    df['loan_ordinal_number'] = df[df['type']=='loan'].groupby(['user_id'])['time'].cumcount()+1\n",
    "#по результатам предыдущего шага в датафрейме остается куча NaN'ов для loanRequest'ов\n",
    "#заполняем эти NaN'ы следующими значениями _назад_ (метод bfill)\n",
    "    df['loan_ordinal_number'] = df.groupby('user_id')['loan_ordinal_number'].fillna(method='bfill')\n",
    "#у нас остаются NaN'ы в loanRequest'ах, которые не закончились выдачей кредита. Присваиваем им значение +1 от последнего кредита\n",
    "#методом ffill (вперед), но кидаем его во временный столбец, чтобы +1 не убил уже присвоенные значения RowNum\n",
    "    df['RowNum2'] = df.groupby('user_id')['loan_ordinal_number'].fillna(method='ffill')+1\n",
    "#еще раз проходим по нашему столбцу RowNum и вытягиваем в него значения из временного RowNum2 только там, где остался NaN\n",
    "    df['loan_ordinal_number'] = df['loan_ordinal_number'].fillna(df['RowNum2'])\n",
    "#убиваем временный столбец\n",
    "    df = df.drop('RowNum2',1)\n",
    "\n",
    "    return df"
   ]
  },
  {
   "cell_type": "code",
   "execution_count": 10,
   "metadata": {},
   "outputs": [
    {
     "data": {
      "text/html": [
       "<div>\n",
       "<style scoped>\n",
       "    .dataframe tbody tr th:only-of-type {\n",
       "        vertical-align: middle;\n",
       "    }\n",
       "\n",
       "    .dataframe tbody tr th {\n",
       "        vertical-align: top;\n",
       "    }\n",
       "\n",
       "    .dataframe thead th {\n",
       "        text-align: right;\n",
       "    }\n",
       "</style>\n",
       "<table border=\"1\" class=\"dataframe\">\n",
       "  <thead>\n",
       "    <tr style=\"text-align: right;\">\n",
       "      <th></th>\n",
       "      <th>time</th>\n",
       "      <th>user_id</th>\n",
       "      <th>type</th>\n",
       "      <th>amount</th>\n",
       "      <th>target</th>\n",
       "      <th>is_loan</th>\n",
       "      <th>events_ordinal_number</th>\n",
       "      <th>loan_ordinal_number</th>\n",
       "    </tr>\n",
       "  </thead>\n",
       "  <tbody>\n",
       "    <tr>\n",
       "      <th>0</th>\n",
       "      <td>2001-03-14 15:00:00</td>\n",
       "      <td>0</td>\n",
       "      <td>loanRequest</td>\n",
       "      <td>14713</td>\n",
       "      <td>0</td>\n",
       "      <td>0</td>\n",
       "      <td>1</td>\n",
       "      <td>1.0</td>\n",
       "    </tr>\n",
       "    <tr>\n",
       "      <th>1</th>\n",
       "      <td>2001-04-30 22:00:00</td>\n",
       "      <td>0</td>\n",
       "      <td>loanRequest</td>\n",
       "      <td>16486</td>\n",
       "      <td>1</td>\n",
       "      <td>0</td>\n",
       "      <td>2</td>\n",
       "      <td>1.0</td>\n",
       "    </tr>\n",
       "    <tr>\n",
       "      <th>2</th>\n",
       "      <td>2001-06-06 12:00:00</td>\n",
       "      <td>0</td>\n",
       "      <td>loan</td>\n",
       "      <td>14057</td>\n",
       "      <td>0</td>\n",
       "      <td>1</td>\n",
       "      <td>3</td>\n",
       "      <td>1.0</td>\n",
       "    </tr>\n",
       "    <tr>\n",
       "      <th>3</th>\n",
       "      <td>2001-06-17 12:00:00</td>\n",
       "      <td>0</td>\n",
       "      <td>loanRequest</td>\n",
       "      <td>14438</td>\n",
       "      <td>1</td>\n",
       "      <td>0</td>\n",
       "      <td>4</td>\n",
       "      <td>2.0</td>\n",
       "    </tr>\n",
       "    <tr>\n",
       "      <th>4</th>\n",
       "      <td>2001-07-13 08:00:00</td>\n",
       "      <td>0</td>\n",
       "      <td>loan</td>\n",
       "      <td>14553</td>\n",
       "      <td>1</td>\n",
       "      <td>1</td>\n",
       "      <td>5</td>\n",
       "      <td>2.0</td>\n",
       "    </tr>\n",
       "  </tbody>\n",
       "</table>\n",
       "</div>"
      ],
      "text/plain": [
       "                 time  user_id         type  amount  target  is_loan  \\\n",
       "0 2001-03-14 15:00:00        0  loanRequest   14713       0        0   \n",
       "1 2001-04-30 22:00:00        0  loanRequest   16486       1        0   \n",
       "2 2001-06-06 12:00:00        0         loan   14057       0        1   \n",
       "3 2001-06-17 12:00:00        0  loanRequest   14438       1        0   \n",
       "4 2001-07-13 08:00:00        0         loan   14553       1        1   \n",
       "\n",
       "   events_ordinal_number  loan_ordinal_number  \n",
       "0                      1                  1.0  \n",
       "1                      2                  1.0  \n",
       "2                      3                  1.0  \n",
       "3                      4                  2.0  \n",
       "4                      5                  2.0  "
      ]
     },
     "execution_count": 10,
     "metadata": {},
     "output_type": "execute_result"
    }
   ],
   "source": [
    "calculate_loan_number(df).head()"
   ]
  },
  {
   "cell_type": "code",
   "execution_count": 11,
   "metadata": {},
   "outputs": [],
   "source": [
    "def calculate_loan_number(df):\n",
    "    df = df.sort_values(['user_id', 'time'], ignore_index=True)\n",
    "    df['loan_ordinal_number'] = df[df['type']=='loan'].groupby(['user_id'])['time'].cumcount()+1\n",
    "    df['loan_ordinal_number'] = df.groupby('user_id')['loan_ordinal_number'].fillna(method='bfill')\n",
    "    df['RowNum2'] = df.groupby('user_id')['loan_ordinal_number'].fillna(method='ffill')+1\n",
    "    df['loan_ordinal_number'] = df['loan_ordinal_number'].fillna(df['RowNum2'])\n",
    "    df = df.drop({'RowNum2'}, axis=1)\n",
    "\n",
    "    return df"
   ]
  },
  {
   "cell_type": "code",
   "execution_count": 12,
   "metadata": {},
   "outputs": [
    {
     "data": {
      "text/html": [
       "<div>\n",
       "<style scoped>\n",
       "    .dataframe tbody tr th:only-of-type {\n",
       "        vertical-align: middle;\n",
       "    }\n",
       "\n",
       "    .dataframe tbody tr th {\n",
       "        vertical-align: top;\n",
       "    }\n",
       "\n",
       "    .dataframe thead th {\n",
       "        text-align: right;\n",
       "    }\n",
       "</style>\n",
       "<table border=\"1\" class=\"dataframe\">\n",
       "  <thead>\n",
       "    <tr style=\"text-align: right;\">\n",
       "      <th></th>\n",
       "      <th>time</th>\n",
       "      <th>user_id</th>\n",
       "      <th>type</th>\n",
       "      <th>amount</th>\n",
       "      <th>target</th>\n",
       "      <th>is_loan</th>\n",
       "      <th>events_ordinal_number</th>\n",
       "      <th>loan_ordinal_number</th>\n",
       "    </tr>\n",
       "  </thead>\n",
       "  <tbody>\n",
       "    <tr>\n",
       "      <th>0</th>\n",
       "      <td>2001-03-14 15:00:00</td>\n",
       "      <td>0</td>\n",
       "      <td>loanRequest</td>\n",
       "      <td>14713</td>\n",
       "      <td>0</td>\n",
       "      <td>0</td>\n",
       "      <td>1</td>\n",
       "      <td>1.0</td>\n",
       "    </tr>\n",
       "    <tr>\n",
       "      <th>1</th>\n",
       "      <td>2001-04-30 22:00:00</td>\n",
       "      <td>0</td>\n",
       "      <td>loanRequest</td>\n",
       "      <td>16486</td>\n",
       "      <td>1</td>\n",
       "      <td>0</td>\n",
       "      <td>2</td>\n",
       "      <td>1.0</td>\n",
       "    </tr>\n",
       "    <tr>\n",
       "      <th>2</th>\n",
       "      <td>2001-06-06 12:00:00</td>\n",
       "      <td>0</td>\n",
       "      <td>loan</td>\n",
       "      <td>14057</td>\n",
       "      <td>0</td>\n",
       "      <td>1</td>\n",
       "      <td>3</td>\n",
       "      <td>1.0</td>\n",
       "    </tr>\n",
       "    <tr>\n",
       "      <th>3</th>\n",
       "      <td>2001-06-17 12:00:00</td>\n",
       "      <td>0</td>\n",
       "      <td>loanRequest</td>\n",
       "      <td>14438</td>\n",
       "      <td>1</td>\n",
       "      <td>0</td>\n",
       "      <td>4</td>\n",
       "      <td>2.0</td>\n",
       "    </tr>\n",
       "    <tr>\n",
       "      <th>4</th>\n",
       "      <td>2001-07-13 08:00:00</td>\n",
       "      <td>0</td>\n",
       "      <td>loan</td>\n",
       "      <td>14553</td>\n",
       "      <td>1</td>\n",
       "      <td>1</td>\n",
       "      <td>5</td>\n",
       "      <td>2.0</td>\n",
       "    </tr>\n",
       "  </tbody>\n",
       "</table>\n",
       "</div>"
      ],
      "text/plain": [
       "                 time  user_id         type  amount  target  is_loan  \\\n",
       "0 2001-03-14 15:00:00        0  loanRequest   14713       0        0   \n",
       "1 2001-04-30 22:00:00        0  loanRequest   16486       1        0   \n",
       "2 2001-06-06 12:00:00        0         loan   14057       0        1   \n",
       "3 2001-06-17 12:00:00        0  loanRequest   14438       1        0   \n",
       "4 2001-07-13 08:00:00        0         loan   14553       1        1   \n",
       "\n",
       "   events_ordinal_number  loan_ordinal_number  \n",
       "0                      1                  1.0  \n",
       "1                      2                  1.0  \n",
       "2                      3                  1.0  \n",
       "3                      4                  2.0  \n",
       "4                      5                  2.0  "
      ]
     },
     "execution_count": 12,
     "metadata": {},
     "output_type": "execute_result"
    }
   ],
   "source": [
    "calculate_loan_number(df).head()"
   ]
  },
  {
   "cell_type": "markdown",
   "metadata": {},
   "source": [
    "#### Признак `events_time_diff`"
   ]
  },
  {
   "cell_type": "code",
   "execution_count": 13,
   "metadata": {
    "ExecuteTime": {
     "end_time": "2022-01-31T03:51:25.018203Z",
     "start_time": "2022-01-31T03:51:25.014557Z"
    }
   },
   "outputs": [],
   "source": [
    "# весь код расчета признака должен быть в этом методе\n",
    "def calculate_time_diff(df):\n",
    "# Приводим формат времени к datetime\n",
    "    df['time']=pd.to_datetime(df['time'], format=\"%Y-%m-%d %H:%M:%S\") \n",
    "# Укажем, как считать events_time_diff\n",
    "    df['events_time_diff']=df.groupby(['user_id'])['time'].diff()\n",
    "\n",
    "    return df"
   ]
  },
  {
   "cell_type": "code",
   "execution_count": 14,
   "metadata": {},
   "outputs": [
    {
     "data": {
      "text/html": [
       "<div>\n",
       "<style scoped>\n",
       "    .dataframe tbody tr th:only-of-type {\n",
       "        vertical-align: middle;\n",
       "    }\n",
       "\n",
       "    .dataframe tbody tr th {\n",
       "        vertical-align: top;\n",
       "    }\n",
       "\n",
       "    .dataframe thead th {\n",
       "        text-align: right;\n",
       "    }\n",
       "</style>\n",
       "<table border=\"1\" class=\"dataframe\">\n",
       "  <thead>\n",
       "    <tr style=\"text-align: right;\">\n",
       "      <th></th>\n",
       "      <th>time</th>\n",
       "      <th>user_id</th>\n",
       "      <th>type</th>\n",
       "      <th>amount</th>\n",
       "      <th>target</th>\n",
       "      <th>is_loan</th>\n",
       "      <th>events_ordinal_number</th>\n",
       "      <th>events_time_diff</th>\n",
       "    </tr>\n",
       "  </thead>\n",
       "  <tbody>\n",
       "    <tr>\n",
       "      <th>0</th>\n",
       "      <td>2001-01-01 00:00:00</td>\n",
       "      <td>673</td>\n",
       "      <td>loan</td>\n",
       "      <td>14331</td>\n",
       "      <td>0</td>\n",
       "      <td>1</td>\n",
       "      <td>1</td>\n",
       "      <td>NaT</td>\n",
       "    </tr>\n",
       "    <tr>\n",
       "      <th>1</th>\n",
       "      <td>2001-01-01 01:00:00</td>\n",
       "      <td>968</td>\n",
       "      <td>loanRequest</td>\n",
       "      <td>15905</td>\n",
       "      <td>0</td>\n",
       "      <td>0</td>\n",
       "      <td>1</td>\n",
       "      <td>NaT</td>\n",
       "    </tr>\n",
       "    <tr>\n",
       "      <th>2</th>\n",
       "      <td>2001-01-01 02:00:00</td>\n",
       "      <td>536</td>\n",
       "      <td>loanRequest</td>\n",
       "      <td>15281</td>\n",
       "      <td>1</td>\n",
       "      <td>0</td>\n",
       "      <td>1</td>\n",
       "      <td>NaT</td>\n",
       "    </tr>\n",
       "    <tr>\n",
       "      <th>3</th>\n",
       "      <td>2001-01-01 03:00:00</td>\n",
       "      <td>742</td>\n",
       "      <td>loanRequest</td>\n",
       "      <td>11475</td>\n",
       "      <td>1</td>\n",
       "      <td>0</td>\n",
       "      <td>1</td>\n",
       "      <td>NaT</td>\n",
       "    </tr>\n",
       "    <tr>\n",
       "      <th>4</th>\n",
       "      <td>2001-01-01 04:00:00</td>\n",
       "      <td>20</td>\n",
       "      <td>loanRequest</td>\n",
       "      <td>17310</td>\n",
       "      <td>0</td>\n",
       "      <td>0</td>\n",
       "      <td>1</td>\n",
       "      <td>NaT</td>\n",
       "    </tr>\n",
       "  </tbody>\n",
       "</table>\n",
       "</div>"
      ],
      "text/plain": [
       "                 time  user_id         type  amount  target  is_loan  \\\n",
       "0 2001-01-01 00:00:00      673         loan   14331       0        1   \n",
       "1 2001-01-01 01:00:00      968  loanRequest   15905       0        0   \n",
       "2 2001-01-01 02:00:00      536  loanRequest   15281       1        0   \n",
       "3 2001-01-01 03:00:00      742  loanRequest   11475       1        0   \n",
       "4 2001-01-01 04:00:00       20  loanRequest   17310       0        0   \n",
       "\n",
       "   events_ordinal_number events_time_diff  \n",
       "0                      1              NaT  \n",
       "1                      1              NaT  \n",
       "2                      1              NaT  \n",
       "3                      1              NaT  \n",
       "4                      1              NaT  "
      ]
     },
     "execution_count": 14,
     "metadata": {},
     "output_type": "execute_result"
    }
   ],
   "source": [
    "calculate_time_diff(df).head()"
   ]
  },
  {
   "cell_type": "markdown",
   "metadata": {},
   "source": [
    "#### Признак `previous_loans_max_amount`"
   ]
  },
  {
   "cell_type": "code",
   "execution_count": 15,
   "metadata": {
    "ExecuteTime": {
     "end_time": "2022-01-31T03:51:26.966306Z",
     "start_time": "2022-01-31T03:51:26.961723Z"
    }
   },
   "outputs": [],
   "source": [
    "# весь код расчета признака должен быть в этом методе\n",
    "def calculate_previous_max_amount(df):\n",
    "\n",
    "    df['previous_loans_max_amount'] =  df.groupby('user_id')['amount'].expanding(1).max().reset_index(level=0, drop=True).shift(1)\n",
    "\n",
    "    return df"
   ]
  },
  {
   "cell_type": "code",
   "execution_count": 16,
   "metadata": {
    "scrolled": true
   },
   "outputs": [
    {
     "data": {
      "text/html": [
       "<div>\n",
       "<style scoped>\n",
       "    .dataframe tbody tr th:only-of-type {\n",
       "        vertical-align: middle;\n",
       "    }\n",
       "\n",
       "    .dataframe tbody tr th {\n",
       "        vertical-align: top;\n",
       "    }\n",
       "\n",
       "    .dataframe thead th {\n",
       "        text-align: right;\n",
       "    }\n",
       "</style>\n",
       "<table border=\"1\" class=\"dataframe\">\n",
       "  <thead>\n",
       "    <tr style=\"text-align: right;\">\n",
       "      <th></th>\n",
       "      <th>time</th>\n",
       "      <th>user_id</th>\n",
       "      <th>type</th>\n",
       "      <th>amount</th>\n",
       "      <th>target</th>\n",
       "      <th>is_loan</th>\n",
       "      <th>events_ordinal_number</th>\n",
       "      <th>events_time_diff</th>\n",
       "      <th>previous_loans_max_amount</th>\n",
       "    </tr>\n",
       "  </thead>\n",
       "  <tbody>\n",
       "    <tr>\n",
       "      <th>0</th>\n",
       "      <td>2001-01-01 00:00:00</td>\n",
       "      <td>673</td>\n",
       "      <td>loan</td>\n",
       "      <td>14331</td>\n",
       "      <td>0</td>\n",
       "      <td>1</td>\n",
       "      <td>1</td>\n",
       "      <td>NaT</td>\n",
       "      <td>17237.0</td>\n",
       "    </tr>\n",
       "    <tr>\n",
       "      <th>1</th>\n",
       "      <td>2001-01-01 01:00:00</td>\n",
       "      <td>968</td>\n",
       "      <td>loanRequest</td>\n",
       "      <td>15905</td>\n",
       "      <td>0</td>\n",
       "      <td>0</td>\n",
       "      <td>1</td>\n",
       "      <td>NaT</td>\n",
       "      <td>16413.0</td>\n",
       "    </tr>\n",
       "    <tr>\n",
       "      <th>2</th>\n",
       "      <td>2001-01-01 02:00:00</td>\n",
       "      <td>536</td>\n",
       "      <td>loanRequest</td>\n",
       "      <td>15281</td>\n",
       "      <td>1</td>\n",
       "      <td>0</td>\n",
       "      <td>1</td>\n",
       "      <td>NaT</td>\n",
       "      <td>16341.0</td>\n",
       "    </tr>\n",
       "    <tr>\n",
       "      <th>3</th>\n",
       "      <td>2001-01-01 03:00:00</td>\n",
       "      <td>742</td>\n",
       "      <td>loanRequest</td>\n",
       "      <td>11475</td>\n",
       "      <td>1</td>\n",
       "      <td>0</td>\n",
       "      <td>1</td>\n",
       "      <td>NaT</td>\n",
       "      <td>16447.0</td>\n",
       "    </tr>\n",
       "    <tr>\n",
       "      <th>4</th>\n",
       "      <td>2001-01-01 04:00:00</td>\n",
       "      <td>20</td>\n",
       "      <td>loanRequest</td>\n",
       "      <td>17310</td>\n",
       "      <td>0</td>\n",
       "      <td>0</td>\n",
       "      <td>1</td>\n",
       "      <td>NaT</td>\n",
       "      <td>16661.0</td>\n",
       "    </tr>\n",
       "  </tbody>\n",
       "</table>\n",
       "</div>"
      ],
      "text/plain": [
       "                 time  user_id         type  amount  target  is_loan  \\\n",
       "0 2001-01-01 00:00:00      673         loan   14331       0        1   \n",
       "1 2001-01-01 01:00:00      968  loanRequest   15905       0        0   \n",
       "2 2001-01-01 02:00:00      536  loanRequest   15281       1        0   \n",
       "3 2001-01-01 03:00:00      742  loanRequest   11475       1        0   \n",
       "4 2001-01-01 04:00:00       20  loanRequest   17310       0        0   \n",
       "\n",
       "   events_ordinal_number events_time_diff  previous_loans_max_amount  \n",
       "0                      1              NaT                    17237.0  \n",
       "1                      1              NaT                    16413.0  \n",
       "2                      1              NaT                    16341.0  \n",
       "3                      1              NaT                    16447.0  \n",
       "4                      1              NaT                    16661.0  "
      ]
     },
     "execution_count": 16,
     "metadata": {},
     "output_type": "execute_result"
    }
   ],
   "source": [
    "calculate_previous_max_amount(df).head()"
   ]
  },
  {
   "cell_type": "markdown",
   "metadata": {},
   "source": [
    "##### При применении функций новый столбец появляется. Но он не всегда присоединяется к датафрейму. Для более надёжного результата лучше использовать \n",
    "\n",
    "df=calculate_events_number(df)\n",
    "\n",
    "df=calculate_second_event_time(df)\n",
    "\n",
    "df=calculate_loan_number(df)\n",
    "\n",
    "df=calculate_time_diff(df)\n",
    "\n",
    "df=calculate_previous_max_amount(df)"
   ]
  },
  {
   "cell_type": "markdown",
   "metadata": {},
   "source": [
    "### Сохранение итогового датасета с признаками\n",
    "\n",
    "Этот код трогать не нужно."
   ]
  },
  {
   "cell_type": "code",
   "execution_count": 17,
   "metadata": {
    "ExecuteTime": {
     "end_time": "2022-01-31T03:51:29.334833Z",
     "start_time": "2022-01-31T03:51:29.331495Z"
    }
   },
   "outputs": [],
   "source": [
    "def calculate_feature(df):\n",
    "    calculate_events_number(df)\n",
    "    calculate_second_event_time(df)\n",
    "    calculate_loan_number(df)\n",
    "    calculate_time_diff(df)\n",
    "    calculate_previous_max_amount(df)\n",
    "    "
   ]
  },
  {
   "cell_type": "code",
   "execution_count": null,
   "metadata": {},
   "outputs": [],
   "source": [
    "df"
   ]
  },
  {
   "cell_type": "code",
   "execution_count": 19,
   "metadata": {
    "ExecuteTime": {
     "end_time": "2022-01-31T03:53:20.750966Z",
     "start_time": "2022-01-31T03:53:17.888812Z"
    }
   },
   "outputs": [
    {
     "name": "stdout",
     "output_type": "stream",
     "text": [
      "419 ms ± 10 ms per loop (mean ± std. dev. of 7 runs, 1 loop each)\n"
     ]
    },
    {
     "data": {
      "text/plain": [
       "<TimeitResult : 419 ms ± 10 ms per loop (mean ± std. dev. of 7 runs, 1 loop each)>"
      ]
     },
     "execution_count": 19,
     "metadata": {},
     "output_type": "execute_result"
    }
   ],
   "source": [
    "%%timeit -o \n",
    "calculate_feature(df)"
   ]
  },
  {
   "cell_type": "code",
   "execution_count": 20,
   "metadata": {
    "ExecuteTime": {
     "end_time": "2022-01-31T03:53:22.588760Z",
     "start_time": "2022-01-31T03:53:22.583736Z"
    }
   },
   "outputs": [],
   "source": [
    "columns = ['time']\n",
    "rez = _\n",
    "df_time = pd.DataFrame([rez], None, columns)\n",
    "df_time.to_csv('time.csv', index=False)"
   ]
  },
  {
   "cell_type": "code",
   "execution_count": 21,
   "metadata": {
    "ExecuteTime": {
     "end_time": "2022-01-27T10:22:50.404760Z",
     "start_time": "2022-01-27T10:22:50.349771Z"
    }
   },
   "outputs": [],
   "source": [
    "df.to_csv('test.csv', index=False)"
   ]
  }
 ],
 "metadata": {
  "kernelspec": {
   "display_name": "Python 3",
   "language": "python",
   "name": "python3"
  },
  "language_info": {
   "codemirror_mode": {
    "name": "ipython",
    "version": 3
   },
   "file_extension": ".py",
   "mimetype": "text/x-python",
   "name": "python",
   "nbconvert_exporter": "python",
   "pygments_lexer": "ipython3",
   "version": "3.8.10"
  },
  "varInspector": {
   "cols": {
    "lenName": 16,
    "lenType": 16,
    "lenVar": 40
   },
   "kernels_config": {
    "python": {
     "delete_cmd_postfix": "",
     "delete_cmd_prefix": "del ",
     "library": "var_list.py",
     "varRefreshCmd": "print(var_dic_list())"
    },
    "r": {
     "delete_cmd_postfix": ") ",
     "delete_cmd_prefix": "rm(",
     "library": "var_list.r",
     "varRefreshCmd": "cat(var_dic_list()) "
    }
   },
   "types_to_exclude": [
    "module",
    "function",
    "builtin_function_or_method",
    "instance",
    "_Feature"
   ],
   "window_display": false
  }
 },
 "nbformat": 4,
 "nbformat_minor": 4
}
